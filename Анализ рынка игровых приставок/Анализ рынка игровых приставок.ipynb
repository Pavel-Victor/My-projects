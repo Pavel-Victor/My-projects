{
 "cells": [
  {
   "cell_type": "markdown",
   "metadata": {},
   "source": [
    "## Вводная информация\n",
    "\n",
    "Для исследования интернет магазином компьютерных игр предоставлена информация о продажа игр на разных платформах и в разных регионах за период 1980 - 2016 года. В данных присутствуют также рейтинги игр и ограничения по просмотрам.\n",
    "\n",
    "Поставлена задача анализ данных по платформам игр, оценить средний срок жизни платформы, найти наиболее успешные платформы.\n",
    "Необходимо составить портрет пользователей по разным регионам, указать на их общее поведение и различие.\n",
    "Интересуют корреляции между рейтигами и объемами продаж.\n",
    "\n",
    "На основе этих данных предлагалось сделать предпосылки и подготовить данные для прогноза на 2017 год.\n",
    "\n",
    "Дополнительно были сформулированы гипотезы о одинаковости пользовательских рейтингах различных платформ и о различии пользовательских рейтингов различных жанров.\n",
    "\n",
    "Ответы на все поставленные вопросы получены в ходе работы и обобщены в конце работы в выводах.\n",
    "\n"
   ]
  },
  {
   "cell_type": "code",
   "execution_count": 113,
   "metadata": {},
   "outputs": [],
   "source": [
    "import pandas as pd\n",
    "import math\n",
    "import numpy as np\n",
    "import matplotlib.pyplot as plt\n",
    "from scipy import stats as st\n",
    "import warnings\n",
    "import pylab\n",
    "\n",
    "warnings.simplefilter('ignore')"
   ]
  },
  {
   "cell_type": "markdown",
   "metadata": {},
   "source": [
    "## Чтение, знакомство и приведение в порядок данных"
   ]
  },
  {
   "cell_type": "code",
   "execution_count": 114,
   "metadata": {},
   "outputs": [
    {
     "data": {
      "text/html": [
       "<div>\n",
       "<style scoped>\n",
       "    .dataframe tbody tr th:only-of-type {\n",
       "        vertical-align: middle;\n",
       "    }\n",
       "\n",
       "    .dataframe tbody tr th {\n",
       "        vertical-align: top;\n",
       "    }\n",
       "\n",
       "    .dataframe thead th {\n",
       "        text-align: right;\n",
       "    }\n",
       "</style>\n",
       "<table border=\"1\" class=\"dataframe\">\n",
       "  <thead>\n",
       "    <tr style=\"text-align: right;\">\n",
       "      <th></th>\n",
       "      <th>Name</th>\n",
       "      <th>Platform</th>\n",
       "      <th>Year_of_Release</th>\n",
       "      <th>Genre</th>\n",
       "      <th>NA_sales</th>\n",
       "      <th>EU_sales</th>\n",
       "      <th>JP_sales</th>\n",
       "      <th>Other_sales</th>\n",
       "      <th>Critic_Score</th>\n",
       "      <th>User_Score</th>\n",
       "      <th>Rating</th>\n",
       "    </tr>\n",
       "  </thead>\n",
       "  <tbody>\n",
       "    <tr>\n",
       "      <td>0</td>\n",
       "      <td>Wii Sports</td>\n",
       "      <td>Wii</td>\n",
       "      <td>2006.0</td>\n",
       "      <td>Sports</td>\n",
       "      <td>41.36</td>\n",
       "      <td>28.96</td>\n",
       "      <td>3.77</td>\n",
       "      <td>8.45</td>\n",
       "      <td>76.0</td>\n",
       "      <td>8</td>\n",
       "      <td>E</td>\n",
       "    </tr>\n",
       "    <tr>\n",
       "      <td>1</td>\n",
       "      <td>Super Mario Bros.</td>\n",
       "      <td>NES</td>\n",
       "      <td>1985.0</td>\n",
       "      <td>Platform</td>\n",
       "      <td>29.08</td>\n",
       "      <td>3.58</td>\n",
       "      <td>6.81</td>\n",
       "      <td>0.77</td>\n",
       "      <td>NaN</td>\n",
       "      <td>NaN</td>\n",
       "      <td>NaN</td>\n",
       "    </tr>\n",
       "    <tr>\n",
       "      <td>2</td>\n",
       "      <td>Mario Kart Wii</td>\n",
       "      <td>Wii</td>\n",
       "      <td>2008.0</td>\n",
       "      <td>Racing</td>\n",
       "      <td>15.68</td>\n",
       "      <td>12.76</td>\n",
       "      <td>3.79</td>\n",
       "      <td>3.29</td>\n",
       "      <td>82.0</td>\n",
       "      <td>8.3</td>\n",
       "      <td>E</td>\n",
       "    </tr>\n",
       "    <tr>\n",
       "      <td>3</td>\n",
       "      <td>Wii Sports Resort</td>\n",
       "      <td>Wii</td>\n",
       "      <td>2009.0</td>\n",
       "      <td>Sports</td>\n",
       "      <td>15.61</td>\n",
       "      <td>10.93</td>\n",
       "      <td>3.28</td>\n",
       "      <td>2.95</td>\n",
       "      <td>80.0</td>\n",
       "      <td>8</td>\n",
       "      <td>E</td>\n",
       "    </tr>\n",
       "    <tr>\n",
       "      <td>4</td>\n",
       "      <td>Pokemon Red/Pokemon Blue</td>\n",
       "      <td>GB</td>\n",
       "      <td>1996.0</td>\n",
       "      <td>Role-Playing</td>\n",
       "      <td>11.27</td>\n",
       "      <td>8.89</td>\n",
       "      <td>10.22</td>\n",
       "      <td>1.00</td>\n",
       "      <td>NaN</td>\n",
       "      <td>NaN</td>\n",
       "      <td>NaN</td>\n",
       "    </tr>\n",
       "    <tr>\n",
       "      <td>...</td>\n",
       "      <td>...</td>\n",
       "      <td>...</td>\n",
       "      <td>...</td>\n",
       "      <td>...</td>\n",
       "      <td>...</td>\n",
       "      <td>...</td>\n",
       "      <td>...</td>\n",
       "      <td>...</td>\n",
       "      <td>...</td>\n",
       "      <td>...</td>\n",
       "      <td>...</td>\n",
       "    </tr>\n",
       "    <tr>\n",
       "      <td>16710</td>\n",
       "      <td>Samurai Warriors: Sanada Maru</td>\n",
       "      <td>PS3</td>\n",
       "      <td>2016.0</td>\n",
       "      <td>Action</td>\n",
       "      <td>0.00</td>\n",
       "      <td>0.00</td>\n",
       "      <td>0.01</td>\n",
       "      <td>0.00</td>\n",
       "      <td>NaN</td>\n",
       "      <td>NaN</td>\n",
       "      <td>NaN</td>\n",
       "    </tr>\n",
       "    <tr>\n",
       "      <td>16711</td>\n",
       "      <td>LMA Manager 2007</td>\n",
       "      <td>X360</td>\n",
       "      <td>2006.0</td>\n",
       "      <td>Sports</td>\n",
       "      <td>0.00</td>\n",
       "      <td>0.01</td>\n",
       "      <td>0.00</td>\n",
       "      <td>0.00</td>\n",
       "      <td>NaN</td>\n",
       "      <td>NaN</td>\n",
       "      <td>NaN</td>\n",
       "    </tr>\n",
       "    <tr>\n",
       "      <td>16712</td>\n",
       "      <td>Haitaka no Psychedelica</td>\n",
       "      <td>PSV</td>\n",
       "      <td>2016.0</td>\n",
       "      <td>Adventure</td>\n",
       "      <td>0.00</td>\n",
       "      <td>0.00</td>\n",
       "      <td>0.01</td>\n",
       "      <td>0.00</td>\n",
       "      <td>NaN</td>\n",
       "      <td>NaN</td>\n",
       "      <td>NaN</td>\n",
       "    </tr>\n",
       "    <tr>\n",
       "      <td>16713</td>\n",
       "      <td>Spirits &amp; Spells</td>\n",
       "      <td>GBA</td>\n",
       "      <td>2003.0</td>\n",
       "      <td>Platform</td>\n",
       "      <td>0.01</td>\n",
       "      <td>0.00</td>\n",
       "      <td>0.00</td>\n",
       "      <td>0.00</td>\n",
       "      <td>NaN</td>\n",
       "      <td>NaN</td>\n",
       "      <td>NaN</td>\n",
       "    </tr>\n",
       "    <tr>\n",
       "      <td>16714</td>\n",
       "      <td>Winning Post 8 2016</td>\n",
       "      <td>PSV</td>\n",
       "      <td>2016.0</td>\n",
       "      <td>Simulation</td>\n",
       "      <td>0.00</td>\n",
       "      <td>0.00</td>\n",
       "      <td>0.01</td>\n",
       "      <td>0.00</td>\n",
       "      <td>NaN</td>\n",
       "      <td>NaN</td>\n",
       "      <td>NaN</td>\n",
       "    </tr>\n",
       "  </tbody>\n",
       "</table>\n",
       "<p>16715 rows × 11 columns</p>\n",
       "</div>"
      ],
      "text/plain": [
       "                                Name Platform  Year_of_Release         Genre  \\\n",
       "0                         Wii Sports      Wii           2006.0        Sports   \n",
       "1                  Super Mario Bros.      NES           1985.0      Platform   \n",
       "2                     Mario Kart Wii      Wii           2008.0        Racing   \n",
       "3                  Wii Sports Resort      Wii           2009.0        Sports   \n",
       "4           Pokemon Red/Pokemon Blue       GB           1996.0  Role-Playing   \n",
       "...                              ...      ...              ...           ...   \n",
       "16710  Samurai Warriors: Sanada Maru      PS3           2016.0        Action   \n",
       "16711               LMA Manager 2007     X360           2006.0        Sports   \n",
       "16712        Haitaka no Psychedelica      PSV           2016.0     Adventure   \n",
       "16713               Spirits & Spells      GBA           2003.0      Platform   \n",
       "16714            Winning Post 8 2016      PSV           2016.0    Simulation   \n",
       "\n",
       "       NA_sales  EU_sales  JP_sales  Other_sales  Critic_Score User_Score  \\\n",
       "0         41.36     28.96      3.77         8.45          76.0          8   \n",
       "1         29.08      3.58      6.81         0.77           NaN        NaN   \n",
       "2         15.68     12.76      3.79         3.29          82.0        8.3   \n",
       "3         15.61     10.93      3.28         2.95          80.0          8   \n",
       "4         11.27      8.89     10.22         1.00           NaN        NaN   \n",
       "...         ...       ...       ...          ...           ...        ...   \n",
       "16710      0.00      0.00      0.01         0.00           NaN        NaN   \n",
       "16711      0.00      0.01      0.00         0.00           NaN        NaN   \n",
       "16712      0.00      0.00      0.01         0.00           NaN        NaN   \n",
       "16713      0.01      0.00      0.00         0.00           NaN        NaN   \n",
       "16714      0.00      0.00      0.01         0.00           NaN        NaN   \n",
       "\n",
       "      Rating  \n",
       "0          E  \n",
       "1        NaN  \n",
       "2          E  \n",
       "3          E  \n",
       "4        NaN  \n",
       "...      ...  \n",
       "16710    NaN  \n",
       "16711    NaN  \n",
       "16712    NaN  \n",
       "16713    NaN  \n",
       "16714    NaN  \n",
       "\n",
       "[16715 rows x 11 columns]"
      ]
     },
     "metadata": {},
     "output_type": "display_data"
    },
    {
     "name": "stdout",
     "output_type": "stream",
     "text": [
      "<class 'pandas.core.frame.DataFrame'>\n",
      "RangeIndex: 16715 entries, 0 to 16714\n",
      "Data columns (total 11 columns):\n",
      "Name               16713 non-null object\n",
      "Platform           16715 non-null object\n",
      "Year_of_Release    16446 non-null float64\n",
      "Genre              16713 non-null object\n",
      "NA_sales           16715 non-null float64\n",
      "EU_sales           16715 non-null float64\n",
      "JP_sales           16715 non-null float64\n",
      "Other_sales        16715 non-null float64\n",
      "Critic_Score       8137 non-null float64\n",
      "User_Score         10014 non-null object\n",
      "Rating             9949 non-null object\n",
      "dtypes: float64(6), object(5)\n",
      "memory usage: 1.4+ MB\n"
     ]
    }
   ],
   "source": [
    "games = pd.read_csv('/datasets/games.csv')\n",
    "display(games)\n",
    "games.info()"
   ]
  },
  {
   "cell_type": "markdown",
   "metadata": {},
   "source": [
    "Данные прочитались сразу, с разделителями возиться не надо.\n",
    "\n",
    "Всего данных 16715 строк. С первого взгляда можно сделать следующие предварительные выводы:\n",
    "- у двух игр нет имени. Посмотрим, но скорее всего надо будет их выкинуть, в этих данных нет главного.\n",
    "- год выпуска имеет много пропусков. Теоретически, его можно восстановить из интернета, но не хватает около 150 данных,это не ручная работа. Надо разбираться.\n",
    "- оценки критиков, пользователей и ESRB , оценено чуть больше половины. Можно предположить, что оценки есть у наиболее популярных игр и их нет у тех, которые не вызвали интерес.\n",
    "\n",
    "Для начала заменим заголовки столбцов и проверим на дубликаты всю таблицу"
   ]
  },
  {
   "cell_type": "code",
   "execution_count": 115,
   "metadata": {
    "scrolled": true
   },
   "outputs": [
    {
     "data": {
      "text/html": [
       "<div>\n",
       "<style scoped>\n",
       "    .dataframe tbody tr th:only-of-type {\n",
       "        vertical-align: middle;\n",
       "    }\n",
       "\n",
       "    .dataframe tbody tr th {\n",
       "        vertical-align: top;\n",
       "    }\n",
       "\n",
       "    .dataframe thead th {\n",
       "        text-align: right;\n",
       "    }\n",
       "</style>\n",
       "<table border=\"1\" class=\"dataframe\">\n",
       "  <thead>\n",
       "    <tr style=\"text-align: right;\">\n",
       "      <th></th>\n",
       "      <th>name</th>\n",
       "      <th>platform</th>\n",
       "      <th>year_of_release</th>\n",
       "      <th>genre</th>\n",
       "      <th>na_sales</th>\n",
       "      <th>eu_sales</th>\n",
       "      <th>jp_sales</th>\n",
       "      <th>other_sales</th>\n",
       "      <th>critic_score</th>\n",
       "      <th>user_score</th>\n",
       "      <th>rating</th>\n",
       "    </tr>\n",
       "  </thead>\n",
       "  <tbody>\n",
       "    <tr>\n",
       "      <td>0</td>\n",
       "      <td>Wii Sports</td>\n",
       "      <td>Wii</td>\n",
       "      <td>2006.0</td>\n",
       "      <td>Sports</td>\n",
       "      <td>41.36</td>\n",
       "      <td>28.96</td>\n",
       "      <td>3.77</td>\n",
       "      <td>8.45</td>\n",
       "      <td>76.0</td>\n",
       "      <td>8</td>\n",
       "      <td>E</td>\n",
       "    </tr>\n",
       "    <tr>\n",
       "      <td>1</td>\n",
       "      <td>Super Mario Bros.</td>\n",
       "      <td>NES</td>\n",
       "      <td>1985.0</td>\n",
       "      <td>Platform</td>\n",
       "      <td>29.08</td>\n",
       "      <td>3.58</td>\n",
       "      <td>6.81</td>\n",
       "      <td>0.77</td>\n",
       "      <td>NaN</td>\n",
       "      <td>NaN</td>\n",
       "      <td>NaN</td>\n",
       "    </tr>\n",
       "    <tr>\n",
       "      <td>2</td>\n",
       "      <td>Mario Kart Wii</td>\n",
       "      <td>Wii</td>\n",
       "      <td>2008.0</td>\n",
       "      <td>Racing</td>\n",
       "      <td>15.68</td>\n",
       "      <td>12.76</td>\n",
       "      <td>3.79</td>\n",
       "      <td>3.29</td>\n",
       "      <td>82.0</td>\n",
       "      <td>8.3</td>\n",
       "      <td>E</td>\n",
       "    </tr>\n",
       "    <tr>\n",
       "      <td>3</td>\n",
       "      <td>Wii Sports Resort</td>\n",
       "      <td>Wii</td>\n",
       "      <td>2009.0</td>\n",
       "      <td>Sports</td>\n",
       "      <td>15.61</td>\n",
       "      <td>10.93</td>\n",
       "      <td>3.28</td>\n",
       "      <td>2.95</td>\n",
       "      <td>80.0</td>\n",
       "      <td>8</td>\n",
       "      <td>E</td>\n",
       "    </tr>\n",
       "    <tr>\n",
       "      <td>4</td>\n",
       "      <td>Pokemon Red/Pokemon Blue</td>\n",
       "      <td>GB</td>\n",
       "      <td>1996.0</td>\n",
       "      <td>Role-Playing</td>\n",
       "      <td>11.27</td>\n",
       "      <td>8.89</td>\n",
       "      <td>10.22</td>\n",
       "      <td>1.00</td>\n",
       "      <td>NaN</td>\n",
       "      <td>NaN</td>\n",
       "      <td>NaN</td>\n",
       "    </tr>\n",
       "  </tbody>\n",
       "</table>\n",
       "</div>"
      ],
      "text/plain": [
       "                       name platform  year_of_release         genre  na_sales  \\\n",
       "0                Wii Sports      Wii           2006.0        Sports     41.36   \n",
       "1         Super Mario Bros.      NES           1985.0      Platform     29.08   \n",
       "2            Mario Kart Wii      Wii           2008.0        Racing     15.68   \n",
       "3         Wii Sports Resort      Wii           2009.0        Sports     15.61   \n",
       "4  Pokemon Red/Pokemon Blue       GB           1996.0  Role-Playing     11.27   \n",
       "\n",
       "   eu_sales  jp_sales  other_sales  critic_score user_score rating  \n",
       "0     28.96      3.77         8.45          76.0          8      E  \n",
       "1      3.58      6.81         0.77           NaN        NaN    NaN  \n",
       "2     12.76      3.79         3.29          82.0        8.3      E  \n",
       "3     10.93      3.28         2.95          80.0          8      E  \n",
       "4      8.89     10.22         1.00           NaN        NaN    NaN  "
      ]
     },
     "metadata": {},
     "output_type": "display_data"
    },
    {
     "data": {
      "text/plain": [
       "'Строка дубликатов'"
      ]
     },
     "metadata": {},
     "output_type": "display_data"
    },
    {
     "data": {
      "text/plain": [
       "array([False])"
      ]
     },
     "metadata": {},
     "output_type": "display_data"
    }
   ],
   "source": [
    "games.columns = games.columns.str.lower()\n",
    "display(games.head())\n",
    "display( 'Строка дубликатов',games.duplicated().unique())"
   ]
  },
  {
   "cell_type": "code",
   "execution_count": 116,
   "metadata": {},
   "outputs": [
    {
     "data": {
      "text/plain": [
       "rating\n",
       "E       710.25\n",
       "M       483.97\n",
       "T       427.03\n",
       "E10+    188.52\n",
       "AO        0.61\n",
       "K-A       0.27\n",
       "EC        0.11\n",
       "RP        0.08\n",
       "Name: eu_sales, dtype: float64"
      ]
     },
     "metadata": {},
     "output_type": "display_data"
    }
   ],
   "source": [
    "display(games.groupby('rating')['eu_sales'].sum().sort_values(ascending= False))"
   ]
  },
  {
   "cell_type": "markdown",
   "metadata": {},
   "source": [
    "Дублированных строк нет. Найдем, какие проблемы с именами игр"
   ]
  },
  {
   "cell_type": "code",
   "execution_count": 117,
   "metadata": {},
   "outputs": [
    {
     "data": {
      "text/html": [
       "<div>\n",
       "<style scoped>\n",
       "    .dataframe tbody tr th:only-of-type {\n",
       "        vertical-align: middle;\n",
       "    }\n",
       "\n",
       "    .dataframe tbody tr th {\n",
       "        vertical-align: top;\n",
       "    }\n",
       "\n",
       "    .dataframe thead th {\n",
       "        text-align: right;\n",
       "    }\n",
       "</style>\n",
       "<table border=\"1\" class=\"dataframe\">\n",
       "  <thead>\n",
       "    <tr style=\"text-align: right;\">\n",
       "      <th></th>\n",
       "      <th>name</th>\n",
       "      <th>platform</th>\n",
       "      <th>year_of_release</th>\n",
       "      <th>genre</th>\n",
       "      <th>na_sales</th>\n",
       "      <th>eu_sales</th>\n",
       "      <th>jp_sales</th>\n",
       "      <th>other_sales</th>\n",
       "      <th>critic_score</th>\n",
       "      <th>user_score</th>\n",
       "      <th>rating</th>\n",
       "    </tr>\n",
       "  </thead>\n",
       "  <tbody>\n",
       "    <tr>\n",
       "      <td>659</td>\n",
       "      <td>NaN</td>\n",
       "      <td>GEN</td>\n",
       "      <td>1993.0</td>\n",
       "      <td>NaN</td>\n",
       "      <td>1.78</td>\n",
       "      <td>0.53</td>\n",
       "      <td>0.00</td>\n",
       "      <td>0.08</td>\n",
       "      <td>NaN</td>\n",
       "      <td>NaN</td>\n",
       "      <td>NaN</td>\n",
       "    </tr>\n",
       "    <tr>\n",
       "      <td>14244</td>\n",
       "      <td>NaN</td>\n",
       "      <td>GEN</td>\n",
       "      <td>1993.0</td>\n",
       "      <td>NaN</td>\n",
       "      <td>0.00</td>\n",
       "      <td>0.00</td>\n",
       "      <td>0.03</td>\n",
       "      <td>0.00</td>\n",
       "      <td>NaN</td>\n",
       "      <td>NaN</td>\n",
       "      <td>NaN</td>\n",
       "    </tr>\n",
       "  </tbody>\n",
       "</table>\n",
       "</div>"
      ],
      "text/plain": [
       "      name platform  year_of_release genre  na_sales  eu_sales  jp_sales  \\\n",
       "659    NaN      GEN           1993.0   NaN      1.78      0.53      0.00   \n",
       "14244  NaN      GEN           1993.0   NaN      0.00      0.00      0.03   \n",
       "\n",
       "       other_sales  critic_score user_score rating  \n",
       "659           0.08           NaN        NaN    NaN  \n",
       "14244         0.00           NaN        NaN    NaN  "
      ]
     },
     "metadata": {},
     "output_type": "display_data"
    }
   ],
   "source": [
    "display(games.loc[games['name'].isnull()])"
   ]
  },
  {
   "cell_type": "markdown",
   "metadata": {},
   "source": [
    "Восстановить имя невозможно, а без имени как-то не прилично. Удалим две строки."
   ]
  },
  {
   "cell_type": "code",
   "execution_count": 118,
   "metadata": {
    "scrolled": true
   },
   "outputs": [
    {
     "name": "stdout",
     "output_type": "stream",
     "text": [
      "<class 'pandas.core.frame.DataFrame'>\n",
      "Int64Index: 16713 entries, 0 to 16714\n",
      "Data columns (total 11 columns):\n",
      "name               16713 non-null object\n",
      "platform           16713 non-null object\n",
      "year_of_release    16444 non-null float64\n",
      "genre              16713 non-null object\n",
      "na_sales           16713 non-null float64\n",
      "eu_sales           16713 non-null float64\n",
      "jp_sales           16713 non-null float64\n",
      "other_sales        16713 non-null float64\n",
      "critic_score       8137 non-null float64\n",
      "user_score         10014 non-null object\n",
      "rating             9949 non-null object\n",
      "dtypes: float64(6), object(5)\n",
      "memory usage: 1.5+ MB\n"
     ]
    }
   ],
   "source": [
    "games = games.drop(games.loc[games['name'].isnull()].index)\n",
    "games.info()"
   ]
  },
  {
   "cell_type": "markdown",
   "metadata": {},
   "source": [
    "Убрали две строки.\n",
    "\n",
    "Посмотрим, что находится в данных типа object  и как их преобразовывать или использовать."
   ]
  },
  {
   "cell_type": "code",
   "execution_count": 119,
   "metadata": {},
   "outputs": [
    {
     "data": {
      "text/plain": [
       "array(['E', nan, 'M', 'T', 'E10+', 'K-A', 'AO', 'EC', 'RP'], dtype=object)"
      ]
     },
     "metadata": {},
     "output_type": "display_data"
    },
    {
     "data": {
      "text/plain": [
       "array(['8', nan, '8.3', '8.5', '6.6', '8.4', '8.6', '7.7', '6.3', '7.4',\n",
       "       '8.2', '9', '7.9', '8.1', '8.7', '7.1', '3.4', '5.3', '4.8', '3.2',\n",
       "       '8.9', '6.4', '7.8', '7.5', '2.6', '7.2', '9.2', '7', '7.3', '4.3',\n",
       "       '7.6', '5.7', '5', '9.1', '6.5', 'tbd', '8.8', '6.9', '9.4', '6.8',\n",
       "       '6.1', '6.7', '5.4', '4', '4.9', '4.5', '9.3', '6.2', '4.2', '6',\n",
       "       '3.7', '4.1', '5.8', '5.6', '5.5', '4.4', '4.6', '5.9', '3.9',\n",
       "       '3.1', '2.9', '5.2', '3.3', '4.7', '5.1', '3.5', '2.5', '1.9', '3',\n",
       "       '2.7', '2.2', '2', '9.5', '2.1', '3.6', '2.8', '1.8', '3.8', '0',\n",
       "       '1.6', '9.6', '2.4', '1.7', '1.1', '0.3', '1.5', '0.7', '1.2',\n",
       "       '2.3', '0.5', '1.3', '0.2', '0.6', '1.4', '0.9', '1', '9.7'],\n",
       "      dtype=object)"
      ]
     },
     "metadata": {},
     "output_type": "display_data"
    },
    {
     "data": {
      "text/plain": [
       "array(['Wii', 'NES', 'GB', 'DS', 'X360', 'PS3', 'PS2', 'SNES', 'GBA',\n",
       "       'PS4', '3DS', 'N64', 'PS', 'XB', 'PC', '2600', 'PSP', 'XOne',\n",
       "       'WiiU', 'GC', 'GEN', 'DC', 'PSV', 'SAT', 'SCD', 'WS', 'NG', 'TG16',\n",
       "       '3DO', 'GG', 'PCFX'], dtype=object)"
      ]
     },
     "metadata": {},
     "output_type": "display_data"
    },
    {
     "data": {
      "text/plain": [
       "array(['Sports', 'Platform', 'Racing', 'Role-Playing', 'Puzzle', 'Misc',\n",
       "       'Shooter', 'Simulation', 'Action', 'Fighting', 'Adventure',\n",
       "       'Strategy'], dtype=object)"
      ]
     },
     "metadata": {},
     "output_type": "display_data"
    }
   ],
   "source": [
    "display(games['rating'].unique())\n",
    "display(games['user_score'].unique())\n",
    "display(games['platform'].unique())\n",
    "display(games['genre'].unique())"
   ]
  },
  {
   "cell_type": "markdown",
   "metadata": {},
   "source": [
    "По rating, platform, genre нет вопросов. Их не будем трогать, будем работать \"как есть\". А вот user_score в виде строковых данных представлены рейтинги типа float, а так же есть рейтинг tbd и nan. Как нам сказал Гугл, tbd  означает \"еще нет рейтинга\". Нет и нет, будет просто nan для однотипности.\n",
    "\n",
    "Таким образом, в столбце user_score заменяем tbd  на nan,  а затем преобразуем во float"
   ]
  },
  {
   "cell_type": "code",
   "execution_count": 120,
   "metadata": {},
   "outputs": [],
   "source": [
    "games.loc[games['user_score'] == 'tbd'] = np.nan\n",
    "#display(games['user_score'].unique())"
   ]
  },
  {
   "cell_type": "markdown",
   "metadata": {},
   "source": [
    "Будем менять типы переменных:\n",
    "\n",
    "- user_score  - float\n",
    "- year_of_release  - int\n",
    "- critic_score  - int"
   ]
  },
  {
   "cell_type": "code",
   "execution_count": 121,
   "metadata": {},
   "outputs": [
    {
     "data": {
      "text/html": [
       "<div>\n",
       "<style scoped>\n",
       "    .dataframe tbody tr th:only-of-type {\n",
       "        vertical-align: middle;\n",
       "    }\n",
       "\n",
       "    .dataframe tbody tr th {\n",
       "        vertical-align: top;\n",
       "    }\n",
       "\n",
       "    .dataframe thead th {\n",
       "        text-align: right;\n",
       "    }\n",
       "</style>\n",
       "<table border=\"1\" class=\"dataframe\">\n",
       "  <thead>\n",
       "    <tr style=\"text-align: right;\">\n",
       "      <th></th>\n",
       "      <th>name</th>\n",
       "      <th>platform</th>\n",
       "      <th>year_of_release</th>\n",
       "      <th>genre</th>\n",
       "      <th>na_sales</th>\n",
       "      <th>eu_sales</th>\n",
       "      <th>jp_sales</th>\n",
       "      <th>other_sales</th>\n",
       "      <th>critic_score</th>\n",
       "      <th>user_score</th>\n",
       "      <th>rating</th>\n",
       "    </tr>\n",
       "  </thead>\n",
       "  <tbody>\n",
       "    <tr>\n",
       "      <td>0</td>\n",
       "      <td>Wii Sports</td>\n",
       "      <td>Wii</td>\n",
       "      <td>2006</td>\n",
       "      <td>Sports</td>\n",
       "      <td>41.36</td>\n",
       "      <td>28.96</td>\n",
       "      <td>3.77</td>\n",
       "      <td>8.45</td>\n",
       "      <td>76</td>\n",
       "      <td>8.0</td>\n",
       "      <td>E</td>\n",
       "    </tr>\n",
       "    <tr>\n",
       "      <td>1</td>\n",
       "      <td>Super Mario Bros.</td>\n",
       "      <td>NES</td>\n",
       "      <td>1985</td>\n",
       "      <td>Platform</td>\n",
       "      <td>29.08</td>\n",
       "      <td>3.58</td>\n",
       "      <td>6.81</td>\n",
       "      <td>0.77</td>\n",
       "      <td>NaN</td>\n",
       "      <td>NaN</td>\n",
       "      <td>NaN</td>\n",
       "    </tr>\n",
       "    <tr>\n",
       "      <td>2</td>\n",
       "      <td>Mario Kart Wii</td>\n",
       "      <td>Wii</td>\n",
       "      <td>2008</td>\n",
       "      <td>Racing</td>\n",
       "      <td>15.68</td>\n",
       "      <td>12.76</td>\n",
       "      <td>3.79</td>\n",
       "      <td>3.29</td>\n",
       "      <td>82</td>\n",
       "      <td>8.3</td>\n",
       "      <td>E</td>\n",
       "    </tr>\n",
       "    <tr>\n",
       "      <td>3</td>\n",
       "      <td>Wii Sports Resort</td>\n",
       "      <td>Wii</td>\n",
       "      <td>2009</td>\n",
       "      <td>Sports</td>\n",
       "      <td>15.61</td>\n",
       "      <td>10.93</td>\n",
       "      <td>3.28</td>\n",
       "      <td>2.95</td>\n",
       "      <td>80</td>\n",
       "      <td>8.0</td>\n",
       "      <td>E</td>\n",
       "    </tr>\n",
       "    <tr>\n",
       "      <td>4</td>\n",
       "      <td>Pokemon Red/Pokemon Blue</td>\n",
       "      <td>GB</td>\n",
       "      <td>1996</td>\n",
       "      <td>Role-Playing</td>\n",
       "      <td>11.27</td>\n",
       "      <td>8.89</td>\n",
       "      <td>10.22</td>\n",
       "      <td>1.00</td>\n",
       "      <td>NaN</td>\n",
       "      <td>NaN</td>\n",
       "      <td>NaN</td>\n",
       "    </tr>\n",
       "    <tr>\n",
       "      <td>5</td>\n",
       "      <td>Tetris</td>\n",
       "      <td>GB</td>\n",
       "      <td>1989</td>\n",
       "      <td>Puzzle</td>\n",
       "      <td>23.20</td>\n",
       "      <td>2.26</td>\n",
       "      <td>4.22</td>\n",
       "      <td>0.58</td>\n",
       "      <td>NaN</td>\n",
       "      <td>NaN</td>\n",
       "      <td>NaN</td>\n",
       "    </tr>\n",
       "    <tr>\n",
       "      <td>6</td>\n",
       "      <td>New Super Mario Bros.</td>\n",
       "      <td>DS</td>\n",
       "      <td>2006</td>\n",
       "      <td>Platform</td>\n",
       "      <td>11.28</td>\n",
       "      <td>9.14</td>\n",
       "      <td>6.50</td>\n",
       "      <td>2.88</td>\n",
       "      <td>89</td>\n",
       "      <td>8.5</td>\n",
       "      <td>E</td>\n",
       "    </tr>\n",
       "    <tr>\n",
       "      <td>7</td>\n",
       "      <td>Wii Play</td>\n",
       "      <td>Wii</td>\n",
       "      <td>2006</td>\n",
       "      <td>Misc</td>\n",
       "      <td>13.96</td>\n",
       "      <td>9.18</td>\n",
       "      <td>2.93</td>\n",
       "      <td>2.84</td>\n",
       "      <td>58</td>\n",
       "      <td>6.6</td>\n",
       "      <td>E</td>\n",
       "    </tr>\n",
       "    <tr>\n",
       "      <td>8</td>\n",
       "      <td>New Super Mario Bros. Wii</td>\n",
       "      <td>Wii</td>\n",
       "      <td>2009</td>\n",
       "      <td>Platform</td>\n",
       "      <td>14.44</td>\n",
       "      <td>6.94</td>\n",
       "      <td>4.70</td>\n",
       "      <td>2.24</td>\n",
       "      <td>87</td>\n",
       "      <td>8.4</td>\n",
       "      <td>E</td>\n",
       "    </tr>\n",
       "    <tr>\n",
       "      <td>9</td>\n",
       "      <td>Duck Hunt</td>\n",
       "      <td>NES</td>\n",
       "      <td>1984</td>\n",
       "      <td>Shooter</td>\n",
       "      <td>26.93</td>\n",
       "      <td>0.63</td>\n",
       "      <td>0.28</td>\n",
       "      <td>0.47</td>\n",
       "      <td>NaN</td>\n",
       "      <td>NaN</td>\n",
       "      <td>NaN</td>\n",
       "    </tr>\n",
       "  </tbody>\n",
       "</table>\n",
       "</div>"
      ],
      "text/plain": [
       "                        name platform  year_of_release         genre  \\\n",
       "0                 Wii Sports      Wii             2006        Sports   \n",
       "1          Super Mario Bros.      NES             1985      Platform   \n",
       "2             Mario Kart Wii      Wii             2008        Racing   \n",
       "3          Wii Sports Resort      Wii             2009        Sports   \n",
       "4   Pokemon Red/Pokemon Blue       GB             1996  Role-Playing   \n",
       "5                     Tetris       GB             1989        Puzzle   \n",
       "6      New Super Mario Bros.       DS             2006      Platform   \n",
       "7                   Wii Play      Wii             2006          Misc   \n",
       "8  New Super Mario Bros. Wii      Wii             2009      Platform   \n",
       "9                  Duck Hunt      NES             1984       Shooter   \n",
       "\n",
       "   na_sales  eu_sales  jp_sales  other_sales  critic_score  user_score rating  \n",
       "0     41.36     28.96      3.77         8.45            76         8.0      E  \n",
       "1     29.08      3.58      6.81         0.77           NaN         NaN    NaN  \n",
       "2     15.68     12.76      3.79         3.29            82         8.3      E  \n",
       "3     15.61     10.93      3.28         2.95            80         8.0      E  \n",
       "4     11.27      8.89     10.22         1.00           NaN         NaN    NaN  \n",
       "5     23.20      2.26      4.22         0.58           NaN         NaN    NaN  \n",
       "6     11.28      9.14      6.50         2.88            89         8.5      E  \n",
       "7     13.96      9.18      2.93         2.84            58         6.6      E  \n",
       "8     14.44      6.94      4.70         2.24            87         8.4      E  \n",
       "9     26.93      0.63      0.28         0.47           NaN         NaN    NaN  "
      ]
     },
     "metadata": {},
     "output_type": "display_data"
    }
   ],
   "source": [
    "games[['year_of_release','critic_score']] = games[['year_of_release','critic_score']].astype('Int64')\n",
    "games['user_score'] = games['user_score'].astype('float')\n",
    "display(games.head(10))"
   ]
  },
  {
   "cell_type": "code",
   "execution_count": 122,
   "metadata": {
    "scrolled": true
   },
   "outputs": [
    {
     "data": {
      "text/html": [
       "<div>\n",
       "<style scoped>\n",
       "    .dataframe tbody tr th:only-of-type {\n",
       "        vertical-align: middle;\n",
       "    }\n",
       "\n",
       "    .dataframe tbody tr th {\n",
       "        vertical-align: top;\n",
       "    }\n",
       "\n",
       "    .dataframe thead th {\n",
       "        text-align: right;\n",
       "    }\n",
       "</style>\n",
       "<table border=\"1\" class=\"dataframe\">\n",
       "  <thead>\n",
       "    <tr style=\"text-align: right;\">\n",
       "      <th></th>\n",
       "      <th>name</th>\n",
       "      <th>platform</th>\n",
       "      <th>genre</th>\n",
       "      <th>year_of_release</th>\n",
       "      <th>critic_score</th>\n",
       "      <th>user_score</th>\n",
       "      <th>rating</th>\n",
       "      <th>na_sales</th>\n",
       "      <th>eu_sales</th>\n",
       "      <th>jp_sales</th>\n",
       "      <th>other_sales</th>\n",
       "      <th>all_sales</th>\n",
       "    </tr>\n",
       "  </thead>\n",
       "  <tbody>\n",
       "    <tr>\n",
       "      <td>0</td>\n",
       "      <td>Wii Sports</td>\n",
       "      <td>Wii</td>\n",
       "      <td>Sports</td>\n",
       "      <td>2006</td>\n",
       "      <td>76</td>\n",
       "      <td>8.0</td>\n",
       "      <td>E</td>\n",
       "      <td>41.36</td>\n",
       "      <td>28.96</td>\n",
       "      <td>3.77</td>\n",
       "      <td>8.45</td>\n",
       "      <td>82.54</td>\n",
       "    </tr>\n",
       "    <tr>\n",
       "      <td>1</td>\n",
       "      <td>Super Mario Bros.</td>\n",
       "      <td>NES</td>\n",
       "      <td>Platform</td>\n",
       "      <td>1985</td>\n",
       "      <td>NaN</td>\n",
       "      <td>NaN</td>\n",
       "      <td>NaN</td>\n",
       "      <td>29.08</td>\n",
       "      <td>3.58</td>\n",
       "      <td>6.81</td>\n",
       "      <td>0.77</td>\n",
       "      <td>40.24</td>\n",
       "    </tr>\n",
       "    <tr>\n",
       "      <td>2</td>\n",
       "      <td>Mario Kart Wii</td>\n",
       "      <td>Wii</td>\n",
       "      <td>Racing</td>\n",
       "      <td>2008</td>\n",
       "      <td>82</td>\n",
       "      <td>8.3</td>\n",
       "      <td>E</td>\n",
       "      <td>15.68</td>\n",
       "      <td>12.76</td>\n",
       "      <td>3.79</td>\n",
       "      <td>3.29</td>\n",
       "      <td>35.52</td>\n",
       "    </tr>\n",
       "    <tr>\n",
       "      <td>3</td>\n",
       "      <td>Wii Sports Resort</td>\n",
       "      <td>Wii</td>\n",
       "      <td>Sports</td>\n",
       "      <td>2009</td>\n",
       "      <td>80</td>\n",
       "      <td>8.0</td>\n",
       "      <td>E</td>\n",
       "      <td>15.61</td>\n",
       "      <td>10.93</td>\n",
       "      <td>3.28</td>\n",
       "      <td>2.95</td>\n",
       "      <td>32.77</td>\n",
       "    </tr>\n",
       "    <tr>\n",
       "      <td>4</td>\n",
       "      <td>Pokemon Red/Pokemon Blue</td>\n",
       "      <td>GB</td>\n",
       "      <td>Role-Playing</td>\n",
       "      <td>1996</td>\n",
       "      <td>NaN</td>\n",
       "      <td>NaN</td>\n",
       "      <td>NaN</td>\n",
       "      <td>11.27</td>\n",
       "      <td>8.89</td>\n",
       "      <td>10.22</td>\n",
       "      <td>1.00</td>\n",
       "      <td>31.38</td>\n",
       "    </tr>\n",
       "    <tr>\n",
       "      <td>5</td>\n",
       "      <td>Tetris</td>\n",
       "      <td>GB</td>\n",
       "      <td>Puzzle</td>\n",
       "      <td>1989</td>\n",
       "      <td>NaN</td>\n",
       "      <td>NaN</td>\n",
       "      <td>NaN</td>\n",
       "      <td>23.20</td>\n",
       "      <td>2.26</td>\n",
       "      <td>4.22</td>\n",
       "      <td>0.58</td>\n",
       "      <td>30.26</td>\n",
       "    </tr>\n",
       "    <tr>\n",
       "      <td>6</td>\n",
       "      <td>New Super Mario Bros.</td>\n",
       "      <td>DS</td>\n",
       "      <td>Platform</td>\n",
       "      <td>2006</td>\n",
       "      <td>89</td>\n",
       "      <td>8.5</td>\n",
       "      <td>E</td>\n",
       "      <td>11.28</td>\n",
       "      <td>9.14</td>\n",
       "      <td>6.50</td>\n",
       "      <td>2.88</td>\n",
       "      <td>29.80</td>\n",
       "    </tr>\n",
       "    <tr>\n",
       "      <td>7</td>\n",
       "      <td>Wii Play</td>\n",
       "      <td>Wii</td>\n",
       "      <td>Misc</td>\n",
       "      <td>2006</td>\n",
       "      <td>58</td>\n",
       "      <td>6.6</td>\n",
       "      <td>E</td>\n",
       "      <td>13.96</td>\n",
       "      <td>9.18</td>\n",
       "      <td>2.93</td>\n",
       "      <td>2.84</td>\n",
       "      <td>28.91</td>\n",
       "    </tr>\n",
       "    <tr>\n",
       "      <td>8</td>\n",
       "      <td>New Super Mario Bros. Wii</td>\n",
       "      <td>Wii</td>\n",
       "      <td>Platform</td>\n",
       "      <td>2009</td>\n",
       "      <td>87</td>\n",
       "      <td>8.4</td>\n",
       "      <td>E</td>\n",
       "      <td>14.44</td>\n",
       "      <td>6.94</td>\n",
       "      <td>4.70</td>\n",
       "      <td>2.24</td>\n",
       "      <td>28.32</td>\n",
       "    </tr>\n",
       "    <tr>\n",
       "      <td>9</td>\n",
       "      <td>Duck Hunt</td>\n",
       "      <td>NES</td>\n",
       "      <td>Shooter</td>\n",
       "      <td>1984</td>\n",
       "      <td>NaN</td>\n",
       "      <td>NaN</td>\n",
       "      <td>NaN</td>\n",
       "      <td>26.93</td>\n",
       "      <td>0.63</td>\n",
       "      <td>0.28</td>\n",
       "      <td>0.47</td>\n",
       "      <td>28.31</td>\n",
       "    </tr>\n",
       "  </tbody>\n",
       "</table>\n",
       "</div>"
      ],
      "text/plain": [
       "                        name platform         genre  year_of_release  \\\n",
       "0                 Wii Sports      Wii        Sports             2006   \n",
       "1          Super Mario Bros.      NES      Platform             1985   \n",
       "2             Mario Kart Wii      Wii        Racing             2008   \n",
       "3          Wii Sports Resort      Wii        Sports             2009   \n",
       "4   Pokemon Red/Pokemon Blue       GB  Role-Playing             1996   \n",
       "5                     Tetris       GB        Puzzle             1989   \n",
       "6      New Super Mario Bros.       DS      Platform             2006   \n",
       "7                   Wii Play      Wii          Misc             2006   \n",
       "8  New Super Mario Bros. Wii      Wii      Platform             2009   \n",
       "9                  Duck Hunt      NES       Shooter             1984   \n",
       "\n",
       "   critic_score  user_score rating  na_sales  eu_sales  jp_sales  other_sales  \\\n",
       "0            76         8.0      E     41.36     28.96      3.77         8.45   \n",
       "1           NaN         NaN    NaN     29.08      3.58      6.81         0.77   \n",
       "2            82         8.3      E     15.68     12.76      3.79         3.29   \n",
       "3            80         8.0      E     15.61     10.93      3.28         2.95   \n",
       "4           NaN         NaN    NaN     11.27      8.89     10.22         1.00   \n",
       "5           NaN         NaN    NaN     23.20      2.26      4.22         0.58   \n",
       "6            89         8.5      E     11.28      9.14      6.50         2.88   \n",
       "7            58         6.6      E     13.96      9.18      2.93         2.84   \n",
       "8            87         8.4      E     14.44      6.94      4.70         2.24   \n",
       "9           NaN         NaN    NaN     26.93      0.63      0.28         0.47   \n",
       "\n",
       "   all_sales  \n",
       "0      82.54  \n",
       "1      40.24  \n",
       "2      35.52  \n",
       "3      32.77  \n",
       "4      31.38  \n",
       "5      30.26  \n",
       "6      29.80  \n",
       "7      28.91  \n",
       "8      28.32  \n",
       "9      28.31  "
      ]
     },
     "metadata": {},
     "output_type": "display_data"
    },
    {
     "name": "stdout",
     "output_type": "stream",
     "text": [
      "<class 'pandas.core.frame.DataFrame'>\n",
      "Int64Index: 16713 entries, 0 to 16714\n",
      "Data columns (total 12 columns):\n",
      "name               14289 non-null object\n",
      "platform           14289 non-null object\n",
      "genre              14289 non-null object\n",
      "year_of_release    14068 non-null Int64\n",
      "critic_score       7055 non-null Int64\n",
      "user_score         7590 non-null float64\n",
      "rating             7575 non-null object\n",
      "na_sales           14289 non-null float64\n",
      "eu_sales           14289 non-null float64\n",
      "jp_sales           14289 non-null float64\n",
      "other_sales        14289 non-null float64\n",
      "all_sales          14289 non-null float64\n",
      "dtypes: Int64(2), float64(6), object(4)\n",
      "memory usage: 1.7+ MB\n"
     ]
    },
    {
     "data": {
      "text/html": [
       "<div>\n",
       "<style scoped>\n",
       "    .dataframe tbody tr th:only-of-type {\n",
       "        vertical-align: middle;\n",
       "    }\n",
       "\n",
       "    .dataframe tbody tr th {\n",
       "        vertical-align: top;\n",
       "    }\n",
       "\n",
       "    .dataframe thead th {\n",
       "        text-align: right;\n",
       "    }\n",
       "</style>\n",
       "<table border=\"1\" class=\"dataframe\">\n",
       "  <thead>\n",
       "    <tr style=\"text-align: right;\">\n",
       "      <th></th>\n",
       "      <th>name</th>\n",
       "      <th>platform</th>\n",
       "      <th>genre</th>\n",
       "      <th>year_of_release</th>\n",
       "      <th>critic_score</th>\n",
       "      <th>user_score</th>\n",
       "      <th>rating</th>\n",
       "      <th>na_sales</th>\n",
       "      <th>eu_sales</th>\n",
       "      <th>jp_sales</th>\n",
       "      <th>other_sales</th>\n",
       "      <th>all_sales</th>\n",
       "    </tr>\n",
       "  </thead>\n",
       "  <tbody>\n",
       "    <tr>\n",
       "      <td>656</td>\n",
       "      <td>Theme Hospital</td>\n",
       "      <td>PC</td>\n",
       "      <td>Strategy</td>\n",
       "      <td>1997</td>\n",
       "      <td>NaN</td>\n",
       "      <td>9.0</td>\n",
       "      <td>K-A</td>\n",
       "      <td>2.30</td>\n",
       "      <td>0.10</td>\n",
       "      <td>0.00</td>\n",
       "      <td>0.00</td>\n",
       "      <td>2.40</td>\n",
       "    </tr>\n",
       "    <tr>\n",
       "      <td>875</td>\n",
       "      <td>Grand Theft Auto: San Andreas</td>\n",
       "      <td>XB</td>\n",
       "      <td>Action</td>\n",
       "      <td>2005</td>\n",
       "      <td>93</td>\n",
       "      <td>8.6</td>\n",
       "      <td>AO</td>\n",
       "      <td>1.26</td>\n",
       "      <td>0.61</td>\n",
       "      <td>0.00</td>\n",
       "      <td>0.09</td>\n",
       "      <td>1.96</td>\n",
       "    </tr>\n",
       "    <tr>\n",
       "      <td>903</td>\n",
       "      <td>PaRappa The Rapper</td>\n",
       "      <td>PS</td>\n",
       "      <td>Misc</td>\n",
       "      <td>1996</td>\n",
       "      <td>92</td>\n",
       "      <td>7.4</td>\n",
       "      <td>K-A</td>\n",
       "      <td>0.26</td>\n",
       "      <td>0.16</td>\n",
       "      <td>1.46</td>\n",
       "      <td>0.03</td>\n",
       "      <td>1.91</td>\n",
       "    </tr>\n",
       "    <tr>\n",
       "      <td>6764</td>\n",
       "      <td>Dora the Explorer: Journey to the Purple Planet</td>\n",
       "      <td>PS2</td>\n",
       "      <td>Adventure</td>\n",
       "      <td>2005</td>\n",
       "      <td>NaN</td>\n",
       "      <td>7.0</td>\n",
       "      <td>EC</td>\n",
       "      <td>0.12</td>\n",
       "      <td>0.09</td>\n",
       "      <td>0.00</td>\n",
       "      <td>0.03</td>\n",
       "      <td>0.24</td>\n",
       "    </tr>\n",
       "    <tr>\n",
       "      <td>16681</td>\n",
       "      <td>Worms 2</td>\n",
       "      <td>PC</td>\n",
       "      <td>Strategy</td>\n",
       "      <td>1997</td>\n",
       "      <td>NaN</td>\n",
       "      <td>8.1</td>\n",
       "      <td>K-A</td>\n",
       "      <td>0.00</td>\n",
       "      <td>0.01</td>\n",
       "      <td>0.00</td>\n",
       "      <td>0.00</td>\n",
       "      <td>0.01</td>\n",
       "    </tr>\n",
       "  </tbody>\n",
       "</table>\n",
       "</div>"
      ],
      "text/plain": [
       "                                                  name platform      genre  \\\n",
       "656                                     Theme Hospital       PC   Strategy   \n",
       "875                      Grand Theft Auto: San Andreas       XB     Action   \n",
       "903                                 PaRappa The Rapper       PS       Misc   \n",
       "6764   Dora the Explorer: Journey to the Purple Planet      PS2  Adventure   \n",
       "16681                                          Worms 2       PC   Strategy   \n",
       "\n",
       "       year_of_release  critic_score  user_score rating  na_sales  eu_sales  \\\n",
       "656               1997           NaN         9.0    K-A      2.30      0.10   \n",
       "875               2005            93         8.6     AO      1.26      0.61   \n",
       "903               1996            92         7.4    K-A      0.26      0.16   \n",
       "6764              2005           NaN         7.0     EC      0.12      0.09   \n",
       "16681             1997           NaN         8.1    K-A      0.00      0.01   \n",
       "\n",
       "       jp_sales  other_sales  all_sales  \n",
       "656        0.00         0.00       2.40  \n",
       "875        0.00         0.09       1.96  \n",
       "903        1.46         0.03       1.91  \n",
       "6764       0.00         0.03       0.24  \n",
       "16681      0.00         0.00       0.01  "
      ]
     },
     "metadata": {},
     "output_type": "display_data"
    }
   ],
   "source": [
    "games['all_sales'] = games['na_sales'] + games['eu_sales'] + games['jp_sales'] + games['other_sales']\n",
    "\n",
    "# немногоо красоты\n",
    "\n",
    "games = games [['name', 'platform','genre', 'year_of_release', 'critic_score','user_score','rating',\n",
    "               'na_sales','eu_sales','jp_sales','other_sales','all_sales']]\n",
    "\n",
    "display(games.head(10))\n",
    "games.info()\n",
    "display(games.query('rating == \"K-A\" or rating == \"AO\" or rating == \"EC\"'))"
   ]
  },
  {
   "cell_type": "markdown",
   "metadata": {},
   "source": [
    "<div class=\"alert alert-info\"> \n",
    "Последняя таблица немного вне логики развития темы, но она пришла сюда от работы с рейтигами. По данным за все время наблюдения видно, что рейтинги K-A, AO, EC имели всего пять программ"
   ]
  },
  {
   "cell_type": "markdown",
   "metadata": {},
   "source": [
    "### Итоги по приведению данных.\n",
    "\n",
    "Данные получены в более или менее пригодном для работы виде. Были удалены две строки с неизвестным названием игр, преобразованы данные, где логично будет целое значение, в тип int, строковые значения рейтинга во float  с заменой значения tbd на nan. Найдена сумма продаж по всем регионам.\n",
    "\n",
    "После всего этого таблицу привели в более упорядоченный и красивый вид.\n",
    "\n",
    "## Исследовательский анализ данных\n",
    "\n",
    "### Анализ в разрезе времени\n",
    "\n",
    "\n",
    "Для начала посмотрим, сколько игр выпускалось в разные годы, а заодно посчитаем объем выручки по ним"
   ]
  },
  {
   "cell_type": "code",
   "execution_count": 123,
   "metadata": {},
   "outputs": [
    {
     "data": {
      "text/html": [
       "<div>\n",
       "<style scoped>\n",
       "    .dataframe tbody tr th:only-of-type {\n",
       "        vertical-align: middle;\n",
       "    }\n",
       "\n",
       "    .dataframe tbody tr th {\n",
       "        vertical-align: top;\n",
       "    }\n",
       "\n",
       "    .dataframe thead tr th {\n",
       "        text-align: left;\n",
       "    }\n",
       "\n",
       "    .dataframe thead tr:last-of-type th {\n",
       "        text-align: right;\n",
       "    }\n",
       "</style>\n",
       "<table border=\"1\" class=\"dataframe\">\n",
       "  <thead>\n",
       "    <tr>\n",
       "      <th></th>\n",
       "      <th>count</th>\n",
       "      <th>sum</th>\n",
       "    </tr>\n",
       "    <tr>\n",
       "      <th></th>\n",
       "      <th>all_sales</th>\n",
       "      <th>all_sales</th>\n",
       "    </tr>\n",
       "    <tr>\n",
       "      <th>year_of_release</th>\n",
       "      <th></th>\n",
       "      <th></th>\n",
       "    </tr>\n",
       "  </thead>\n",
       "  <tbody>\n",
       "    <tr>\n",
       "      <td>1980</td>\n",
       "      <td>9</td>\n",
       "      <td>11.38</td>\n",
       "    </tr>\n",
       "    <tr>\n",
       "      <td>1981</td>\n",
       "      <td>46</td>\n",
       "      <td>35.68</td>\n",
       "    </tr>\n",
       "    <tr>\n",
       "      <td>1982</td>\n",
       "      <td>36</td>\n",
       "      <td>28.88</td>\n",
       "    </tr>\n",
       "    <tr>\n",
       "      <td>1983</td>\n",
       "      <td>17</td>\n",
       "      <td>16.80</td>\n",
       "    </tr>\n",
       "    <tr>\n",
       "      <td>1984</td>\n",
       "      <td>14</td>\n",
       "      <td>50.35</td>\n",
       "    </tr>\n",
       "    <tr>\n",
       "      <td>1985</td>\n",
       "      <td>14</td>\n",
       "      <td>53.95</td>\n",
       "    </tr>\n",
       "    <tr>\n",
       "      <td>1986</td>\n",
       "      <td>21</td>\n",
       "      <td>37.08</td>\n",
       "    </tr>\n",
       "    <tr>\n",
       "      <td>1987</td>\n",
       "      <td>16</td>\n",
       "      <td>21.70</td>\n",
       "    </tr>\n",
       "    <tr>\n",
       "      <td>1988</td>\n",
       "      <td>15</td>\n",
       "      <td>47.21</td>\n",
       "    </tr>\n",
       "    <tr>\n",
       "      <td>1989</td>\n",
       "      <td>17</td>\n",
       "      <td>73.45</td>\n",
       "    </tr>\n",
       "    <tr>\n",
       "      <td>1990</td>\n",
       "      <td>16</td>\n",
       "      <td>49.37</td>\n",
       "    </tr>\n",
       "    <tr>\n",
       "      <td>1991</td>\n",
       "      <td>41</td>\n",
       "      <td>32.23</td>\n",
       "    </tr>\n",
       "    <tr>\n",
       "      <td>1992</td>\n",
       "      <td>43</td>\n",
       "      <td>76.16</td>\n",
       "    </tr>\n",
       "    <tr>\n",
       "      <td>1993</td>\n",
       "      <td>60</td>\n",
       "      <td>45.99</td>\n",
       "    </tr>\n",
       "    <tr>\n",
       "      <td>1994</td>\n",
       "      <td>121</td>\n",
       "      <td>79.23</td>\n",
       "    </tr>\n",
       "    <tr>\n",
       "      <td>1995</td>\n",
       "      <td>219</td>\n",
       "      <td>88.12</td>\n",
       "    </tr>\n",
       "    <tr>\n",
       "      <td>1996</td>\n",
       "      <td>263</td>\n",
       "      <td>199.15</td>\n",
       "    </tr>\n",
       "    <tr>\n",
       "      <td>1997</td>\n",
       "      <td>288</td>\n",
       "      <td>201.02</td>\n",
       "    </tr>\n",
       "    <tr>\n",
       "      <td>1998</td>\n",
       "      <td>379</td>\n",
       "      <td>256.31</td>\n",
       "    </tr>\n",
       "    <tr>\n",
       "      <td>1999</td>\n",
       "      <td>330</td>\n",
       "      <td>246.83</td>\n",
       "    </tr>\n",
       "    <tr>\n",
       "      <td>2000</td>\n",
       "      <td>307</td>\n",
       "      <td>187.74</td>\n",
       "    </tr>\n",
       "    <tr>\n",
       "      <td>2001</td>\n",
       "      <td>400</td>\n",
       "      <td>311.37</td>\n",
       "    </tr>\n",
       "    <tr>\n",
       "      <td>2002</td>\n",
       "      <td>637</td>\n",
       "      <td>369.52</td>\n",
       "    </tr>\n",
       "    <tr>\n",
       "      <td>2003</td>\n",
       "      <td>680</td>\n",
       "      <td>343.04</td>\n",
       "    </tr>\n",
       "    <tr>\n",
       "      <td>2004</td>\n",
       "      <td>655</td>\n",
       "      <td>396.50</td>\n",
       "    </tr>\n",
       "    <tr>\n",
       "      <td>2005</td>\n",
       "      <td>818</td>\n",
       "      <td>438.83</td>\n",
       "    </tr>\n",
       "    <tr>\n",
       "      <td>2006</td>\n",
       "      <td>882</td>\n",
       "      <td>502.47</td>\n",
       "    </tr>\n",
       "    <tr>\n",
       "      <td>2007</td>\n",
       "      <td>1005</td>\n",
       "      <td>561.77</td>\n",
       "    </tr>\n",
       "    <tr>\n",
       "      <td>2008</td>\n",
       "      <td>1101</td>\n",
       "      <td>600.78</td>\n",
       "    </tr>\n",
       "    <tr>\n",
       "      <td>2009</td>\n",
       "      <td>1021</td>\n",
       "      <td>580.20</td>\n",
       "    </tr>\n",
       "    <tr>\n",
       "      <td>2010</td>\n",
       "      <td>924</td>\n",
       "      <td>519.46</td>\n",
       "    </tr>\n",
       "    <tr>\n",
       "      <td>2011</td>\n",
       "      <td>919</td>\n",
       "      <td>470.24</td>\n",
       "    </tr>\n",
       "    <tr>\n",
       "      <td>2012</td>\n",
       "      <td>629</td>\n",
       "      <td>353.52</td>\n",
       "    </tr>\n",
       "    <tr>\n",
       "      <td>2013</td>\n",
       "      <td>529</td>\n",
       "      <td>359.92</td>\n",
       "    </tr>\n",
       "    <tr>\n",
       "      <td>2014</td>\n",
       "      <td>560</td>\n",
       "      <td>328.32</td>\n",
       "    </tr>\n",
       "    <tr>\n",
       "      <td>2015</td>\n",
       "      <td>568</td>\n",
       "      <td>265.14</td>\n",
       "    </tr>\n",
       "    <tr>\n",
       "      <td>2016</td>\n",
       "      <td>468</td>\n",
       "      <td>128.21</td>\n",
       "    </tr>\n",
       "  </tbody>\n",
       "</table>\n",
       "</div>"
      ],
      "text/plain": [
       "                    count       sum\n",
       "                all_sales all_sales\n",
       "year_of_release                    \n",
       "1980                    9     11.38\n",
       "1981                   46     35.68\n",
       "1982                   36     28.88\n",
       "1983                   17     16.80\n",
       "1984                   14     50.35\n",
       "1985                   14     53.95\n",
       "1986                   21     37.08\n",
       "1987                   16     21.70\n",
       "1988                   15     47.21\n",
       "1989                   17     73.45\n",
       "1990                   16     49.37\n",
       "1991                   41     32.23\n",
       "1992                   43     76.16\n",
       "1993                   60     45.99\n",
       "1994                  121     79.23\n",
       "1995                  219     88.12\n",
       "1996                  263    199.15\n",
       "1997                  288    201.02\n",
       "1998                  379    256.31\n",
       "1999                  330    246.83\n",
       "2000                  307    187.74\n",
       "2001                  400    311.37\n",
       "2002                  637    369.52\n",
       "2003                  680    343.04\n",
       "2004                  655    396.50\n",
       "2005                  818    438.83\n",
       "2006                  882    502.47\n",
       "2007                 1005    561.77\n",
       "2008                 1101    600.78\n",
       "2009                 1021    580.20\n",
       "2010                  924    519.46\n",
       "2011                  919    470.24\n",
       "2012                  629    353.52\n",
       "2013                  529    359.92\n",
       "2014                  560    328.32\n",
       "2015                  568    265.14\n",
       "2016                  468    128.21"
      ]
     },
     "metadata": {},
     "output_type": "display_data"
    },
    {
     "data": {
      "image/png": "[encoded data removed]",
      "text/plain": [
       "<Figure size 432x288 with 1 Axes>"
      ]
     },
     "metadata": {
      "needs_background": "light"
     },
     "output_type": "display_data"
    }
   ],
   "source": [
    "display(games.pivot_table(index = 'year_of_release',\n",
    "                         values = 'all_sales',\n",
    "                         aggfunc = ['count','sum']))\n",
    "\n",
    "games.groupby('year_of_release')['all_sales'].sum().plot(kind= 'bar')\n",
    "plt.title(' Общий объем рынка')\n",
    "plt.show()"
   ]
  },
  {
   "cell_type": "markdown",
   "metadata": {},
   "source": [
    "Получили таблицу продаж по годам с двумя столбцами данных: \n",
    "\n",
    "    - count  ассортимент продаваемых игр\n",
    "    - sum    количество проданных копий в млн. штук\n",
    "    \n",
    "#### Итоги по времени\n",
    "Из данных таблицы видно, что своего объема рынок достиг в 2008 году и за 8 лет упал в 4.68 раз по объему и в 2.18 раз по ассортименту. Получается, что ассортимент предлагаемых игр падает, но не так быстро, как общий объем продаж. Возможны два варианта развития:\n",
    "\n",
    "- Средняя цена игры падает\n",
    "\n",
    "- большое количество новых игр не пользуется спросом\n",
    "\n",
    "### Анализ в разрезе платформ\n",
    "\n",
    "Можно утверждать, что для современного состояния данные за 1980- и многие другие последующие годы не имеют значения для прикладного анализа сегодня. Здесь есть два момента:\n",
    "   \n",
    "   - меняются игровые платформы\n",
    "   \n",
    "   - меняется техника внутри платформ\n",
    "   \n",
    "   - игры устаревают морально и требуются все новые\n",
    "    \n",
    "Анализ через Гугл утверждает, что жизненный цикл большинства игр находится в пределах 5-7 лет. Если нам нужно прогнозировать 2017 год, то имеет смысл рассматривать только те платформы, которые используются в 2016 году. Изучим данные по этим платформам.\n",
    "\n",
    "\n",
    "Сделаем группировку данных по годам и платформам. В качестве анализируемых данных выведем ассортимент и общий объем продаж."
   ]
  },
  {
   "cell_type": "code",
   "execution_count": 124,
   "metadata": {
    "scrolled": false
   },
   "outputs": [
    {
     "data": {
      "text/html": [
       "<div>\n",
       "<style scoped>\n",
       "    .dataframe tbody tr th:only-of-type {\n",
       "        vertical-align: middle;\n",
       "    }\n",
       "\n",
       "    .dataframe tbody tr th {\n",
       "        vertical-align: top;\n",
       "    }\n",
       "\n",
       "    .dataframe thead tr th {\n",
       "        text-align: left;\n",
       "    }\n",
       "\n",
       "    .dataframe thead tr:last-of-type th {\n",
       "        text-align: right;\n",
       "    }\n",
       "</style>\n",
       "<table border=\"1\" class=\"dataframe\">\n",
       "  <thead>\n",
       "    <tr>\n",
       "      <th></th>\n",
       "      <th></th>\n",
       "      <th>count</th>\n",
       "      <th>sum</th>\n",
       "      <th>max</th>\n",
       "    </tr>\n",
       "    <tr>\n",
       "      <th></th>\n",
       "      <th></th>\n",
       "      <th>all_sales</th>\n",
       "      <th>all_sales</th>\n",
       "      <th>all_sales</th>\n",
       "    </tr>\n",
       "    <tr>\n",
       "      <th>year_of_release</th>\n",
       "      <th>platform</th>\n",
       "      <th></th>\n",
       "      <th></th>\n",
       "      <th></th>\n",
       "    </tr>\n",
       "  </thead>\n",
       "  <tbody>\n",
       "    <tr>\n",
       "      <td>1980</td>\n",
       "      <td>2600</td>\n",
       "      <td>9</td>\n",
       "      <td>11.38</td>\n",
       "      <td>4.31</td>\n",
       "    </tr>\n",
       "    <tr>\n",
       "      <td>1981</td>\n",
       "      <td>2600</td>\n",
       "      <td>46</td>\n",
       "      <td>35.68</td>\n",
       "      <td>4.50</td>\n",
       "    </tr>\n",
       "    <tr>\n",
       "      <td>1982</td>\n",
       "      <td>2600</td>\n",
       "      <td>36</td>\n",
       "      <td>28.88</td>\n",
       "      <td>7.81</td>\n",
       "    </tr>\n",
       "    <tr>\n",
       "      <td rowspan=\"2\" valign=\"top\">1983</td>\n",
       "      <td>2600</td>\n",
       "      <td>11</td>\n",
       "      <td>5.84</td>\n",
       "      <td>1.31</td>\n",
       "    </tr>\n",
       "    <tr>\n",
       "      <td>NES</td>\n",
       "      <td>6</td>\n",
       "      <td>10.96</td>\n",
       "      <td>3.20</td>\n",
       "    </tr>\n",
       "    <tr>\n",
       "      <td rowspan=\"2\" valign=\"top\">1984</td>\n",
       "      <td>2600</td>\n",
       "      <td>1</td>\n",
       "      <td>0.27</td>\n",
       "      <td>0.27</td>\n",
       "    </tr>\n",
       "    <tr>\n",
       "      <td>NES</td>\n",
       "      <td>13</td>\n",
       "      <td>50.08</td>\n",
       "      <td>28.31</td>\n",
       "    </tr>\n",
       "    <tr>\n",
       "      <td rowspan=\"4\" valign=\"top\">1985</td>\n",
       "      <td>2600</td>\n",
       "      <td>1</td>\n",
       "      <td>0.45</td>\n",
       "      <td>0.45</td>\n",
       "    </tr>\n",
       "    <tr>\n",
       "      <td>DS</td>\n",
       "      <td>1</td>\n",
       "      <td>0.02</td>\n",
       "      <td>0.02</td>\n",
       "    </tr>\n",
       "    <tr>\n",
       "      <td>NES</td>\n",
       "      <td>11</td>\n",
       "      <td>53.44</td>\n",
       "      <td>40.24</td>\n",
       "    </tr>\n",
       "    <tr>\n",
       "      <td>PC</td>\n",
       "      <td>1</td>\n",
       "      <td>0.04</td>\n",
       "      <td>0.04</td>\n",
       "    </tr>\n",
       "    <tr>\n",
       "      <td rowspan=\"2\" valign=\"top\">1986</td>\n",
       "      <td>2600</td>\n",
       "      <td>2</td>\n",
       "      <td>0.67</td>\n",
       "      <td>0.37</td>\n",
       "    </tr>\n",
       "    <tr>\n",
       "      <td>NES</td>\n",
       "      <td>19</td>\n",
       "      <td>36.41</td>\n",
       "      <td>6.50</td>\n",
       "    </tr>\n",
       "    <tr>\n",
       "      <td rowspan=\"2\" valign=\"top\">1987</td>\n",
       "      <td>2600</td>\n",
       "      <td>6</td>\n",
       "      <td>1.94</td>\n",
       "      <td>0.65</td>\n",
       "    </tr>\n",
       "    <tr>\n",
       "      <td>NES</td>\n",
       "      <td>10</td>\n",
       "      <td>19.76</td>\n",
       "      <td>4.38</td>\n",
       "    </tr>\n",
       "    <tr>\n",
       "      <td rowspan=\"4\" valign=\"top\">1988</td>\n",
       "      <td>2600</td>\n",
       "      <td>2</td>\n",
       "      <td>0.74</td>\n",
       "      <td>0.51</td>\n",
       "    </tr>\n",
       "    <tr>\n",
       "      <td>GB</td>\n",
       "      <td>1</td>\n",
       "      <td>1.43</td>\n",
       "      <td>1.43</td>\n",
       "    </tr>\n",
       "    <tr>\n",
       "      <td>NES</td>\n",
       "      <td>11</td>\n",
       "      <td>45.01</td>\n",
       "      <td>17.28</td>\n",
       "    </tr>\n",
       "    <tr>\n",
       "      <td>PC</td>\n",
       "      <td>1</td>\n",
       "      <td>0.03</td>\n",
       "      <td>0.03</td>\n",
       "    </tr>\n",
       "    <tr>\n",
       "      <td>1989</td>\n",
       "      <td>2600</td>\n",
       "      <td>2</td>\n",
       "      <td>0.63</td>\n",
       "      <td>0.48</td>\n",
       "    </tr>\n",
       "  </tbody>\n",
       "</table>\n",
       "</div>"
      ],
      "text/plain": [
       "                             count       sum       max\n",
       "                         all_sales all_sales all_sales\n",
       "year_of_release platform                              \n",
       "1980            2600             9     11.38      4.31\n",
       "1981            2600            46     35.68      4.50\n",
       "1982            2600            36     28.88      7.81\n",
       "1983            2600            11      5.84      1.31\n",
       "                NES              6     10.96      3.20\n",
       "1984            2600             1      0.27      0.27\n",
       "                NES             13     50.08     28.31\n",
       "1985            2600             1      0.45      0.45\n",
       "                DS               1      0.02      0.02\n",
       "                NES             11     53.44     40.24\n",
       "                PC               1      0.04      0.04\n",
       "1986            2600             2      0.67      0.37\n",
       "                NES             19     36.41      6.50\n",
       "1987            2600             6      1.94      0.65\n",
       "                NES             10     19.76      4.38\n",
       "1988            2600             2      0.74      0.51\n",
       "                GB               1      1.43      1.43\n",
       "                NES             11     45.01     17.28\n",
       "                PC               1      0.03      0.03\n",
       "1989            2600             2      0.63      0.48"
      ]
     },
     "metadata": {},
     "output_type": "display_data"
    },
    {
     "data": {
      "text/html": [
       "<div>\n",
       "<style scoped>\n",
       "    .dataframe tbody tr th:only-of-type {\n",
       "        vertical-align: middle;\n",
       "    }\n",
       "\n",
       "    .dataframe tbody tr th {\n",
       "        vertical-align: top;\n",
       "    }\n",
       "\n",
       "    .dataframe thead tr th {\n",
       "        text-align: left;\n",
       "    }\n",
       "\n",
       "    .dataframe thead tr:last-of-type th {\n",
       "        text-align: right;\n",
       "    }\n",
       "</style>\n",
       "<table border=\"1\" class=\"dataframe\">\n",
       "  <thead>\n",
       "    <tr>\n",
       "      <th></th>\n",
       "      <th></th>\n",
       "      <th>count</th>\n",
       "      <th>sum</th>\n",
       "      <th>max</th>\n",
       "    </tr>\n",
       "    <tr>\n",
       "      <th></th>\n",
       "      <th></th>\n",
       "      <th>all_sales</th>\n",
       "      <th>all_sales</th>\n",
       "      <th>all_sales</th>\n",
       "    </tr>\n",
       "    <tr>\n",
       "      <th>year_of_release</th>\n",
       "      <th>platform</th>\n",
       "      <th></th>\n",
       "      <th></th>\n",
       "      <th></th>\n",
       "    </tr>\n",
       "  </thead>\n",
       "  <tbody>\n",
       "    <tr>\n",
       "      <td rowspan=\"2\" valign=\"top\">2014</td>\n",
       "      <td>X360</td>\n",
       "      <td>61</td>\n",
       "      <td>33.77</td>\n",
       "      <td>4.28</td>\n",
       "    </tr>\n",
       "    <tr>\n",
       "      <td>XOne</td>\n",
       "      <td>61</td>\n",
       "      <td>54.07</td>\n",
       "      <td>5.47</td>\n",
       "    </tr>\n",
       "    <tr>\n",
       "      <td rowspan=\"10\" valign=\"top\">2015</td>\n",
       "      <td>3DS</td>\n",
       "      <td>77</td>\n",
       "      <td>27.21</td>\n",
       "      <td>3.32</td>\n",
       "    </tr>\n",
       "    <tr>\n",
       "      <td>PC</td>\n",
       "      <td>48</td>\n",
       "      <td>8.49</td>\n",
       "      <td>1.28</td>\n",
       "    </tr>\n",
       "    <tr>\n",
       "      <td>PS3</td>\n",
       "      <td>62</td>\n",
       "      <td>16.30</td>\n",
       "      <td>2.70</td>\n",
       "    </tr>\n",
       "    <tr>\n",
       "      <td>PS4</td>\n",
       "      <td>136</td>\n",
       "      <td>118.86</td>\n",
       "      <td>14.63</td>\n",
       "    </tr>\n",
       "    <tr>\n",
       "      <td>PSP</td>\n",
       "      <td>3</td>\n",
       "      <td>0.12</td>\n",
       "      <td>0.08</td>\n",
       "    </tr>\n",
       "    <tr>\n",
       "      <td>PSV</td>\n",
       "      <td>104</td>\n",
       "      <td>5.95</td>\n",
       "      <td>0.41</td>\n",
       "    </tr>\n",
       "    <tr>\n",
       "      <td>Wii</td>\n",
       "      <td>1</td>\n",
       "      <td>0.15</td>\n",
       "      <td>0.15</td>\n",
       "    </tr>\n",
       "    <tr>\n",
       "      <td>WiiU</td>\n",
       "      <td>27</td>\n",
       "      <td>16.27</td>\n",
       "      <td>4.44</td>\n",
       "    </tr>\n",
       "    <tr>\n",
       "      <td>X360</td>\n",
       "      <td>33</td>\n",
       "      <td>11.87</td>\n",
       "      <td>1.70</td>\n",
       "    </tr>\n",
       "    <tr>\n",
       "      <td>XOne</td>\n",
       "      <td>77</td>\n",
       "      <td>59.92</td>\n",
       "      <td>7.39</td>\n",
       "    </tr>\n",
       "    <tr>\n",
       "      <td rowspan=\"8\" valign=\"top\">2016</td>\n",
       "      <td>3DS</td>\n",
       "      <td>43</td>\n",
       "      <td>15.10</td>\n",
       "      <td>7.14</td>\n",
       "    </tr>\n",
       "    <tr>\n",
       "      <td>PC</td>\n",
       "      <td>52</td>\n",
       "      <td>5.22</td>\n",
       "      <td>0.65</td>\n",
       "    </tr>\n",
       "    <tr>\n",
       "      <td>PS3</td>\n",
       "      <td>32</td>\n",
       "      <td>3.16</td>\n",
       "      <td>0.73</td>\n",
       "    </tr>\n",
       "    <tr>\n",
       "      <td>PS4</td>\n",
       "      <td>159</td>\n",
       "      <td>69.15</td>\n",
       "      <td>7.60</td>\n",
       "    </tr>\n",
       "    <tr>\n",
       "      <td>PSV</td>\n",
       "      <td>84</td>\n",
       "      <td>4.24</td>\n",
       "      <td>0.30</td>\n",
       "    </tr>\n",
       "    <tr>\n",
       "      <td>WiiU</td>\n",
       "      <td>11</td>\n",
       "      <td>4.30</td>\n",
       "      <td>1.03</td>\n",
       "    </tr>\n",
       "    <tr>\n",
       "      <td>X360</td>\n",
       "      <td>8</td>\n",
       "      <td>1.22</td>\n",
       "      <td>0.38</td>\n",
       "    </tr>\n",
       "    <tr>\n",
       "      <td>XOne</td>\n",
       "      <td>79</td>\n",
       "      <td>25.82</td>\n",
       "      <td>2.65</td>\n",
       "    </tr>\n",
       "  </tbody>\n",
       "</table>\n",
       "</div>"
      ],
      "text/plain": [
       "                             count       sum       max\n",
       "                         all_sales all_sales all_sales\n",
       "year_of_release platform                              \n",
       "2014            X360            61     33.77      4.28\n",
       "                XOne            61     54.07      5.47\n",
       "2015            3DS             77     27.21      3.32\n",
       "                PC              48      8.49      1.28\n",
       "                PS3             62     16.30      2.70\n",
       "                PS4            136    118.86     14.63\n",
       "                PSP              3      0.12      0.08\n",
       "                PSV            104      5.95      0.41\n",
       "                Wii              1      0.15      0.15\n",
       "                WiiU            27     16.27      4.44\n",
       "                X360            33     11.87      1.70\n",
       "                XOne            77     59.92      7.39\n",
       "2016            3DS             43     15.10      7.14\n",
       "                PC              52      5.22      0.65\n",
       "                PS3             32      3.16      0.73\n",
       "                PS4            159     69.15      7.60\n",
       "                PSV             84      4.24      0.30\n",
       "                WiiU            11      4.30      1.03\n",
       "                X360             8      1.22      0.38\n",
       "                XOne            79     25.82      2.65"
      ]
     },
     "metadata": {},
     "output_type": "display_data"
    }
   ],
   "source": [
    "games_platform = games.pivot_table(index = ['year_of_release','platform'],\n",
    "                         values = 'all_sales',\n",
    "                         aggfunc = ['count','sum','max'])\n",
    "display(games_platform.head(20))\n",
    "display(games_platform.tail(20))"
   ]
  },
  {
   "cell_type": "markdown",
   "metadata": {},
   "source": [
    "Сравнивая платформы за 2012- 2016 год и 1980 - 1990 видно, что используются разные платформы. Некоторые из них являются развитием предыдущих, а некоторых уже давно нет на рынке. Попробуем  найти актуальный период, который можно корректно использовать для анализа. Этим периодом можно будет считать:\n",
    "\n",
    "- близкий к жизненному циклу программы 5-7 лет\n",
    "- заметное изменение платформ на рынке.\n",
    "\n",
    "Посмотрим платформы по успешности и выведем три таблицы: за все время, начиная с 2010 года и  живые платформы 2016 года"
   ]
  },
  {
   "cell_type": "code",
   "execution_count": 125,
   "metadata": {
    "scrolled": false
   },
   "outputs": [
    {
     "data": {
      "text/plain": [
       "' Объем продаж по всем платформам за все время'"
      ]
     },
     "metadata": {},
     "output_type": "display_data"
    },
    {
     "data": {
      "text/plain": [
       "platform\n",
       "PS2     1171.19\n",
       "X360     948.74\n",
       "PS3      921.09\n",
       "Wii      791.91\n",
       "PS       714.26\n",
       "DS       655.36\n",
       "PS4      314.00\n",
       "PSP      273.11\n",
       "GBA      263.70\n",
       "GB       254.43\n",
       "3DS      253.24\n",
       "PC       252.25\n",
       "NES      251.05\n",
       "XB       236.38\n",
       "N64      218.01\n",
       "SNES     200.04\n",
       "GC       185.68\n",
       "XOne     158.77\n",
       "WiiU      81.79\n",
       "2600      75.10\n",
       "PSV       53.50\n",
       "SAT       33.59\n",
       "GEN       28.35\n",
       "DC        15.95\n",
       "SCD        1.86\n",
       "NG         1.44\n",
       "WS         1.42\n",
       "TG16       0.16\n",
       "3DO        0.10\n",
       "GG         0.04\n",
       "PCFX       0.03\n",
       "Name: all_sales, dtype: float64"
      ]
     },
     "metadata": {},
     "output_type": "display_data"
    },
    {
     "data": {
      "text/plain": [
       "' Объем продаж по всем платформам с 2010 года'"
      ]
     },
     "metadata": {},
     "output_type": "display_data"
    },
    {
     "data": {
      "text/plain": [
       "platform\n",
       "PS3     441.53\n",
       "X360    375.18\n",
       "PS4     314.00\n",
       "3DS     253.24\n",
       "XOne    158.77\n",
       "PC       97.11\n",
       "WiiU     81.79\n",
       "Wii      77.56\n",
       "PSV      53.50\n",
       "PSP      27.54\n",
       "DS       24.73\n",
       "PS2       0.40\n",
       "Name: all_sales, dtype: float64"
      ]
     },
     "metadata": {},
     "output_type": "display_data"
    },
    {
     "data": {
      "text/plain": [
       "' Объем продаж по всем платформам 2016 год'"
      ]
     },
     "metadata": {},
     "output_type": "display_data"
    },
    {
     "data": {
      "text/plain": [
       "platform\n",
       "PS4     69.15\n",
       "XOne    25.82\n",
       "3DS     15.10\n",
       "PC       5.22\n",
       "WiiU     4.30\n",
       "PSV      4.24\n",
       "PS3      3.16\n",
       "X360     1.22\n",
       "Name: all_sales, dtype: float64"
      ]
     },
     "metadata": {},
     "output_type": "display_data"
    }
   ],
   "source": [
    "display(' Объем продаж по всем платформам за все время')\n",
    "\n",
    "display(games.query('year_of_release > 1980').groupby('platform')['all_sales'].sum().sort_values(ascending= False))\n",
    "\n",
    "display(' Объем продаж по всем платформам с 2010 года')\n",
    "\n",
    "display(games.query('year_of_release > 2010').groupby('platform')['all_sales'].sum().sort_values(ascending= False))\n",
    "\n",
    "display(' Объем продаж по всем платформам 2016 год')\n",
    "\n",
    "display(games.query('year_of_release == 2016').groupby('platform')['all_sales'].sum().sort_values(ascending= False))"
   ]
  },
  {
   "cell_type": "markdown",
   "metadata": {},
   "source": [
    "Play Station во всех его модификациях - безусловный лидер. А две последних таблицы показывают, как умирали платформы с 2010 по 2016 года.\n",
    "\n",
    "Немного подробнее объемы продаж по платформам за 2011-2016 года и отдельно 2016 год."
   ]
  },
  {
   "cell_type": "code",
   "execution_count": 126,
   "metadata": {
    "scrolled": false
   },
   "outputs": [
    {
     "data": {
      "text/plain": [
       "' Объем продаж по всем платформам по годам'"
      ]
     },
     "metadata": {},
     "output_type": "display_data"
    },
    {
     "data": {
      "text/html": [
       "<div>\n",
       "<style scoped>\n",
       "    .dataframe tbody tr th:only-of-type {\n",
       "        vertical-align: middle;\n",
       "    }\n",
       "\n",
       "    .dataframe tbody tr th {\n",
       "        vertical-align: top;\n",
       "    }\n",
       "\n",
       "    .dataframe thead tr th {\n",
       "        text-align: left;\n",
       "    }\n",
       "\n",
       "    .dataframe thead tr:last-of-type th {\n",
       "        text-align: right;\n",
       "    }\n",
       "</style>\n",
       "<table border=\"1\" class=\"dataframe\">\n",
       "  <thead>\n",
       "    <tr>\n",
       "      <th></th>\n",
       "      <th></th>\n",
       "      <th>count</th>\n",
       "      <th>sum</th>\n",
       "    </tr>\n",
       "    <tr>\n",
       "      <th></th>\n",
       "      <th></th>\n",
       "      <th>all_sales</th>\n",
       "      <th>all_sales</th>\n",
       "    </tr>\n",
       "    <tr>\n",
       "      <th>platform</th>\n",
       "      <th>year_of_release</th>\n",
       "      <th></th>\n",
       "      <th></th>\n",
       "    </tr>\n",
       "  </thead>\n",
       "  <tbody>\n",
       "    <tr>\n",
       "      <td rowspan=\"6\" valign=\"top\">3DS</td>\n",
       "      <td>2011</td>\n",
       "      <td>91</td>\n",
       "      <td>60.53</td>\n",
       "    </tr>\n",
       "    <tr>\n",
       "      <td>2012</td>\n",
       "      <td>89</td>\n",
       "      <td>51.01</td>\n",
       "    </tr>\n",
       "    <tr>\n",
       "      <td>2013</td>\n",
       "      <td>87</td>\n",
       "      <td>56.32</td>\n",
       "    </tr>\n",
       "    <tr>\n",
       "      <td>2014</td>\n",
       "      <td>71</td>\n",
       "      <td>43.07</td>\n",
       "    </tr>\n",
       "    <tr>\n",
       "      <td>2015</td>\n",
       "      <td>77</td>\n",
       "      <td>27.21</td>\n",
       "    </tr>\n",
       "    <tr>\n",
       "      <td>2016</td>\n",
       "      <td>43</td>\n",
       "      <td>15.10</td>\n",
       "    </tr>\n",
       "    <tr>\n",
       "      <td rowspan=\"3\" valign=\"top\">DS</td>\n",
       "      <td>2011</td>\n",
       "      <td>91</td>\n",
       "      <td>13.48</td>\n",
       "    </tr>\n",
       "    <tr>\n",
       "      <td>2012</td>\n",
       "      <td>15</td>\n",
       "      <td>10.28</td>\n",
       "    </tr>\n",
       "    <tr>\n",
       "      <td>2013</td>\n",
       "      <td>3</td>\n",
       "      <td>0.97</td>\n",
       "    </tr>\n",
       "    <tr>\n",
       "      <td rowspan=\"6\" valign=\"top\">PC</td>\n",
       "      <td>2011</td>\n",
       "      <td>126</td>\n",
       "      <td>34.55</td>\n",
       "    </tr>\n",
       "    <tr>\n",
       "      <td>2012</td>\n",
       "      <td>61</td>\n",
       "      <td>23.22</td>\n",
       "    </tr>\n",
       "    <tr>\n",
       "      <td>2013</td>\n",
       "      <td>38</td>\n",
       "      <td>12.38</td>\n",
       "    </tr>\n",
       "    <tr>\n",
       "      <td>2014</td>\n",
       "      <td>46</td>\n",
       "      <td>13.25</td>\n",
       "    </tr>\n",
       "    <tr>\n",
       "      <td>2015</td>\n",
       "      <td>48</td>\n",
       "      <td>8.49</td>\n",
       "    </tr>\n",
       "    <tr>\n",
       "      <td>2016</td>\n",
       "      <td>52</td>\n",
       "      <td>5.22</td>\n",
       "    </tr>\n",
       "    <tr>\n",
       "      <td>PS2</td>\n",
       "      <td>2011</td>\n",
       "      <td>6</td>\n",
       "      <td>0.40</td>\n",
       "    </tr>\n",
       "    <tr>\n",
       "      <td rowspan=\"6\" valign=\"top\">PS3</td>\n",
       "      <td>2011</td>\n",
       "      <td>192</td>\n",
       "      <td>154.14</td>\n",
       "    </tr>\n",
       "    <tr>\n",
       "      <td>2012</td>\n",
       "      <td>145</td>\n",
       "      <td>107.29</td>\n",
       "    </tr>\n",
       "    <tr>\n",
       "      <td>2013</td>\n",
       "      <td>125</td>\n",
       "      <td>113.24</td>\n",
       "    </tr>\n",
       "    <tr>\n",
       "      <td>2014</td>\n",
       "      <td>103</td>\n",
       "      <td>47.40</td>\n",
       "    </tr>\n",
       "    <tr>\n",
       "      <td>2015</td>\n",
       "      <td>62</td>\n",
       "      <td>16.30</td>\n",
       "    </tr>\n",
       "    <tr>\n",
       "      <td>2016</td>\n",
       "      <td>32</td>\n",
       "      <td>3.16</td>\n",
       "    </tr>\n",
       "    <tr>\n",
       "      <td rowspan=\"4\" valign=\"top\">PS4</td>\n",
       "      <td>2013</td>\n",
       "      <td>16</td>\n",
       "      <td>25.99</td>\n",
       "    </tr>\n",
       "    <tr>\n",
       "      <td>2014</td>\n",
       "      <td>75</td>\n",
       "      <td>100.00</td>\n",
       "    </tr>\n",
       "    <tr>\n",
       "      <td>2015</td>\n",
       "      <td>136</td>\n",
       "      <td>118.86</td>\n",
       "    </tr>\n",
       "    <tr>\n",
       "      <td>2016</td>\n",
       "      <td>159</td>\n",
       "      <td>69.15</td>\n",
       "    </tr>\n",
       "    <tr>\n",
       "      <td rowspan=\"5\" valign=\"top\">PSP</td>\n",
       "      <td>2011</td>\n",
       "      <td>134</td>\n",
       "      <td>16.72</td>\n",
       "    </tr>\n",
       "    <tr>\n",
       "      <td>2012</td>\n",
       "      <td>104</td>\n",
       "      <td>7.32</td>\n",
       "    </tr>\n",
       "    <tr>\n",
       "      <td>2013</td>\n",
       "      <td>54</td>\n",
       "      <td>3.14</td>\n",
       "    </tr>\n",
       "    <tr>\n",
       "      <td>2014</td>\n",
       "      <td>10</td>\n",
       "      <td>0.24</td>\n",
       "    </tr>\n",
       "    <tr>\n",
       "      <td>2015</td>\n",
       "      <td>3</td>\n",
       "      <td>0.12</td>\n",
       "    </tr>\n",
       "    <tr>\n",
       "      <td rowspan=\"6\" valign=\"top\">PSV</td>\n",
       "      <td>2011</td>\n",
       "      <td>18</td>\n",
       "      <td>4.63</td>\n",
       "    </tr>\n",
       "    <tr>\n",
       "      <td>2012</td>\n",
       "      <td>53</td>\n",
       "      <td>16.19</td>\n",
       "    </tr>\n",
       "    <tr>\n",
       "      <td>2013</td>\n",
       "      <td>63</td>\n",
       "      <td>10.59</td>\n",
       "    </tr>\n",
       "    <tr>\n",
       "      <td>2014</td>\n",
       "      <td>100</td>\n",
       "      <td>11.90</td>\n",
       "    </tr>\n",
       "    <tr>\n",
       "      <td>2015</td>\n",
       "      <td>104</td>\n",
       "      <td>5.95</td>\n",
       "    </tr>\n",
       "    <tr>\n",
       "      <td>2016</td>\n",
       "      <td>84</td>\n",
       "      <td>4.24</td>\n",
       "    </tr>\n",
       "    <tr>\n",
       "      <td rowspan=\"5\" valign=\"top\">Wii</td>\n",
       "      <td>2011</td>\n",
       "      <td>82</td>\n",
       "      <td>45.61</td>\n",
       "    </tr>\n",
       "    <tr>\n",
       "      <td>2012</td>\n",
       "      <td>25</td>\n",
       "      <td>21.08</td>\n",
       "    </tr>\n",
       "    <tr>\n",
       "      <td>2013</td>\n",
       "      <td>8</td>\n",
       "      <td>8.11</td>\n",
       "    </tr>\n",
       "    <tr>\n",
       "      <td>2014</td>\n",
       "      <td>3</td>\n",
       "      <td>2.61</td>\n",
       "    </tr>\n",
       "    <tr>\n",
       "      <td>2015</td>\n",
       "      <td>1</td>\n",
       "      <td>0.15</td>\n",
       "    </tr>\n",
       "    <tr>\n",
       "      <td rowspan=\"5\" valign=\"top\">WiiU</td>\n",
       "      <td>2012</td>\n",
       "      <td>32</td>\n",
       "      <td>17.56</td>\n",
       "    </tr>\n",
       "    <tr>\n",
       "      <td>2013</td>\n",
       "      <td>42</td>\n",
       "      <td>21.65</td>\n",
       "    </tr>\n",
       "    <tr>\n",
       "      <td>2014</td>\n",
       "      <td>30</td>\n",
       "      <td>22.01</td>\n",
       "    </tr>\n",
       "    <tr>\n",
       "      <td>2015</td>\n",
       "      <td>27</td>\n",
       "      <td>16.27</td>\n",
       "    </tr>\n",
       "    <tr>\n",
       "      <td>2016</td>\n",
       "      <td>11</td>\n",
       "      <td>4.30</td>\n",
       "    </tr>\n",
       "    <tr>\n",
       "      <td rowspan=\"6\" valign=\"top\">X360</td>\n",
       "      <td>2011</td>\n",
       "      <td>179</td>\n",
       "      <td>140.18</td>\n",
       "    </tr>\n",
       "    <tr>\n",
       "      <td>2012</td>\n",
       "      <td>105</td>\n",
       "      <td>99.57</td>\n",
       "    </tr>\n",
       "    <tr>\n",
       "      <td>2013</td>\n",
       "      <td>74</td>\n",
       "      <td>88.57</td>\n",
       "    </tr>\n",
       "    <tr>\n",
       "      <td>2014</td>\n",
       "      <td>61</td>\n",
       "      <td>33.77</td>\n",
       "    </tr>\n",
       "    <tr>\n",
       "      <td>2015</td>\n",
       "      <td>33</td>\n",
       "      <td>11.87</td>\n",
       "    </tr>\n",
       "    <tr>\n",
       "      <td>2016</td>\n",
       "      <td>8</td>\n",
       "      <td>1.22</td>\n",
       "    </tr>\n",
       "    <tr>\n",
       "      <td rowspan=\"4\" valign=\"top\">XOne</td>\n",
       "      <td>2013</td>\n",
       "      <td>19</td>\n",
       "      <td>18.96</td>\n",
       "    </tr>\n",
       "    <tr>\n",
       "      <td>2014</td>\n",
       "      <td>61</td>\n",
       "      <td>54.07</td>\n",
       "    </tr>\n",
       "    <tr>\n",
       "      <td>2015</td>\n",
       "      <td>77</td>\n",
       "      <td>59.92</td>\n",
       "    </tr>\n",
       "    <tr>\n",
       "      <td>2016</td>\n",
       "      <td>79</td>\n",
       "      <td>25.82</td>\n",
       "    </tr>\n",
       "  </tbody>\n",
       "</table>\n",
       "</div>"
      ],
      "text/plain": [
       "                             count       sum\n",
       "                         all_sales all_sales\n",
       "platform year_of_release                    \n",
       "3DS      2011                   91     60.53\n",
       "         2012                   89     51.01\n",
       "         2013                   87     56.32\n",
       "         2014                   71     43.07\n",
       "         2015                   77     27.21\n",
       "         2016                   43     15.10\n",
       "DS       2011                   91     13.48\n",
       "         2012                   15     10.28\n",
       "         2013                    3      0.97\n",
       "PC       2011                  126     34.55\n",
       "         2012                   61     23.22\n",
       "         2013                   38     12.38\n",
       "         2014                   46     13.25\n",
       "         2015                   48      8.49\n",
       "         2016                   52      5.22\n",
       "PS2      2011                    6      0.40\n",
       "PS3      2011                  192    154.14\n",
       "         2012                  145    107.29\n",
       "         2013                  125    113.24\n",
       "         2014                  103     47.40\n",
       "         2015                   62     16.30\n",
       "         2016                   32      3.16\n",
       "PS4      2013                   16     25.99\n",
       "         2014                   75    100.00\n",
       "         2015                  136    118.86\n",
       "         2016                  159     69.15\n",
       "PSP      2011                  134     16.72\n",
       "         2012                  104      7.32\n",
       "         2013                   54      3.14\n",
       "         2014                   10      0.24\n",
       "         2015                    3      0.12\n",
       "PSV      2011                   18      4.63\n",
       "         2012                   53     16.19\n",
       "         2013                   63     10.59\n",
       "         2014                  100     11.90\n",
       "         2015                  104      5.95\n",
       "         2016                   84      4.24\n",
       "Wii      2011                   82     45.61\n",
       "         2012                   25     21.08\n",
       "         2013                    8      8.11\n",
       "         2014                    3      2.61\n",
       "         2015                    1      0.15\n",
       "WiiU     2012                   32     17.56\n",
       "         2013                   42     21.65\n",
       "         2014                   30     22.01\n",
       "         2015                   27     16.27\n",
       "         2016                   11      4.30\n",
       "X360     2011                  179    140.18\n",
       "         2012                  105     99.57\n",
       "         2013                   74     88.57\n",
       "         2014                   61     33.77\n",
       "         2015                   33     11.87\n",
       "         2016                    8      1.22\n",
       "XOne     2013                   19     18.96\n",
       "         2014                   61     54.07\n",
       "         2015                   77     59.92\n",
       "         2016                   79     25.82"
      ]
     },
     "metadata": {},
     "output_type": "display_data"
    },
    {
     "data": {
      "text/plain": [
       "' Объем продаж по всем платформам 2016 год'"
      ]
     },
     "metadata": {},
     "output_type": "display_data"
    },
    {
     "data": {
      "text/html": [
       "<div>\n",
       "<style scoped>\n",
       "    .dataframe tbody tr th:only-of-type {\n",
       "        vertical-align: middle;\n",
       "    }\n",
       "\n",
       "    .dataframe tbody tr th {\n",
       "        vertical-align: top;\n",
       "    }\n",
       "\n",
       "    .dataframe thead tr th {\n",
       "        text-align: left;\n",
       "    }\n",
       "\n",
       "    .dataframe thead tr:last-of-type th {\n",
       "        text-align: right;\n",
       "    }\n",
       "</style>\n",
       "<table border=\"1\" class=\"dataframe\">\n",
       "  <thead>\n",
       "    <tr>\n",
       "      <th></th>\n",
       "      <th></th>\n",
       "      <th>count</th>\n",
       "      <th>sum</th>\n",
       "    </tr>\n",
       "    <tr>\n",
       "      <th></th>\n",
       "      <th></th>\n",
       "      <th>all_sales</th>\n",
       "      <th>all_sales</th>\n",
       "    </tr>\n",
       "    <tr>\n",
       "      <th>platform</th>\n",
       "      <th>year_of_release</th>\n",
       "      <th></th>\n",
       "      <th></th>\n",
       "    </tr>\n",
       "  </thead>\n",
       "  <tbody>\n",
       "    <tr>\n",
       "      <td>3DS</td>\n",
       "      <td>2016</td>\n",
       "      <td>43</td>\n",
       "      <td>15.10</td>\n",
       "    </tr>\n",
       "    <tr>\n",
       "      <td>PC</td>\n",
       "      <td>2016</td>\n",
       "      <td>52</td>\n",
       "      <td>5.22</td>\n",
       "    </tr>\n",
       "    <tr>\n",
       "      <td>PS3</td>\n",
       "      <td>2016</td>\n",
       "      <td>32</td>\n",
       "      <td>3.16</td>\n",
       "    </tr>\n",
       "    <tr>\n",
       "      <td>PS4</td>\n",
       "      <td>2016</td>\n",
       "      <td>159</td>\n",
       "      <td>69.15</td>\n",
       "    </tr>\n",
       "    <tr>\n",
       "      <td>PSV</td>\n",
       "      <td>2016</td>\n",
       "      <td>84</td>\n",
       "      <td>4.24</td>\n",
       "    </tr>\n",
       "    <tr>\n",
       "      <td>WiiU</td>\n",
       "      <td>2016</td>\n",
       "      <td>11</td>\n",
       "      <td>4.30</td>\n",
       "    </tr>\n",
       "    <tr>\n",
       "      <td>X360</td>\n",
       "      <td>2016</td>\n",
       "      <td>8</td>\n",
       "      <td>1.22</td>\n",
       "    </tr>\n",
       "    <tr>\n",
       "      <td>XOne</td>\n",
       "      <td>2016</td>\n",
       "      <td>79</td>\n",
       "      <td>25.82</td>\n",
       "    </tr>\n",
       "  </tbody>\n",
       "</table>\n",
       "</div>"
      ],
      "text/plain": [
       "                             count       sum\n",
       "                         all_sales all_sales\n",
       "platform year_of_release                    \n",
       "3DS      2016                   43     15.10\n",
       "PC       2016                   52      5.22\n",
       "PS3      2016                   32      3.16\n",
       "PS4      2016                  159     69.15\n",
       "PSV      2016                   84      4.24\n",
       "WiiU     2016                   11      4.30\n",
       "X360     2016                    8      1.22\n",
       "XOne     2016                   79     25.82"
      ]
     },
     "metadata": {},
     "output_type": "display_data"
    }
   ],
   "source": [
    "# Попробуем найти платформы с максимальными продажами за каждый год\n",
    "display(' Объем продаж по всем платформам по годам')\n",
    "display(games.pivot_table(index =['platform','year_of_release'],\n",
    "                                  values = 'all_sales',\n",
    "                                  aggfunc = ['count','sum']).query('year_of_release > 2010'))\n",
    "\n",
    "display(' Объем продаж по всем платформам 2016 год')\n",
    "\n",
    "display(games.pivot_table(index =['platform','year_of_release'],\n",
    "                                  values = 'all_sales',\n",
    "                                  aggfunc = ['count','sum']).query('year_of_release == 2016'))\n"
   ]
  },
  {
   "cell_type": "markdown",
   "metadata": {},
   "source": [
    "Для выбора актуального периода построим графики продаж:\n",
    "\n",
    "- по платформам с максимальными продажами за весь период наблюдения\n",
    "- по платформам, живым в 2016 году за период 2010-2016 года\n",
    "\n",
    "Для этого сделаем функцию, что бы не повторять код."
   ]
  },
  {
   "cell_type": "code",
   "execution_count": 127,
   "metadata": {},
   "outputs": [],
   "source": [
    "def sales_shedule(bottom_year, top_year, name_plat):\n",
    "    games.query('platform == @name_plat & year_of_release >= @bottom_year & year_of_release <= @top_year').groupby('year_of_release')['all_sales'].sum().plot( kind='bar')\n",
    "    plt.title('Объем продаж платформы '+name_plat)\n",
    "    plt.show()\n",
    "    \n",
    "#x = 'PS2'\n",
    "#sales_shedule(1980,2016,x)"
   ]
  },
  {
   "cell_type": "markdown",
   "metadata": {},
   "source": [
    "Посмотрим наиболее удачные платформы за весь период наблюдения. Оценим их жизненный цикл "
   ]
  },
  {
   "cell_type": "code",
   "execution_count": 128,
   "metadata": {
    "scrolled": false
   },
   "outputs": [
    {
     "data": {
      "text/plain": [
       "'Графики продаж наиболее успешных платформ за весь период наблюдения'"
      ]
     },
     "metadata": {},
     "output_type": "display_data"
    },
    {
     "data": {
      "image/png": "[encoded data removed]",
      "text/plain": [
       "<Figure size 432x288 with 1 Axes>"
      ]
     },
     "metadata": {
      "needs_background": "light"
     },
     "output_type": "display_data"
    },
    {
     "data": {
      "image/png": "[encoded data removed]",
      "text/plain": [
       "<Figure size 432x288 with 1 Axes>"
      ]
     },
     "metadata": {
      "needs_background": "light"
     },
     "output_type": "display_data"
    },
    {
     "data": {
      "image/png": "[encoded data removed]",
      "text/plain": [
       "<Figure size 432x288 with 1 Axes>"
      ]
     },
     "metadata": {
      "needs_background": "light"
     },
     "output_type": "display_data"
    },
    {
     "data": {
      "image/png": "[encoded data removed]",
      "text/plain": [
       "<Figure size 432x288 with 1 Axes>"
      ]
     },
     "metadata": {
      "needs_background": "light"
     },
     "output_type": "display_data"
    },
    {
     "data": {
      "image/png": "[encoded data removed]",
      "text/plain": [
       "<Figure size 432x288 with 1 Axes>"
      ]
     },
     "metadata": {
      "needs_background": "light"
     },
     "output_type": "display_data"
    },
    {
     "data": {
      "image/png": "[encoded data removed]",
      "text/plain": [
       "<Figure size 432x288 with 1 Axes>"
      ]
     },
     "metadata": {
      "needs_background": "light"
     },
     "output_type": "display_data"
    },
    {
     "data": {
      "image/png": "[encoded data removed]",
      "text/plain": [
       "<Figure size 432x288 with 1 Axes>"
      ]
     },
     "metadata": {
      "needs_background": "light"
     },
     "output_type": "display_data"
    }
   ],
   "source": [
    "sked = ['PS2','X360','PS3','Wii','PS','DS','PS4',]\n",
    "list_plat = pd.Series(sked)\n",
    "\n",
    "display('Графики продаж наиболее успешных платформ за весь период наблюдения')\n",
    "for plat in list_plat:\n",
    "    sales_shedule(1980,2016,plat)"
   ]
  },
  {
   "cell_type": "markdown",
   "metadata": {},
   "source": [
    "И платформы, живые в 2016 году  \n"
   ]
  },
  {
   "cell_type": "code",
   "execution_count": 129,
   "metadata": {
    "scrolled": false
   },
   "outputs": [
    {
     "data": {
      "text/plain": [
       "' Графики продаж платформ, которые работают в 2016 году'"
      ]
     },
     "metadata": {},
     "output_type": "display_data"
    },
    {
     "data": {
      "image/png": "[encoded data removed]",
      "text/plain": [
       "<Figure size 432x288 with 1 Axes>"
      ]
     },
     "metadata": {
      "needs_background": "light"
     },
     "output_type": "display_data"
    },
    {
     "data": {
      "image/png": "[encoded data removed]",
      "text/plain": [
       "<Figure size 432x288 with 1 Axes>"
      ]
     },
     "metadata": {
      "needs_background": "light"
     },
     "output_type": "display_data"
    },
    {
     "data": {
      "image/png": "[encoded data removed]",
      "text/plain": [
       "<Figure size 432x288 with 1 Axes>"
      ]
     },
     "metadata": {
      "needs_background": "light"
     },
     "output_type": "display_data"
    },
    {
     "data": {
      "image/png": "[encoded data removed]",
      "text/plain": [
       "<Figure size 432x288 with 1 Axes>"
      ]
     },
     "metadata": {
      "needs_background": "light"
     },
     "output_type": "display_data"
    },
    {
     "data": {
      "image/png": "[encoded data removed]",
      "text/plain": [
       "<Figure size 432x288 with 1 Axes>"
      ]
     },
     "metadata": {
      "needs_background": "light"
     },
     "output_type": "display_data"
    },
    {
     "data": {
      "image/png": "[encoded data removed]",
      "text/plain": [
       "<Figure size 432x288 with 1 Axes>"
      ]
     },
     "metadata": {
      "needs_background": "light"
     },
     "output_type": "display_data"
    },
    {
     "data": {
      "image/png": "[encoded data removed]",
      "text/plain": [
       "<Figure size 432x288 with 1 Axes>"
      ]
     },
     "metadata": {
      "needs_background": "light"
     },
     "output_type": "display_data"
    },
    {
     "data": {
      "image/png": "[encoded data removed]",
      "text/plain": [
       "<Figure size 432x288 with 1 Axes>"
      ]
     },
     "metadata": {
      "needs_background": "light"
     },
     "output_type": "display_data"
    }
   ],
   "source": [
    "sked = ['3DS','PC','PS3','PS4','PSV','WiiU','X360','XOne']\n",
    "list_plat = pd.Series(sked)\n",
    "\n",
    "display(' Графики продаж платформ, которые работают в 2016 году')\n",
    "\n",
    "for plat in list_plat:\n",
    "    sales_shedule(1980,2016,plat)"
   ]
  },
  {
   "cell_type": "markdown",
   "metadata": {},
   "source": [
    "#### Итоги анализа в разрезе платформ\n",
    "\n",
    "Как видно из полученных данных, за период наблюдения на рынок выходили много разных платформ. Первая десятка из них с суммарными объемами продаж приведена ниже :"
   ]
  },
  {
   "cell_type": "code",
   "execution_count": 130,
   "metadata": {
    "scrolled": true
   },
   "outputs": [
    {
     "data": {
      "text/plain": [
       "'Десять самых успешниых платформ за весь период '"
      ]
     },
     "metadata": {},
     "output_type": "display_data"
    },
    {
     "data": {
      "text/plain": [
       "platform\n",
       "PS2     1171.19\n",
       "X360     948.74\n",
       "PS3      921.09\n",
       "Wii      791.91\n",
       "PS       714.26\n",
       "DS       655.36\n",
       "PS4      314.00\n",
       "PSP      273.11\n",
       "GBA      263.70\n",
       "GB       254.43\n",
       "Name: all_sales, dtype: float64"
      ]
     },
     "metadata": {},
     "output_type": "display_data"
    }
   ],
   "source": [
    "display('Десять самых успешниых платформ за весь период ')\n",
    "display(games.query('year_of_release > 1980').groupby('platform')['all_sales'].sum().sort_values(ascending= False).head(10))"
   ]
  },
  {
   "cell_type": "markdown",
   "metadata": {},
   "source": [
    "По шести самым успешным был проведен анализ жизненного цикла платформы. По графикам видно, что только одна из платформ, DC, смогла удержаться на рынке больше 11 лет. Срок жизни успешных платформ от первого выхода на рынок до полного исчезновения составляет 10-11 лет.\n",
    "\n",
    "Я предполагаю взять для дальнейшей работы половину жизненного цикла платформ, то есть рассматривать данные за пять лет, за период 2011 - 2016 года.\n",
    "\n",
    "Для анализа имеет смысл определиться и с платформами, которые имеет смысл принимать во внимание. На 2016 продажи осуществляются по 8 платформам. Выведем объем продаж по ним и посмотрим на него в совокупности с графиками:"
   ]
  },
  {
   "cell_type": "code",
   "execution_count": 131,
   "metadata": {},
   "outputs": [
    {
     "data": {
      "text/plain": [
       "' Объем реализации по платформам 2016 год'"
      ]
     },
     "metadata": {},
     "output_type": "display_data"
    },
    {
     "data": {
      "text/html": [
       "<div>\n",
       "<style scoped>\n",
       "    .dataframe tbody tr th:only-of-type {\n",
       "        vertical-align: middle;\n",
       "    }\n",
       "\n",
       "    .dataframe tbody tr th {\n",
       "        vertical-align: top;\n",
       "    }\n",
       "\n",
       "    .dataframe thead tr th {\n",
       "        text-align: left;\n",
       "    }\n",
       "\n",
       "    .dataframe thead tr:last-of-type th {\n",
       "        text-align: right;\n",
       "    }\n",
       "</style>\n",
       "<table border=\"1\" class=\"dataframe\">\n",
       "  <thead>\n",
       "    <tr>\n",
       "      <th></th>\n",
       "      <th></th>\n",
       "      <th>count</th>\n",
       "      <th>sum</th>\n",
       "    </tr>\n",
       "    <tr>\n",
       "      <th></th>\n",
       "      <th></th>\n",
       "      <th>all_sales</th>\n",
       "      <th>all_sales</th>\n",
       "    </tr>\n",
       "    <tr>\n",
       "      <th>platform</th>\n",
       "      <th>year_of_release</th>\n",
       "      <th></th>\n",
       "      <th></th>\n",
       "    </tr>\n",
       "  </thead>\n",
       "  <tbody>\n",
       "    <tr>\n",
       "      <td>3DS</td>\n",
       "      <td>2016</td>\n",
       "      <td>43</td>\n",
       "      <td>15.10</td>\n",
       "    </tr>\n",
       "    <tr>\n",
       "      <td>PC</td>\n",
       "      <td>2016</td>\n",
       "      <td>52</td>\n",
       "      <td>5.22</td>\n",
       "    </tr>\n",
       "    <tr>\n",
       "      <td>PS3</td>\n",
       "      <td>2016</td>\n",
       "      <td>32</td>\n",
       "      <td>3.16</td>\n",
       "    </tr>\n",
       "    <tr>\n",
       "      <td>PS4</td>\n",
       "      <td>2016</td>\n",
       "      <td>159</td>\n",
       "      <td>69.15</td>\n",
       "    </tr>\n",
       "    <tr>\n",
       "      <td>PSV</td>\n",
       "      <td>2016</td>\n",
       "      <td>84</td>\n",
       "      <td>4.24</td>\n",
       "    </tr>\n",
       "    <tr>\n",
       "      <td>WiiU</td>\n",
       "      <td>2016</td>\n",
       "      <td>11</td>\n",
       "      <td>4.30</td>\n",
       "    </tr>\n",
       "    <tr>\n",
       "      <td>X360</td>\n",
       "      <td>2016</td>\n",
       "      <td>8</td>\n",
       "      <td>1.22</td>\n",
       "    </tr>\n",
       "    <tr>\n",
       "      <td>XOne</td>\n",
       "      <td>2016</td>\n",
       "      <td>79</td>\n",
       "      <td>25.82</td>\n",
       "    </tr>\n",
       "  </tbody>\n",
       "</table>\n",
       "</div>"
      ],
      "text/plain": [
       "                             count       sum\n",
       "                         all_sales all_sales\n",
       "platform year_of_release                    \n",
       "3DS      2016                   43     15.10\n",
       "PC       2016                   52      5.22\n",
       "PS3      2016                   32      3.16\n",
       "PS4      2016                  159     69.15\n",
       "PSV      2016                   84      4.24\n",
       "WiiU     2016                   11      4.30\n",
       "X360     2016                    8      1.22\n",
       "XOne     2016                   79     25.82"
      ]
     },
     "metadata": {},
     "output_type": "display_data"
    }
   ],
   "source": [
    "display(' Объем реализации по платформам 2016 год')\n",
    "display(games.pivot_table(index =['platform','year_of_release'],\n",
    "                                  values = 'all_sales',\n",
    "                                  aggfunc = ['count','sum']).query('year_of_release == 2016'))\n"
   ]
  },
  {
   "cell_type": "markdown",
   "metadata": {},
   "source": [
    "Платформа X360 согласно графику находится в конце жизненного цикла, ей 11 лет. Реализует всего 8 игр и развиваться дальше не будет. Если необходимо, ее можно будет удалить из расчетов.\n",
    "\n",
    "PSV и WiiU имеют примерно одинаковые характеристики. Они практически одновременно вышли на рынок, сравнительно молоды, им 5 лет, но их объемы продаж падают. Я думаю, их нельзя исключать из рассмотрения, они еще будут бороться за рынок.\n",
    "\n",
    "А вот PS3 благополучно умирает и можно предположить, что все основные клиенты перейдут в распоряжение более моллодого и современного PS4.\n",
    "\n",
    "Остальные платформы сравнительно молоды и то, что на графиках мы видим падение объема продаж, это общая тенденция рынка.\n",
    "\n",
    "Таким образом, для прогнозных расчетов я хочу рассматривать следующий список платформ:\n",
    "\n",
    "3DS , PC , PS4 , PSV ,WiiU , XOne"
   ]
  },
  {
   "cell_type": "markdown",
   "metadata": {},
   "source": [
    "Сделаем таблицу для анализа. Вид таблицы: год, группировка по платформам, сумма по платформам по всем регионам"
   ]
  },
  {
   "cell_type": "code",
   "execution_count": 132,
   "metadata": {
    "scrolled": false
   },
   "outputs": [],
   "source": [
    "carrent_year = 2010\n",
    "games_plat = games.query('year_of_release >= @carrent_year').pivot_table(index = ['year_of_release','platform'],\n",
    "                         values = 'all_sales', \n",
    "                         aggfunc = 'sum').reset_index()\n",
    "\n",
    "games_year = games.query('year_of_release >= @carrent_year').pivot_table(index = ['year_of_release'],\n",
    "                         values = 'all_sales',\n",
    "                         aggfunc = 'sum').reset_index()\n",
    "games_plat['market_share'] = 0.0\n",
    "#display('Объем реализации по платформам по годам')\n",
    "#display(games_plat.tail(30))\n",
    "#display('Объем рынка по годам')\n",
    "#display(games_year)"
   ]
  },
  {
   "cell_type": "markdown",
   "metadata": {},
   "source": [
    "Дополним данные по каждому году долю на рынке каждой платформы"
   ]
  },
  {
   "cell_type": "code",
   "execution_count": 133,
   "metadata": {
    "scrolled": false
   },
   "outputs": [],
   "source": [
    "for i in games_year['year_of_release']:\n",
    "    volume_market = games_year['all_sales'].loc[games_year['year_of_release'] == i].values[0]\n",
    "    games_plat['market_share'].loc[games_plat['year_of_release'] == i] = games_plat['all_sales'].loc[games_plat['year_of_release'] == i] / volume_market\n",
    "    \n",
    "#display(games_plat.tail(40))"
   ]
  },
  {
   "cell_type": "markdown",
   "metadata": {},
   "source": [
    "Для вывода графиков сделаем функцию, аналогичную вышеиспользованной"
   ]
  },
  {
   "cell_type": "code",
   "execution_count": 134,
   "metadata": {
    "scrolled": false
   },
   "outputs": [
    {
     "data": {
      "text/plain": [
       "' Графики долей рынка платформ, которые работают в 2016 году в 2010-2016 годах'"
      ]
     },
     "metadata": {},
     "output_type": "display_data"
    },
    {
     "data": {
      "image/png": "[encoded data removed]",
      "text/plain": [
       "<Figure size 432x288 with 1 Axes>"
      ]
     },
     "metadata": {
      "needs_background": "light"
     },
     "output_type": "display_data"
    },
    {
     "data": {
      "image/png": "[encoded data removed]",
      "text/plain": [
       "<Figure size 432x288 with 1 Axes>"
      ]
     },
     "metadata": {
      "needs_background": "light"
     },
     "output_type": "display_data"
    },
    {
     "data": {
      "image/png": "[encoded data removed]",
      "text/plain": [
       "<Figure size 432x288 with 1 Axes>"
      ]
     },
     "metadata": {
      "needs_background": "light"
     },
     "output_type": "display_data"
    },
    {
     "data": {
      "image/png": "[encoded data removed]",
      "text/plain": [
       "<Figure size 432x288 with 1 Axes>"
      ]
     },
     "metadata": {
      "needs_background": "light"
     },
     "output_type": "display_data"
    },
    {
     "data": {
      "image/png": "[encoded data removed]",
      "text/plain": [
       "<Figure size 432x288 with 1 Axes>"
      ]
     },
     "metadata": {
      "needs_background": "light"
     },
     "output_type": "display_data"
    },
    {
     "data": {
      "image/png": "[encoded data removed]",
      "text/plain": [
       "<Figure size 432x288 with 1 Axes>"
      ]
     },
     "metadata": {
      "needs_background": "light"
     },
     "output_type": "display_data"
    },
    {
     "data": {
      "image/png": "[encoded data removed]",
      "text/plain": [
       "<Figure size 432x288 with 1 Axes>"
      ]
     },
     "metadata": {
      "needs_background": "light"
     },
     "output_type": "display_data"
    },
    {
     "data": {
      "image/png": "[encoded data removed]",
      "text/plain": [
       "<Figure size 432x288 with 1 Axes>"
      ]
     },
     "metadata": {
      "needs_background": "light"
     },
     "output_type": "display_data"
    }
   ],
   "source": [
    "def sales_market(bottom_year, top_year, name_plat):\n",
    "    out = games_plat.query('platform == @name_plat & year_of_release >= @bottom_year & year_of_release <= @top_year')\n",
    "    out.plot('year_of_release','market_share', kind = 'bar' )\n",
    "    plt.title('Доля рынка продаж платформы '+name_plat)\n",
    "    plt.axis(ymax = 0.6)\n",
    "    plt.show()\n",
    "    #display(out)\n",
    "    \n",
    "\n",
    "display(' Графики долей рынка платформ, которые работают в 2016 году в 2010-2016 годах')\n",
    "\n",
    "for plat in list_plat:\n",
    "    sales_market(2010,2016,plat)"
   ]
  },
  {
   "cell_type": "markdown",
   "metadata": {},
   "source": [
    "#### Итоги: лидеры роста\n",
    "\n",
    "На графиках хоршо видно то, о чем мы говорили выше. Безусловным лидером является платформа PS4: запустившись в 2013 году она к 2016 году имеет более половины рынка, показывая резкий рост.Также растет, с небольшой потерей в 2016 году, платформа XOne. Ее доля с 2013 года дорасла до 20%. За этими двумя лидерами уверенно держитсся 3DS с долей на уровне 12-15%. \n",
    "\n",
    "Доли рынка PS3 и X360  стремительно падают.\n",
    "\n",
    "\n",
    "#### Ящик с усами\n",
    "\n",
    "Мы уже рассматривали данные сумарных продаж по каждой из платформ за все время, глянем разброс на \"ящике с усами\". Также, для удобства анализа, распечатем все платформы с их реализациями."
   ]
  },
  {
   "cell_type": "code",
   "execution_count": 135,
   "metadata": {},
   "outputs": [],
   "source": [
    "games = games.query('year_of_release > 2010')\n",
    "#display(games['year_of_release'].unique())"
   ]
  },
  {
   "cell_type": "code",
   "execution_count": 136,
   "metadata": {},
   "outputs": [
    {
     "data": {
      "text/plain": [
       "' Объем продаж по всем платформам за все время'"
      ]
     },
     "metadata": {},
     "output_type": "display_data"
    },
    {
     "data": {
      "text/plain": [
       "platform\n",
       "PS3     441.53\n",
       "X360    375.18\n",
       "PS4     314.00\n",
       "3DS     253.24\n",
       "XOne    158.77\n",
       "PC       97.11\n",
       "WiiU     81.79\n",
       "Wii      77.56\n",
       "PSV      53.50\n",
       "PSP      27.54\n",
       "DS       24.73\n",
       "PS2       0.40\n",
       "Name: all_sales, dtype: float64"
      ]
     },
     "metadata": {},
     "output_type": "display_data"
    },
    {
     "data": {
      "image/png": "[encoded data removed]",
      "text/plain": [
       "<Figure size 432x288 with 1 Axes>"
      ]
     },
     "metadata": {
      "needs_background": "light"
     },
     "output_type": "display_data"
    }
   ],
   "source": [
    "display(' Объем продаж по всем платформам за все время')\n",
    "\n",
    "display(games.groupby('platform')['all_sales'].sum().sort_values(ascending= False))\n",
    "\n",
    "plt.boxplot(games.groupby('platform')['all_sales'].sum());"
   ]
  },
  {
   "cell_type": "markdown",
   "metadata": {},
   "source": [
    "На графике хорошо видно, что средний объем продаж в актуальном периоде по всем платформам лежит на уровне 80 млн. долларов. Все квартили довольно плотно расположены: третий квартиль на уровне 250 млн. долларов, четвертый ориентировочно около 450 млн. долларов. Вниз ящик растянут  почти до ноля. Все продажи лежат плотно, в пределах четырех квартилей, выбросов на графике не видно. По форме ящика можно говорить, что график распределения продаж будет сильно растянут вправо.\n",
    "\n",
    "Посмотрим аналогичные ящики по платформам\n",
    "\n",
    "\n"
   ]
  },
  {
   "cell_type": "code",
   "execution_count": 137,
   "metadata": {
    "scrolled": false
   },
   "outputs": [
    {
     "data": {
      "image/png": "[encoded data removed]",
      "text/plain": [
       "<Figure size 864x504 with 4 Axes>"
      ]
     },
     "metadata": {
      "needs_background": "light"
     },
     "output_type": "display_data"
    }
   ],
   "source": [
    "plt.figure(figsize=(12, 7))\n",
    "\n",
    "\n",
    "plt.subplot(2,2,1)\n",
    "plt.axis(ymax = 25)\n",
    "plt.title('Платформа PS3')\n",
    "plt.boxplot(games.query('platform == \"PS3\"')['all_sales'])\n",
    "\n",
    "\n",
    "\n",
    "plt.subplot(2,2,2)\n",
    "plt.axis(ymax = 25)\n",
    "plt.title('Платформа X360')\n",
    "plt.boxplot(games.query('platform == \"X360\"')['all_sales'])\n",
    "\n",
    "plt.subplot(2,2,3)\n",
    "plt.axis(ymax = 25)\n",
    "plt.title('Платформа PS4')\n",
    "plt.boxplot(games.query('platform == \"PS4\"')['all_sales'])\n",
    "\n",
    "\n",
    "plt.subplot(2,2,4)\n",
    "plt.axis(ymax = 25)\n",
    "plt.title('Платформа 3DS')\n",
    "plt.boxplot(games.query('platform == \"3DS\"')['all_sales'])\n",
    "\n",
    "plt.show()"
   ]
  },
  {
   "cell_type": "markdown",
   "metadata": {},
   "source": [
    "По каждой из платформ картина почти похожая. Основная масса продаж, с первого по четвертый квартиль, лежит где-то внизу. И есть некоторое количество программ, которые \"выстрелили\""
   ]
  },
  {
   "cell_type": "code",
   "execution_count": 138,
   "metadata": {
    "scrolled": false
   },
   "outputs": [
    {
     "data": {
      "text/plain": [
       "(0, 3.5)"
      ]
     },
     "execution_count": 138,
     "metadata": {},
     "output_type": "execute_result"
    },
    {
     "data": {
      "image/png": "[encoded data removed]",
      "text/plain": [
       "<Figure size 720x504 with 1 Axes>"
      ]
     },
     "metadata": {
      "needs_background": "light"
     },
     "output_type": "display_data"
    }
   ],
   "source": [
    "# КОД РЕВЬЮЕРА\n",
    "\n",
    "games.boxplot('all_sales', by='platform', figsize=(10,7))\n",
    "plt.ylim(0,3.5)"
   ]
  },
  {
   "cell_type": "markdown",
   "metadata": {},
   "source": [
    "### Влияние отзывов пользователей и критиков на продажи\n",
    "\n",
    "\n",
    "Для этого анализа возьмем платформу X360. Из лидеров на 2016 год платформ она наиболее древняя и имеет большой ассортимент.\n",
    "\n",
    "Отберем все, что было создано на этой платформе."
   ]
  },
  {
   "cell_type": "code",
   "execution_count": 139,
   "metadata": {
    "scrolled": false
   },
   "outputs": [
    {
     "data": {
      "image/png": "[encoded data removed]",
      "text/plain": [
       "<Figure size 432x288 with 1 Axes>"
      ]
     },
     "metadata": {
      "needs_background": "light"
     },
     "output_type": "display_data"
    },
    {
     "data": {
      "image/png": "[encoded data removed]",
      "text/plain": [
       "<Figure size 432x288 with 1 Axes>"
      ]
     },
     "metadata": {
      "needs_background": "light"
     },
     "output_type": "display_data"
    },
    {
     "data": {
      "text/plain": [
       "'Отзывы критиков/продажи'"
      ]
     },
     "metadata": {},
     "output_type": "display_data"
    },
    {
     "data": {
      "text/plain": [
       "0.3900051055540925"
      ]
     },
     "metadata": {},
     "output_type": "display_data"
    },
    {
     "data": {
      "text/plain": [
       "'Отзывы пользователей/продажи'"
      ]
     },
     "metadata": {},
     "output_type": "display_data"
    },
    {
     "data": {
      "text/plain": [
       "0.0389181707291026"
      ]
     },
     "metadata": {},
     "output_type": "display_data"
    }
   ],
   "source": [
    "#display(games.query('platform == \"X360\" ').sort_values('year_of_release'))\n",
    "\n",
    "games.query('platform == \"X360\" ').plot(x = 'critic_score',\n",
    "                                       y = 'all_sales',\n",
    "                                       kind = 'scatter',\n",
    "                                       grid = True)\n",
    "plt.title('Отзывы критиков')\n",
    "games.query('platform == \"X360\" ').plot(x = 'user_score',\n",
    "                                       y = 'all_sales',\n",
    "                                       kind = 'scatter',\n",
    "                                       grid = True)\n",
    "plt.title('Отзывы пользователей')\n",
    "plt.show()\n",
    "\n",
    "\n",
    "display('Отзывы критиков/продажи')\n",
    "dt = games.query('platform == \"X360\" ')                    # непонятно почему, но функция .corr не считает корреляцию\n",
    "dt['critic_score'] = dt['critic_score'].astype('float')    # корреляцию между int и float  \n",
    "display(dt['all_sales'].corr(dt['critic_score']))          # пришлось преобразовывать тип\n",
    "\n",
    "display('Отзывы пользователей/продажи')\n",
    "display(games.query('platform == \"X360\" ')['user_score'].corr(games.query('platform == \"X360\" ')['all_sales']))\n",
    "\n",
    "\n",
    "\n"
   ]
  },
  {
   "cell_type": "markdown",
   "metadata": {},
   "source": [
    "Посмотрим такие же кореляции просто по всему массиву данных"
   ]
  },
  {
   "cell_type": "code",
   "execution_count": 140,
   "metadata": {},
   "outputs": [
    {
     "data": {
      "text/plain": [
       "'Отзывы критиков/продажи'"
      ]
     },
     "metadata": {},
     "output_type": "display_data"
    },
    {
     "data": {
      "text/plain": [
       "0.3900051055540925"
      ]
     },
     "metadata": {},
     "output_type": "display_data"
    },
    {
     "data": {
      "text/plain": [
       "'Отзывы пользователей/продажи'"
      ]
     },
     "metadata": {},
     "output_type": "display_data"
    },
    {
     "data": {
      "text/plain": [
       "0.03163612772559288"
      ]
     },
     "metadata": {},
     "output_type": "display_data"
    }
   ],
   "source": [
    "display('Отзывы критиков/продажи')\n",
    "#dt = games.query('platform == \"X360\" ')                    # непонятно почему, но функция .corr не считает корреляцию\n",
    "dt['critic_score'] = dt['critic_score'].astype('float')    # корреляцию между int и float  \n",
    "display(dt['all_sales'].corr(dt['critic_score']))          # пришлось преобразовывать тип\n",
    "\n",
    "display('Отзывы пользователей/продажи')\n",
    "display(games['user_score'].corr(games['all_sales']))\n"
   ]
  },
  {
   "cell_type": "markdown",
   "metadata": {},
   "source": [
    "#### Вывод: критики и пользователи\n",
    "\n",
    "На основании данных можно сделать вывод, что для платформы X360 разброс мнений пользователей гораздо сильнее разбросан, чем критиков. И можно однозначно сказать, что мнение критиков гораздо сильнее коррелирует с объемом продаж\n",
    "\n",
    "Вообще по всем платформам наблюдается аналогичная тенденция\n",
    "\n",
    "### Анализ данных по жанрам\n",
    "\n",
    "Построим сразу гистограмму распределния по жанрам за весь период наблюдения\n"
   ]
  },
  {
   "cell_type": "code",
   "execution_count": 141,
   "metadata": {
    "scrolled": false
   },
   "outputs": [
    {
     "data": {
      "image/png": "[encoded data removed]",
      "text/plain": [
       "<Figure size 432x288 with 1 Axes>"
      ]
     },
     "metadata": {
      "needs_background": "light"
     },
     "output_type": "display_data"
    },
    {
     "data": {
      "image/png": "[encoded data removed]",
      "text/plain": [
       "<Figure size 432x288 with 1 Axes>"
      ]
     },
     "metadata": {
      "needs_background": "light"
     },
     "output_type": "display_data"
    },
    {
     "data": {
      "image/png": "[encoded data removed]",
      "text/plain": [
       "<Figure size 432x288 with 1 Axes>"
      ]
     },
     "metadata": {
      "needs_background": "light"
     },
     "output_type": "display_data"
    }
   ],
   "source": [
    "games.groupby('genre')['all_sales'].sum().plot(kind = 'bar')\n",
    "plt.title('Общий объем продаж')\n",
    "plt.show()\n",
    "games.groupby('genre')['all_sales'].mean().plot(kind = 'bar')\n",
    "plt.title('Средний объем продаж на игру')\n",
    "plt.show()\n",
    "games.groupby('genre')['all_sales'].median().plot(kind = 'bar')\n",
    "plt.title('Медиана объема продаж на игру')\n",
    "plt.show()"
   ]
  },
  {
   "cell_type": "markdown",
   "metadata": {},
   "source": [
    "#### Вывод по жанрам\n",
    "\n",
    "Явный лидер по продажам - жанр \"Action\". Наименьшим спросом пользуются \"Adventure', 'Puzzle', 'Strategy'.\n",
    "\n",
    "Соотношение медианы и среднего повторяет то, что мы видим по \"ящику с усами\": значительный объем продаж делается на выбросах, на наиболее удачных нескольких играх.\n",
    "\n",
    "## Портрет пользователя\n",
    "\n",
    "Изучим в разрезе регионов популярность платформ и жанров, а также посморим на влияние рейтингов ESRB"
   ]
  },
  {
   "cell_type": "code",
   "execution_count": 142,
   "metadata": {
    "scrolled": false
   },
   "outputs": [
    {
     "data": {
      "text/plain": [
       "' Первые пять платформ'"
      ]
     },
     "metadata": {},
     "output_type": "display_data"
    },
    {
     "data": {
      "image/png": "[encoded data removed]",
      "text/plain": [
       "<Figure size 432x288 with 1 Axes>"
      ]
     },
     "metadata": {
      "needs_background": "light"
     },
     "output_type": "display_data"
    },
    {
     "data": {
      "image/png": "[encoded data removed]",
      "text/plain": [
       "<Figure size 432x288 with 1 Axes>"
      ]
     },
     "metadata": {
      "needs_background": "light"
     },
     "output_type": "display_data"
    },
    {
     "data": {
      "image/png": "[encoded data removed]",
      "text/plain": [
       "<Figure size 432x288 with 1 Axes>"
      ]
     },
     "metadata": {
      "needs_background": "light"
     },
     "output_type": "display_data"
    }
   ],
   "source": [
    "#display(games.groupby('platform')['eu_sales'].sum().sort_values(ascending= False).head())\n",
    "display(' Первые пять платформ')\n",
    "games.groupby('platform')['eu_sales'].sum().sort_values(ascending= False).head().plot(kind = 'bar')\n",
    "plt.axis(ymax = 250)\n",
    "plt.title('Топ по платформам Европа')\n",
    "plt.show()\n",
    "games.groupby('platform')['na_sales'].sum().sort_values(ascending= False).head().plot(kind = 'bar')\n",
    "plt.axis(ymax = 250)\n",
    "plt.title('Топ по платформам Азия')\n",
    "plt.show()\n",
    "games.groupby('platform')['jp_sales'].sum().sort_values(ascending= False).head().plot(kind = 'bar')\n",
    "plt.axis(ymax = 250)\n",
    "plt.title('Топ по платформам Япония')\n",
    "plt.show()"
   ]
  },
  {
   "cell_type": "code",
   "execution_count": 143,
   "metadata": {
    "scrolled": false
   },
   "outputs": [
    {
     "data": {
      "text/plain": [
       "' Первые пять жанров'"
      ]
     },
     "metadata": {},
     "output_type": "display_data"
    },
    {
     "data": {
      "image/png": "[encoded data removed]",
      "text/plain": [
       "<Figure size 432x288 with 1 Axes>"
      ]
     },
     "metadata": {
      "needs_background": "light"
     },
     "output_type": "display_data"
    },
    {
     "data": {
      "image/png": "[encoded data removed]",
      "text/plain": [
       "<Figure size 432x288 with 1 Axes>"
      ]
     },
     "metadata": {
      "needs_background": "light"
     },
     "output_type": "display_data"
    },
    {
     "data": {
      "image/png": "[encoded data removed]",
      "text/plain": [
       "<Figure size 432x288 with 1 Axes>"
      ]
     },
     "metadata": {
      "needs_background": "light"
     },
     "output_type": "display_data"
    }
   ],
   "source": [
    "display(' Первые пять жанров')\n",
    "\n",
    "games.groupby('genre')['eu_sales'].sum().sort_values(ascending= False).head().plot(kind = 'bar')\n",
    "plt.axis(ymax = 250)\n",
    "plt.title('Топ по жанрам Европа')\n",
    "plt.show()\n",
    "games.groupby('genre')['na_sales'].sum().sort_values(ascending= False).head().plot(kind = 'bar')\n",
    "plt.axis(ymax = 250)\n",
    "plt.title('Топ по жанрам Азия')\n",
    "plt.show()\n",
    "games.groupby('genre')['jp_sales'].sum().sort_values(ascending= False).head().plot(kind = 'bar')\n",
    "plt.axis(ymax = 250)\n",
    "plt.title('Топ по жанрам Япония')\n",
    "plt.show()"
   ]
  },
  {
   "cell_type": "code",
   "execution_count": 144,
   "metadata": {
    "scrolled": true
   },
   "outputs": [
    {
     "data": {
      "text/plain": [
       "rating\n",
       "M       250.23\n",
       "E       135.30\n",
       "T        81.15\n",
       "E10+     72.89\n",
       "RP        0.03\n",
       "Name: eu_sales, dtype: float64"
      ]
     },
     "metadata": {},
     "output_type": "display_data"
    }
   ],
   "source": [
    "display(games.groupby('rating')['eu_sales'].sum().sort_values(ascending= False))"
   ]
  },
  {
   "cell_type": "markdown",
   "metadata": {},
   "source": [
    "По суммам продаж у нас есть только данные по пяти видам рейтинга. А что же с другими рейтингами?\n",
    "\n",
    " 'K-A', 'AO', 'EC', "
   ]
  },
  {
   "cell_type": "code",
   "execution_count": 145,
   "metadata": {
    "scrolled": true
   },
   "outputs": [
    {
     "data": {
      "text/html": [
       "<div>\n",
       "<style scoped>\n",
       "    .dataframe tbody tr th:only-of-type {\n",
       "        vertical-align: middle;\n",
       "    }\n",
       "\n",
       "    .dataframe tbody tr th {\n",
       "        vertical-align: top;\n",
       "    }\n",
       "\n",
       "    .dataframe thead th {\n",
       "        text-align: right;\n",
       "    }\n",
       "</style>\n",
       "<table border=\"1\" class=\"dataframe\">\n",
       "  <thead>\n",
       "    <tr style=\"text-align: right;\">\n",
       "      <th></th>\n",
       "      <th>name</th>\n",
       "      <th>platform</th>\n",
       "      <th>genre</th>\n",
       "      <th>year_of_release</th>\n",
       "      <th>critic_score</th>\n",
       "      <th>user_score</th>\n",
       "      <th>rating</th>\n",
       "      <th>na_sales</th>\n",
       "      <th>eu_sales</th>\n",
       "      <th>jp_sales</th>\n",
       "      <th>other_sales</th>\n",
       "      <th>all_sales</th>\n",
       "    </tr>\n",
       "  </thead>\n",
       "  <tbody>\n",
       "  </tbody>\n",
       "</table>\n",
       "</div>"
      ],
      "text/plain": [
       "Empty DataFrame\n",
       "Columns: [name, platform, genre, year_of_release, critic_score, user_score, rating, na_sales, eu_sales, jp_sales, other_sales, all_sales]\n",
       "Index: []"
      ]
     },
     "metadata": {},
     "output_type": "display_data"
    }
   ],
   "source": [
    "display(games.query('rating == \"K-A\" or rating == \"AO\" or rating == \"EC\"'))"
   ]
  },
  {
   "cell_type": "code",
   "execution_count": 146,
   "metadata": {},
   "outputs": [],
   "source": [
    "games['rating'].fillna(\"No rating\", inplace = True)    # заменим пустые значения рейтингов на No rating"
   ]
  },
  {
   "cell_type": "code",
   "execution_count": 147,
   "metadata": {
    "scrolled": false
   },
   "outputs": [
    {
     "data": {
      "text/plain": [
       "' Графики по ограничениям по рейтингу'"
      ]
     },
     "metadata": {},
     "output_type": "display_data"
    },
    {
     "data": {
      "image/png": "[encoded data removed]",
      "text/plain": [
       "<Figure size 432x288 with 1 Axes>"
      ]
     },
     "metadata": {
      "needs_background": "light"
     },
     "output_type": "display_data"
    },
    {
     "data": {
      "image/png": "[encoded data removed]",
      "text/plain": [
       "<Figure size 432x288 with 1 Axes>"
      ]
     },
     "metadata": {
      "needs_background": "light"
     },
     "output_type": "display_data"
    },
    {
     "data": {
      "image/png": "[encoded data removed]",
      "text/plain": [
       "<Figure size 432x288 with 1 Axes>"
      ]
     },
     "metadata": {
      "needs_background": "light"
     },
     "output_type": "display_data"
    }
   ],
   "source": [
    "display(' Графики по ограничениям по рейтингу')\n",
    "games.groupby('rating')['eu_sales'].sum().sort_values(ascending= False).plot(kind = 'bar')\n",
    "plt.axis(ymax = 350)\n",
    "plt.title('Топ по рейтигу ESRB Европа')\n",
    "plt.show()\n",
    "games.groupby('rating')['na_sales'].sum().sort_values(ascending= False).plot(kind = 'bar')\n",
    "plt.axis(ymax = 350)\n",
    "plt.title('Топ по рейтигу ESRB Азия')\n",
    "plt.show()\n",
    "games.groupby('rating')['jp_sales'].sum().sort_values(ascending= False).plot(kind = 'bar')\n",
    "plt.axis(ymax = 350)\n",
    "plt.title('Топ по рейтингу ESRB Япония')\n",
    "plt.show()"
   ]
  },
  {
   "cell_type": "markdown",
   "metadata": {},
   "source": [
    "### Выводы: портрет пользователя, разные регионы\n",
    "\n",
    "Мы посмотрели оазличия в поведении пользователей в Европе, Азии и Японии в предпочтениях по платформам, жанрам и ограничениям.\n",
    "\n",
    "Пользователи Европы и Азии предпочитают одинаковые платформы с небольшими различиями. Жители Японии препочитают платформы, созданный у них в стране.\n",
    "\n",
    "В предпочтениях по жанрам европейцы и азиаты очень похожи, у японцев на первом месте стоит ролевая игра, а остальное как у других регионов\n",
    "\n",
    "По ограничениям никаких неожиданностей по всем регионам: чем меньше ограничений, тем выше продажи. Однако в стороне опять страна восходящего солнца: продажа игр без рейтига в Японии превосходит все другие продажи.\n",
    "\n",
    "\n",
    "\n",
    "\n",
    "## Проверка гипотез\n",
    "\n",
    "### Гипотеза о совпадении рейтинов платформ\n",
    "\n",
    "Сформулируем гипотезы. Нулевая гипотеза: средние пользовательсткие рейтинги платформ XOne и PC одинаковые\n",
    "\n",
    "Альтенативная гипотеза:средние пользовательсткие рейтинги платформ XOne и PC не  равны\n",
    "\n",
    "Проверяем нулевую гипотезу\n"
   ]
  },
  {
   "cell_type": "code",
   "execution_count": 148,
   "metadata": {},
   "outputs": [
    {
     "data": {
      "text/plain": [
       "0.6267602271422317"
      ]
     },
     "metadata": {},
     "output_type": "display_data"
    },
    {
     "data": {
      "text/plain": [
       "' Не получилось отвергнуть нулевую гипотезу'"
      ]
     },
     "metadata": {},
     "output_type": "display_data"
    }
   ],
   "source": [
    "alfa = 0.05\n",
    "results = st.ttest_ind(games.query('platform == \"XOne\"')['user_score'],\n",
    "                       games.query('platform == \"PC\"')['user_score'],\n",
    "                      nan_policy = 'omit')\n",
    "display(results.pvalue)\n",
    "if results.pvalue < alfa:\n",
    "    display('Отвергаем нулевую гипотезу')\n",
    "else:\n",
    "    display( ' Не получилось отвергнуть нулевую гипотезу')\n"
   ]
  },
  {
   "cell_type": "markdown",
   "metadata": {},
   "source": [
    "### Гипотеза о рейтингах жанров \n",
    "\n",
    "Сформулируем гипотезы. Нулевая гипотеза: Средние пользовательские рейтинги Action и Sports равны.\n",
    "\n",
    "Альтенативная гипотеза: средние рейтинги Action и Sports не равны\n",
    "\n",
    "Проверим альтернативную гипотезу"
   ]
  },
  {
   "cell_type": "code",
   "execution_count": 149,
   "metadata": {},
   "outputs": [
    {
     "data": {
      "text/plain": [
       "5.1974550252128566e-24"
      ]
     },
     "metadata": {},
     "output_type": "display_data"
    },
    {
     "data": {
      "text/plain": [
       "'Отвергаем нулевую гипотезу'"
      ]
     },
     "metadata": {},
     "output_type": "display_data"
    }
   ],
   "source": [
    "alfa = 0.05\n",
    "results = st.ttest_ind(games.query('genre == \"Sports\"')['user_score'],\n",
    "                       games.query('genre == \"Action\"')['user_score'],\n",
    "                      nan_policy = 'omit')\n",
    "display(results.pvalue)\n",
    "if results.pvalue < alfa:\n",
    "    display('Отвергаем нулевую гипотезу')\n",
    "else:\n",
    "    display( ' Не получилось отвергнуть нулевую гипотезу')\n"
   ]
  },
  {
   "cell_type": "markdown",
   "metadata": {},
   "source": [
    "### Вывод по гипотезам\n",
    "В результате проверки гипотез делаем вывод:\n",
    "- гипотеза средние пользовательсткие рейтинги платформ XOne и PC одинаковые  верна\n",
    "- гипотеза средние пользовательские рейтинги Action и Sports разные  верна"
   ]
  },
  {
   "cell_type": "markdown",
   "metadata": {},
   "source": [
    "## Общие выводы по анализу\n",
    "\n",
    "Для анализа был представлен массив данных по продажам электронных игр с 1980 по 2016 годы с данными по объемам продаж по регионам, рейтингами и ограничениями. Для работы был поставлен ряд вопросов, на которые были дыны ответы в ходе проведения работы. В данном разделе сведем все ответы на поставленные вопросы.\n",
    "\n",
    "Анализ рынка показал, что до 2008 года продажи электронных игр быстро росли, после 2008 года стали быстро падать и к 2016 году упали в 4,16 раз.\n",
    "\n",
    "Был проведен анализ данных по объемам продаж по платформам. Был сделан вывод, что средний цикл жизни платформы составляет 10-11 лет. За этот период платформа выходит на рынок, достигает своего максимума продаж к середине срока и затем падает практически до ноля. В принципе, в этом нет ничего неожиданного, раз в 10 лет кардинально меняются требования к вычислительной технике и качеству и скорости игр.\n",
    "\n",
    "Абсолютным лидером является плтформа PS. Мало того, что PS2 является самым успешниым за все время наблюдения, но ее клоны все время находятся на передовых позициях. \n",
    "\n",
    "Для анализа и попытки прогноза развития выл выбран актуальный период 2010-2011 года. Это примерно половина жизненного цикла платформы, и на этом периоде виден и рост и угазание платформ. Так как рынок падает, для оценки платформ були использованы не абсолютные показатели продаж, а доля каждой платформы на рынке.\n",
    "\n",
    "Безусловным лидером является платформа PS4: запустившись в 2013 году она к 2016 году имеет более половины рынка, показывая резкий рост.Также растет, с небольшой потерей в 2016 году, платформа XOne. Ее доля с 2013 года дорасла до 20%. За этими двумя лидерами уверенно держитсся 3DS с долей на уровне 12-15%.\n",
    "Доли рынка PS3 и X360 стремительно падают.\n",
    "\n",
    "Поквартильный анализ показал, что основная масса программ по объемам продаж находится в \"ящике\", \"Усы\" близки к ящику. Это означает, что продажи осноной массы платформ находятся близко друг к другу. На этом же графике видны \"выбросы\" наиболее успешных программ. Эти же данные можно наблюдать в таблице.\n",
    "\n",
    "На основании анализа отзывов критиков и пользователей, можно говорить о высокой корреляции между оценками критиков и объемами продаж. По разбросам видно, что мнения критиков менее разнообразны и коррелируют с высокими показателями за объемами продаж. Мнения пользователей имею большие разбросы, разнообразие, и их корреляция с объемами продаж в два раза меньше, чем корреляция критиков. Делать вывод, что мнение критиков поднимает объем продаж или наоборот, что чем выше объем продаж, тем более признанной является игра, я не решаюсь.\n",
    "\n",
    "Были исследованы региональные особенности рынка игр по трем регионам: Европа, Азия и Япония. Был сделан анализ по предпочтительным платформам и поведению пользователей по жанрам и рейтингу ESRB. Можно утверждать, что пользователи из Японии болеe тяготеют к своим платформам, играя на 3DS,PS4,PSS, а поведение европейцев и азиатов  одинаковы, они играют на PS3, PS4, X360. \n",
    "Жанровые предпочтения в Европе и Азии очень близки, здесь предпочитают 'Action', 'Shooter', 'Sports', а жители Японии 'Role- Playing', 'Action', 'Misc'. \n",
    "В отношении рейтига ESRB  жители всех трех регионов практически не сильно отличаются.\n",
    "\n",
    "Дополнительно была проверена и подтверждена гипотеза, что пользовательские рейтинги платформ XOne одинаковы\n",
    "Проверена и подтверждена гипотеза, что  средние пользовательские рейтинги Action и Sports разные "
   ]
  }
 ],
 "metadata": {
  "ExecuteTimeLog": [
   {
    "duration": 259,
    "start_time": "2021-09-27T12:22:15.275Z"
   },
   {
    "duration": 1065,
    "start_time": "2021-09-27T12:22:30.986Z"
   },
   {
    "duration": 53,
    "start_time": "2021-09-27T12:22:32.053Z"
   },
   {
    "duration": 57,
    "start_time": "2021-09-27T12:23:56.639Z"
   },
   {
    "duration": 15,
    "start_time": "2021-09-27T12:35:05.072Z"
   },
   {
    "duration": 5,
    "start_time": "2021-09-27T12:39:07.365Z"
   },
   {
    "duration": 25,
    "start_time": "2021-09-27T12:45:03.871Z"
   },
   {
    "duration": 6,
    "start_time": "2021-09-27T12:50:05.642Z"
   },
   {
    "duration": 6,
    "start_time": "2021-09-27T12:50:27.174Z"
   },
   {
    "duration": 290,
    "start_time": "2021-09-27T12:50:53.297Z"
   },
   {
    "duration": 6,
    "start_time": "2021-09-27T12:51:39.491Z"
   },
   {
    "duration": 4404,
    "start_time": "2021-09-27T12:52:31.771Z"
   },
   {
    "duration": 3,
    "start_time": "2021-09-27T12:52:57.096Z"
   },
   {
    "duration": 61,
    "start_time": "2021-09-27T12:52:57.100Z"
   },
   {
    "duration": 37,
    "start_time": "2021-09-27T12:52:57.164Z"
   },
   {
    "duration": 3969,
    "start_time": "2021-09-27T12:52:57.204Z"
   },
   {
    "duration": 205,
    "start_time": "2021-09-27T12:53:41.228Z"
   },
   {
    "duration": 13,
    "start_time": "2021-09-27T12:55:02.936Z"
   },
   {
    "duration": 10,
    "start_time": "2021-09-27T13:00:10.343Z"
   },
   {
    "duration": 3,
    "start_time": "2021-09-27T13:00:46.608Z"
   },
   {
    "duration": 60,
    "start_time": "2021-09-27T13:00:46.613Z"
   },
   {
    "duration": 25,
    "start_time": "2021-09-27T13:00:46.676Z"
   },
   {
    "duration": 13,
    "start_time": "2021-09-27T13:00:46.703Z"
   },
   {
    "duration": 203,
    "start_time": "2021-09-27T13:00:46.718Z"
   },
   {
    "duration": 2,
    "start_time": "2021-09-27T13:01:42.619Z"
   },
   {
    "duration": 57,
    "start_time": "2021-09-27T13:01:42.646Z"
   },
   {
    "duration": 29,
    "start_time": "2021-09-27T13:01:42.705Z"
   },
   {
    "duration": 14,
    "start_time": "2021-09-27T13:01:42.736Z"
   },
   {
    "duration": 4541,
    "start_time": "2021-09-27T13:01:42.752Z"
   },
   {
    "duration": 13,
    "start_time": "2021-09-27T13:02:50.817Z"
   },
   {
    "duration": 31,
    "start_time": "2021-09-27T13:05:17.147Z"
   },
   {
    "duration": 215,
    "start_time": "2021-09-27T13:06:25.376Z"
   },
   {
    "duration": 5,
    "start_time": "2021-09-27T13:08:08.588Z"
   },
   {
    "duration": 7,
    "start_time": "2021-09-27T13:13:43.008Z"
   },
   {
    "duration": 10,
    "start_time": "2021-09-27T13:16:18.464Z"
   },
   {
    "duration": 15,
    "start_time": "2021-09-27T13:28:12.885Z"
   },
   {
    "duration": 247,
    "start_time": "2021-09-27T13:35:42.375Z"
   },
   {
    "duration": 6,
    "start_time": "2021-09-27T13:36:00.670Z"
   },
   {
    "duration": 11,
    "start_time": "2021-09-27T13:36:38.129Z"
   },
   {
    "duration": 3,
    "start_time": "2021-09-27T13:37:07.784Z"
   },
   {
    "duration": 64,
    "start_time": "2021-09-27T13:37:07.789Z"
   },
   {
    "duration": 24,
    "start_time": "2021-09-27T13:37:07.854Z"
   },
   {
    "duration": 19,
    "start_time": "2021-09-27T13:37:07.880Z"
   },
   {
    "duration": 12,
    "start_time": "2021-09-27T13:37:07.901Z"
   },
   {
    "duration": 15,
    "start_time": "2021-09-27T13:37:07.915Z"
   },
   {
    "duration": 68,
    "start_time": "2021-09-27T13:37:07.932Z"
   },
   {
    "duration": -13,
    "start_time": "2021-09-27T13:37:08.015Z"
   },
   {
    "duration": 3,
    "start_time": "2021-09-27T13:37:23.152Z"
   },
   {
    "duration": 65,
    "start_time": "2021-09-27T13:37:23.157Z"
   },
   {
    "duration": 26,
    "start_time": "2021-09-27T13:37:23.224Z"
   },
   {
    "duration": 12,
    "start_time": "2021-09-27T13:37:23.252Z"
   },
   {
    "duration": 35,
    "start_time": "2021-09-27T13:37:23.266Z"
   },
   {
    "duration": 13,
    "start_time": "2021-09-27T13:37:23.302Z"
   },
   {
    "duration": 14,
    "start_time": "2021-09-27T13:37:23.316Z"
   },
   {
    "duration": 5221,
    "start_time": "2021-09-27T13:37:23.333Z"
   },
   {
    "duration": 17,
    "start_time": "2021-09-27T13:37:53.721Z"
   },
   {
    "duration": 221,
    "start_time": "2021-09-27T13:47:28.161Z"
   },
   {
    "duration": 21,
    "start_time": "2021-09-27T13:50:27.649Z"
   },
   {
    "duration": 3,
    "start_time": "2021-09-27T13:51:27.607Z"
   },
   {
    "duration": 77,
    "start_time": "2021-09-27T13:51:27.612Z"
   },
   {
    "duration": 27,
    "start_time": "2021-09-27T13:51:27.690Z"
   },
   {
    "duration": 18,
    "start_time": "2021-09-27T13:51:27.719Z"
   },
   {
    "duration": 25,
    "start_time": "2021-09-27T13:51:27.738Z"
   },
   {
    "duration": 18,
    "start_time": "2021-09-27T13:51:27.764Z"
   },
   {
    "duration": 23,
    "start_time": "2021-09-27T13:51:27.783Z"
   },
   {
    "duration": 25,
    "start_time": "2021-09-27T13:51:27.807Z"
   },
   {
    "duration": 2,
    "start_time": "2021-09-27T13:53:21.965Z"
   },
   {
    "duration": 67,
    "start_time": "2021-09-27T13:53:21.969Z"
   },
   {
    "duration": 25,
    "start_time": "2021-09-27T13:53:22.038Z"
   },
   {
    "duration": 11,
    "start_time": "2021-09-27T13:53:22.065Z"
   },
   {
    "duration": 25,
    "start_time": "2021-09-27T13:53:22.078Z"
   },
   {
    "duration": 18,
    "start_time": "2021-09-27T13:53:22.104Z"
   },
   {
    "duration": 24,
    "start_time": "2021-09-27T13:53:22.124Z"
   },
   {
    "duration": 25,
    "start_time": "2021-09-27T13:53:22.150Z"
   },
   {
    "duration": 17,
    "start_time": "2021-09-27T14:04:06.931Z"
   },
   {
    "duration": 19,
    "start_time": "2021-09-27T14:20:55.548Z"
   },
   {
    "duration": 3,
    "start_time": "2021-09-27T14:25:45.380Z"
   },
   {
    "duration": 56,
    "start_time": "2021-09-27T14:25:45.547Z"
   },
   {
    "duration": 25,
    "start_time": "2021-09-27T14:25:45.604Z"
   },
   {
    "duration": 11,
    "start_time": "2021-09-27T14:25:45.631Z"
   },
   {
    "duration": 7,
    "start_time": "2021-09-27T14:25:45.643Z"
   },
   {
    "duration": 10,
    "start_time": "2021-09-27T14:25:45.651Z"
   },
   {
    "duration": 43,
    "start_time": "2021-09-27T14:25:45.663Z"
   },
   {
    "duration": 17,
    "start_time": "2021-09-27T14:25:45.708Z"
   },
   {
    "duration": 17,
    "start_time": "2021-09-27T14:25:45.727Z"
   },
   {
    "duration": 23,
    "start_time": "2021-09-27T14:33:32.647Z"
   },
   {
    "duration": 3,
    "start_time": "2021-09-27T14:34:47.619Z"
   },
   {
    "duration": 59,
    "start_time": "2021-09-27T14:34:47.623Z"
   },
   {
    "duration": 26,
    "start_time": "2021-09-27T14:34:47.684Z"
   },
   {
    "duration": 12,
    "start_time": "2021-09-27T14:34:47.711Z"
   },
   {
    "duration": 14,
    "start_time": "2021-09-27T14:34:51.993Z"
   },
   {
    "duration": 240,
    "start_time": "2021-09-27T15:03:05.588Z"
   },
   {
    "duration": 2,
    "start_time": "2021-09-27T15:03:24.253Z"
   },
   {
    "duration": 64,
    "start_time": "2021-09-27T15:03:24.261Z"
   },
   {
    "duration": 26,
    "start_time": "2021-09-27T15:03:24.327Z"
   },
   {
    "duration": 13,
    "start_time": "2021-09-27T15:03:24.355Z"
   },
   {
    "duration": 38,
    "start_time": "2021-09-27T15:03:24.370Z"
   },
   {
    "duration": 12,
    "start_time": "2021-09-27T15:03:24.410Z"
   },
   {
    "duration": 25,
    "start_time": "2021-09-27T15:03:24.423Z"
   },
   {
    "duration": 21,
    "start_time": "2021-09-27T15:03:24.449Z"
   },
   {
    "duration": 46,
    "start_time": "2021-09-27T15:03:24.472Z"
   },
   {
    "duration": 16,
    "start_time": "2021-09-27T15:04:13.996Z"
   },
   {
    "duration": 26,
    "start_time": "2021-09-27T15:05:33.349Z"
   },
   {
    "duration": 22,
    "start_time": "2021-09-27T15:29:10.347Z"
   },
   {
    "duration": 1048,
    "start_time": "2021-09-28T09:32:16.988Z"
   },
   {
    "duration": 67,
    "start_time": "2021-09-28T09:32:18.038Z"
   },
   {
    "duration": 38,
    "start_time": "2021-09-28T09:32:18.107Z"
   },
   {
    "duration": 15,
    "start_time": "2021-09-28T09:32:18.147Z"
   },
   {
    "duration": 13,
    "start_time": "2021-09-28T09:32:18.163Z"
   },
   {
    "duration": 11,
    "start_time": "2021-09-28T09:32:18.178Z"
   },
   {
    "duration": 11,
    "start_time": "2021-09-28T09:32:18.191Z"
   },
   {
    "duration": 56,
    "start_time": "2021-09-28T09:32:18.205Z"
   },
   {
    "duration": 26,
    "start_time": "2021-09-28T09:32:18.262Z"
   },
   {
    "duration": 24,
    "start_time": "2021-09-28T09:32:18.290Z"
   },
   {
    "duration": 54,
    "start_time": "2021-09-28T09:32:18.316Z"
   },
   {
    "duration": 31,
    "start_time": "2021-09-28T09:33:04.680Z"
   },
   {
    "duration": 32,
    "start_time": "2021-09-28T09:35:44.102Z"
   },
   {
    "duration": 33,
    "start_time": "2021-09-28T09:55:56.785Z"
   },
   {
    "duration": 29,
    "start_time": "2021-09-28T10:02:34.450Z"
   },
   {
    "duration": 45,
    "start_time": "2021-09-28T10:03:46.877Z"
   },
   {
    "duration": 23,
    "start_time": "2021-09-28T10:04:35.325Z"
   },
   {
    "duration": 24,
    "start_time": "2021-09-28T10:13:30.768Z"
   },
   {
    "duration": 22,
    "start_time": "2021-09-28T10:13:49.375Z"
   },
   {
    "duration": 130,
    "start_time": "2021-09-28T10:20:44.338Z"
   },
   {
    "duration": 3,
    "start_time": "2021-09-28T10:21:33.690Z"
   },
   {
    "duration": 62,
    "start_time": "2021-09-28T10:21:33.695Z"
   },
   {
    "duration": 25,
    "start_time": "2021-09-28T10:21:33.759Z"
   },
   {
    "duration": 11,
    "start_time": "2021-09-28T10:21:33.786Z"
   },
   {
    "duration": 16,
    "start_time": "2021-09-28T10:21:33.799Z"
   },
   {
    "duration": 35,
    "start_time": "2021-09-28T10:21:33.817Z"
   },
   {
    "duration": 11,
    "start_time": "2021-09-28T10:21:33.855Z"
   },
   {
    "duration": 20,
    "start_time": "2021-09-28T10:21:33.867Z"
   },
   {
    "duration": 55,
    "start_time": "2021-09-28T10:21:33.889Z"
   },
   {
    "duration": 31,
    "start_time": "2021-09-28T10:21:33.946Z"
   },
   {
    "duration": 88,
    "start_time": "2021-09-28T10:21:49.230Z"
   },
   {
    "duration": 87,
    "start_time": "2021-09-28T10:22:06.112Z"
   },
   {
    "duration": 22,
    "start_time": "2021-09-28T10:22:26.399Z"
   },
   {
    "duration": 24,
    "start_time": "2021-09-28T10:22:32.890Z"
   },
   {
    "duration": 37,
    "start_time": "2021-09-28T10:23:01.856Z"
   },
   {
    "duration": 39,
    "start_time": "2021-09-28T10:24:07.783Z"
   },
   {
    "duration": 137,
    "start_time": "2021-09-28T10:47:39.072Z"
   },
   {
    "duration": 100,
    "start_time": "2021-09-28T10:48:18.718Z"
   },
   {
    "duration": 90,
    "start_time": "2021-09-28T10:49:21.370Z"
   },
   {
    "duration": 351,
    "start_time": "2021-09-28T10:49:58.058Z"
   },
   {
    "duration": 24,
    "start_time": "2021-09-28T10:50:20.139Z"
   },
   {
    "duration": 44,
    "start_time": "2021-09-28T10:51:22.253Z"
   },
   {
    "duration": 105,
    "start_time": "2021-09-28T10:52:48.742Z"
   },
   {
    "duration": 42,
    "start_time": "2021-09-28T10:53:35.430Z"
   },
   {
    "duration": 317,
    "start_time": "2021-09-28T10:53:49.807Z"
   },
   {
    "duration": 23,
    "start_time": "2021-09-28T11:07:31.855Z"
   },
   {
    "duration": 22,
    "start_time": "2021-09-28T11:08:12.834Z"
   },
   {
    "duration": 22,
    "start_time": "2021-09-28T11:09:26.660Z"
   },
   {
    "duration": 22,
    "start_time": "2021-09-28T11:09:56.192Z"
   },
   {
    "duration": 43,
    "start_time": "2021-09-28T11:12:52.836Z"
   },
   {
    "duration": 45,
    "start_time": "2021-09-28T11:17:53.106Z"
   },
   {
    "duration": 46,
    "start_time": "2021-09-28T11:18:17.662Z"
   },
   {
    "duration": 40,
    "start_time": "2021-09-28T11:19:20.739Z"
   },
   {
    "duration": 44,
    "start_time": "2021-09-28T11:26:12.770Z"
   },
   {
    "duration": 82,
    "start_time": "2021-09-28T11:29:05.313Z"
   },
   {
    "duration": 85,
    "start_time": "2021-09-28T11:32:30.821Z"
   },
   {
    "duration": 84,
    "start_time": "2021-09-28T11:33:11.094Z"
   },
   {
    "duration": 86,
    "start_time": "2021-09-28T11:33:32.627Z"
   },
   {
    "duration": 59,
    "start_time": "2021-09-28T11:34:10.407Z"
   },
   {
    "duration": 65,
    "start_time": "2021-09-28T11:34:32.658Z"
   },
   {
    "duration": 63,
    "start_time": "2021-09-28T11:35:49.382Z"
   },
   {
    "duration": 74,
    "start_time": "2021-09-28T11:36:23.282Z"
   },
   {
    "duration": 76,
    "start_time": "2021-09-28T11:36:43.071Z"
   },
   {
    "duration": 49,
    "start_time": "2021-09-28T11:37:53.215Z"
   },
   {
    "duration": 21,
    "start_time": "2021-09-28T11:40:33.288Z"
   },
   {
    "duration": 24,
    "start_time": "2021-09-28T11:41:19.008Z"
   },
   {
    "duration": 21,
    "start_time": "2021-09-28T11:41:57.875Z"
   },
   {
    "duration": 303,
    "start_time": "2021-09-28T11:47:59.366Z"
   },
   {
    "duration": 18,
    "start_time": "2021-09-28T11:48:41.519Z"
   },
   {
    "duration": 275,
    "start_time": "2021-09-28T11:51:36.487Z"
   },
   {
    "duration": 339,
    "start_time": "2021-09-28T11:52:14.409Z"
   },
   {
    "duration": 54,
    "start_time": "2021-09-28T11:53:32.312Z"
   },
   {
    "duration": 274,
    "start_time": "2021-09-28T11:54:26.489Z"
   },
   {
    "duration": 316,
    "start_time": "2021-09-28T11:54:58.743Z"
   },
   {
    "duration": 318,
    "start_time": "2021-09-28T11:55:11.180Z"
   },
   {
    "duration": 290,
    "start_time": "2021-09-28T12:02:07.250Z"
   },
   {
    "duration": 17,
    "start_time": "2021-09-28T12:04:34.322Z"
   },
   {
    "duration": 33,
    "start_time": "2021-09-28T12:05:05.906Z"
   },
   {
    "duration": 34,
    "start_time": "2021-09-28T12:05:30.729Z"
   },
   {
    "duration": 20,
    "start_time": "2021-09-28T12:09:02.391Z"
   },
   {
    "duration": 298,
    "start_time": "2021-09-28T12:11:21.783Z"
   },
   {
    "duration": 22,
    "start_time": "2021-09-28T12:11:35.222Z"
   },
   {
    "duration": 23,
    "start_time": "2021-09-28T12:12:01.776Z"
   },
   {
    "duration": 339,
    "start_time": "2021-09-28T12:13:24.071Z"
   },
   {
    "duration": 22,
    "start_time": "2021-09-28T12:13:36.097Z"
   },
   {
    "duration": 375,
    "start_time": "2021-09-28T12:14:52.994Z"
   },
   {
    "duration": 24,
    "start_time": "2021-09-28T12:15:31.960Z"
   },
   {
    "duration": 27,
    "start_time": "2021-09-28T12:18:22.387Z"
   },
   {
    "duration": 51,
    "start_time": "2021-09-28T12:24:03.579Z"
   },
   {
    "duration": 19,
    "start_time": "2021-09-28T12:26:36.097Z"
   },
   {
    "duration": 27,
    "start_time": "2021-09-28T12:28:11.723Z"
   },
   {
    "duration": 1338,
    "start_time": "2021-09-29T09:00:54.836Z"
   },
   {
    "duration": 84,
    "start_time": "2021-09-29T09:00:56.176Z"
   },
   {
    "duration": 41,
    "start_time": "2021-09-29T09:00:56.263Z"
   },
   {
    "duration": 19,
    "start_time": "2021-09-29T09:00:56.323Z"
   },
   {
    "duration": 23,
    "start_time": "2021-09-29T09:00:56.344Z"
   },
   {
    "duration": 20,
    "start_time": "2021-09-29T09:00:56.369Z"
   },
   {
    "duration": 17,
    "start_time": "2021-09-29T09:00:56.422Z"
   },
   {
    "duration": 33,
    "start_time": "2021-09-29T09:00:56.443Z"
   },
   {
    "duration": 61,
    "start_time": "2021-09-29T09:00:56.479Z"
   },
   {
    "duration": 38,
    "start_time": "2021-09-29T09:00:56.542Z"
   },
   {
    "duration": 96,
    "start_time": "2021-09-29T09:00:56.583Z"
   },
   {
    "duration": 50,
    "start_time": "2021-09-29T09:00:56.682Z"
   },
   {
    "duration": 100,
    "start_time": "2021-09-29T09:01:02.688Z"
   },
   {
    "duration": 11,
    "start_time": "2021-09-29T09:13:31.234Z"
   },
   {
    "duration": 11,
    "start_time": "2021-09-29T09:13:54.623Z"
   },
   {
    "duration": 4,
    "start_time": "2021-09-29T09:14:03.480Z"
   },
   {
    "duration": 88,
    "start_time": "2021-09-29T09:14:03.487Z"
   },
   {
    "duration": 54,
    "start_time": "2021-09-29T09:14:03.578Z"
   },
   {
    "duration": 19,
    "start_time": "2021-09-29T09:14:03.635Z"
   },
   {
    "duration": 21,
    "start_time": "2021-09-29T09:14:03.657Z"
   },
   {
    "duration": 47,
    "start_time": "2021-09-29T09:14:03.680Z"
   },
   {
    "duration": 15,
    "start_time": "2021-09-29T09:14:03.730Z"
   },
   {
    "duration": 31,
    "start_time": "2021-09-29T09:14:03.750Z"
   },
   {
    "duration": 70,
    "start_time": "2021-09-29T09:14:03.784Z"
   },
   {
    "duration": 38,
    "start_time": "2021-09-29T09:14:03.856Z"
   },
   {
    "duration": 100,
    "start_time": "2021-09-29T09:14:03.896Z"
   },
   {
    "duration": 56,
    "start_time": "2021-09-29T09:14:03.999Z"
   },
   {
    "duration": 117,
    "start_time": "2021-09-29T09:14:04.057Z"
   },
   {
    "duration": 14,
    "start_time": "2021-09-29T09:14:18.033Z"
   },
   {
    "duration": 22,
    "start_time": "2021-09-29T09:16:14.904Z"
   },
   {
    "duration": 20,
    "start_time": "2021-09-29T09:21:33.671Z"
   },
   {
    "duration": 22,
    "start_time": "2021-09-29T09:21:55.385Z"
   },
   {
    "duration": 35,
    "start_time": "2021-09-29T09:22:54.239Z"
   },
   {
    "duration": 39,
    "start_time": "2021-09-29T09:23:39.731Z"
   },
   {
    "duration": 41,
    "start_time": "2021-09-29T09:24:18.865Z"
   },
   {
    "duration": 40,
    "start_time": "2021-09-29T09:27:06.721Z"
   },
   {
    "duration": 41,
    "start_time": "2021-09-29T09:28:12.986Z"
   },
   {
    "duration": 240,
    "start_time": "2021-09-29T09:35:57.797Z"
   },
   {
    "duration": 271,
    "start_time": "2021-09-29T09:36:37.072Z"
   },
   {
    "duration": 655,
    "start_time": "2021-09-29T09:40:40.263Z"
   },
   {
    "duration": 557,
    "start_time": "2021-09-29T09:42:22.490Z"
   },
   {
    "duration": 525,
    "start_time": "2021-09-29T09:43:20.344Z"
   },
   {
    "duration": 638,
    "start_time": "2021-09-29T09:44:31.626Z"
   },
   {
    "duration": 373,
    "start_time": "2021-09-29T09:47:46.902Z"
   },
   {
    "duration": 361,
    "start_time": "2021-09-29T09:48:24.219Z"
   },
   {
    "duration": 111,
    "start_time": "2021-09-29T09:48:39.148Z"
   },
   {
    "duration": 105,
    "start_time": "2021-09-29T09:51:07.624Z"
   },
   {
    "duration": 304,
    "start_time": "2021-09-29T09:51:26.927Z"
   },
   {
    "duration": 324,
    "start_time": "2021-09-29T09:52:04.483Z"
   },
   {
    "duration": 276,
    "start_time": "2021-09-29T09:52:22.954Z"
   },
   {
    "duration": 277,
    "start_time": "2021-09-29T09:56:47.476Z"
   },
   {
    "duration": 293,
    "start_time": "2021-09-29T09:57:34.066Z"
   },
   {
    "duration": 312,
    "start_time": "2021-09-29T10:01:18.630Z"
   },
   {
    "duration": 4,
    "start_time": "2021-09-29T10:10:29.209Z"
   },
   {
    "duration": 9,
    "start_time": "2021-09-29T10:11:02.999Z"
   },
   {
    "duration": 599,
    "start_time": "2021-09-29T10:13:04.995Z"
   },
   {
    "duration": 892,
    "start_time": "2021-09-29T10:14:02.183Z"
   },
   {
    "duration": 289,
    "start_time": "2021-09-29T10:14:53.200Z"
   },
   {
    "duration": 2197,
    "start_time": "2021-09-29T10:17:11.173Z"
   },
   {
    "duration": 618,
    "start_time": "2021-09-29T10:24:59.035Z"
   },
   {
    "duration": 1984,
    "start_time": "2021-09-29T10:25:48.679Z"
   },
   {
    "duration": 597,
    "start_time": "2021-09-29T10:26:15.168Z"
   },
   {
    "duration": 623,
    "start_time": "2021-09-29T10:27:27.610Z"
   },
   {
    "duration": 606,
    "start_time": "2021-09-29T10:28:18.701Z"
   },
   {
    "duration": 5,
    "start_time": "2021-09-29T10:28:44.222Z"
   },
   {
    "duration": 101,
    "start_time": "2021-09-29T10:28:44.230Z"
   },
   {
    "duration": 137,
    "start_time": "2021-09-29T10:28:44.335Z"
   },
   {
    "duration": 25,
    "start_time": "2021-09-29T10:28:44.475Z"
   },
   {
    "duration": 19,
    "start_time": "2021-09-29T10:28:44.523Z"
   },
   {
    "duration": 25,
    "start_time": "2021-09-29T10:28:44.545Z"
   },
   {
    "duration": 29,
    "start_time": "2021-09-29T10:28:44.573Z"
   },
   {
    "duration": 41,
    "start_time": "2021-09-29T10:28:44.605Z"
   },
   {
    "duration": 38,
    "start_time": "2021-09-29T10:28:44.649Z"
   },
   {
    "duration": 66,
    "start_time": "2021-09-29T10:28:44.689Z"
   },
   {
    "duration": 92,
    "start_time": "2021-09-29T10:28:44.757Z"
   },
   {
    "duration": 35,
    "start_time": "2021-09-29T10:28:44.851Z"
   },
   {
    "duration": 135,
    "start_time": "2021-09-29T10:28:44.889Z"
   },
   {
    "duration": 395,
    "start_time": "2021-09-29T10:28:45.027Z"
   },
   {
    "duration": 318,
    "start_time": "2021-09-29T10:28:45.424Z"
   },
   {
    "duration": 2013,
    "start_time": "2021-09-29T10:28:45.745Z"
   },
   {
    "duration": 763,
    "start_time": "2021-09-29T10:29:42.420Z"
   },
   {
    "duration": 667,
    "start_time": "2021-09-29T10:30:49.817Z"
   },
   {
    "duration": 582,
    "start_time": "2021-09-29T10:31:40.194Z"
   },
   {
    "duration": 3125,
    "start_time": "2021-09-29T10:32:36.041Z"
   },
   {
    "duration": 2332,
    "start_time": "2021-09-29T10:33:27.780Z"
   },
   {
    "duration": 1943,
    "start_time": "2021-09-29T10:37:20.557Z"
   },
   {
    "duration": 2369,
    "start_time": "2021-09-29T10:38:40.995Z"
   },
   {
    "duration": 2299,
    "start_time": "2021-09-29T10:39:16.894Z"
   },
   {
    "duration": 22,
    "start_time": "2021-09-29T10:44:48.875Z"
   },
   {
    "duration": 2275,
    "start_time": "2021-09-29T10:47:52.634Z"
   },
   {
    "duration": 69,
    "start_time": "2021-09-29T10:58:36.619Z"
   },
   {
    "duration": 38,
    "start_time": "2021-09-29T11:19:42.874Z"
   },
   {
    "duration": 35,
    "start_time": "2021-09-29T11:20:01.716Z"
   },
   {
    "duration": 33,
    "start_time": "2021-09-29T11:21:38.043Z"
   },
   {
    "duration": 52780,
    "start_time": "2021-09-29T11:37:16.193Z"
   },
   {
    "duration": 46,
    "start_time": "2021-09-29T11:40:05.390Z"
   },
   {
    "duration": 547,
    "start_time": "2021-09-29T11:40:39.281Z"
   },
   {
    "duration": 53,
    "start_time": "2021-09-29T12:14:49.736Z"
   },
   {
    "duration": 54,
    "start_time": "2021-09-29T12:17:45.410Z"
   },
   {
    "duration": 52,
    "start_time": "2021-09-29T12:18:05.073Z"
   },
   {
    "duration": 55,
    "start_time": "2021-09-29T12:19:01.865Z"
   },
   {
    "duration": 54,
    "start_time": "2021-09-29T12:19:46.417Z"
   },
   {
    "duration": 60,
    "start_time": "2021-09-29T12:21:31.240Z"
   },
   {
    "duration": 174,
    "start_time": "2021-09-29T12:28:53.608Z"
   },
   {
    "duration": 73,
    "start_time": "2021-09-29T12:29:10.382Z"
   },
   {
    "duration": 60,
    "start_time": "2021-09-29T12:35:43.419Z"
   },
   {
    "duration": 68,
    "start_time": "2021-09-29T12:36:56.374Z"
   },
   {
    "duration": 748,
    "start_time": "2021-09-29T12:40:38.352Z"
   },
   {
    "duration": 67,
    "start_time": "2021-09-29T12:43:49.647Z"
   },
   {
    "duration": 64,
    "start_time": "2021-09-29T12:47:05.878Z"
   },
   {
    "duration": 1489,
    "start_time": "2021-09-29T12:48:33.713Z"
   },
   {
    "duration": 62,
    "start_time": "2021-09-29T12:49:08.454Z"
   },
   {
    "duration": 63,
    "start_time": "2021-09-29T12:49:41.596Z"
   },
   {
    "duration": 54,
    "start_time": "2021-09-29T12:50:42.231Z"
   },
   {
    "duration": 13,
    "start_time": "2021-09-29T12:52:02.214Z"
   },
   {
    "duration": 32,
    "start_time": "2021-09-29T12:53:17.543Z"
   },
   {
    "duration": 5951,
    "start_time": "2021-09-29T12:53:50.061Z"
   },
   {
    "duration": 7144,
    "start_time": "2021-09-29T12:54:33.760Z"
   },
   {
    "duration": 5687,
    "start_time": "2021-09-29T12:55:43.133Z"
   },
   {
    "duration": 5903,
    "start_time": "2021-09-29T12:56:25.337Z"
   },
   {
    "duration": 30,
    "start_time": "2021-09-29T12:56:36.416Z"
   },
   {
    "duration": 7932,
    "start_time": "2021-09-29T13:00:31.249Z"
   },
   {
    "duration": 4,
    "start_time": "2021-09-29T13:01:29.979Z"
   },
   {
    "duration": 91,
    "start_time": "2021-09-29T13:01:29.986Z"
   },
   {
    "duration": 64,
    "start_time": "2021-09-29T13:01:30.080Z"
   },
   {
    "duration": 20,
    "start_time": "2021-09-29T13:01:30.147Z"
   },
   {
    "duration": 31,
    "start_time": "2021-09-29T13:01:30.169Z"
   },
   {
    "duration": 33,
    "start_time": "2021-09-29T13:01:30.202Z"
   },
   {
    "duration": 17,
    "start_time": "2021-09-29T13:01:30.237Z"
   },
   {
    "duration": 43,
    "start_time": "2021-09-29T13:01:30.256Z"
   },
   {
    "duration": 40,
    "start_time": "2021-09-29T13:01:30.323Z"
   },
   {
    "duration": 571,
    "start_time": "2021-09-29T13:01:30.366Z"
   },
   {
    "duration": 97,
    "start_time": "2021-09-29T13:01:30.940Z"
   },
   {
    "duration": 44,
    "start_time": "2021-09-29T13:01:31.040Z"
   },
   {
    "duration": 151,
    "start_time": "2021-09-29T13:01:31.087Z"
   },
   {
    "duration": 5,
    "start_time": "2021-09-29T13:01:31.240Z"
   },
   {
    "duration": 3422,
    "start_time": "2021-09-29T13:01:31.248Z"
   },
   {
    "duration": 2165,
    "start_time": "2021-09-29T13:01:34.672Z"
   },
   {
    "duration": 16,
    "start_time": "2021-09-29T13:01:36.840Z"
   },
   {
    "duration": 69,
    "start_time": "2021-09-29T13:01:36.859Z"
   },
   {
    "duration": 146,
    "start_time": "2021-09-29T13:01:36.931Z"
   },
   {
    "duration": 10,
    "start_time": "2021-09-29T13:01:41.118Z"
   },
   {
    "duration": 7990,
    "start_time": "2021-09-29T13:02:06.052Z"
   },
   {
    "duration": 7199,
    "start_time": "2021-09-29T13:02:31.154Z"
   },
   {
    "duration": 9031,
    "start_time": "2021-09-29T13:02:40.932Z"
   },
   {
    "duration": 7797,
    "start_time": "2021-09-29T13:05:28.870Z"
   },
   {
    "duration": 8850,
    "start_time": "2021-09-29T13:06:22.513Z"
   },
   {
    "duration": 7127,
    "start_time": "2021-09-29T13:07:51.551Z"
   },
   {
    "duration": 4,
    "start_time": "2021-09-29T13:08:32.013Z"
   },
   {
    "duration": 103,
    "start_time": "2021-09-29T13:08:32.021Z"
   },
   {
    "duration": 42,
    "start_time": "2021-09-29T13:08:32.127Z"
   },
   {
    "duration": 51,
    "start_time": "2021-09-29T13:08:32.171Z"
   },
   {
    "duration": 19,
    "start_time": "2021-09-29T13:08:32.225Z"
   },
   {
    "duration": 19,
    "start_time": "2021-09-29T13:08:32.247Z"
   },
   {
    "duration": 53,
    "start_time": "2021-09-29T13:08:32.269Z"
   },
   {
    "duration": 30,
    "start_time": "2021-09-29T13:08:32.327Z"
   },
   {
    "duration": 66,
    "start_time": "2021-09-29T13:08:32.360Z"
   },
   {
    "duration": 555,
    "start_time": "2021-09-29T13:08:32.429Z"
   },
   {
    "duration": 93,
    "start_time": "2021-09-29T13:08:32.987Z"
   },
   {
    "duration": 65,
    "start_time": "2021-09-29T13:08:33.082Z"
   },
   {
    "duration": 128,
    "start_time": "2021-09-29T13:08:33.150Z"
   },
   {
    "duration": 5,
    "start_time": "2021-09-29T13:08:33.280Z"
   },
   {
    "duration": 1974,
    "start_time": "2021-09-29T13:08:33.287Z"
   },
   {
    "duration": 2235,
    "start_time": "2021-09-29T13:08:35.263Z"
   },
   {
    "duration": 30,
    "start_time": "2021-09-29T13:08:37.501Z"
   },
   {
    "duration": 56,
    "start_time": "2021-09-29T13:08:37.533Z"
   },
   {
    "duration": 72,
    "start_time": "2021-09-29T13:08:37.591Z"
   },
   {
    "duration": 10,
    "start_time": "2021-09-29T13:08:37.665Z"
   },
   {
    "duration": 13,
    "start_time": "2021-09-29T13:08:50.799Z"
   },
   {
    "duration": 62,
    "start_time": "2021-09-29T13:09:41.903Z"
   },
   {
    "duration": 114,
    "start_time": "2021-09-29T13:11:02.847Z"
   },
   {
    "duration": 284,
    "start_time": "2021-09-29T13:11:44.358Z"
   },
   {
    "duration": 36,
    "start_time": "2021-09-29T13:34:10.712Z"
   },
   {
    "duration": 47,
    "start_time": "2021-09-29T13:34:32.539Z"
   },
   {
    "duration": 977,
    "start_time": "2021-09-29T13:40:24.596Z"
   },
   {
    "duration": 11,
    "start_time": "2021-09-29T13:41:26.822Z"
   },
   {
    "duration": 62,
    "start_time": "2021-09-29T13:44:04.764Z"
   },
   {
    "duration": 50,
    "start_time": "2021-09-29T13:44:37.289Z"
   },
   {
    "duration": 47,
    "start_time": "2021-09-29T13:48:09.419Z"
   },
   {
    "duration": 20,
    "start_time": "2021-09-29T13:48:31.804Z"
   },
   {
    "duration": 8388,
    "start_time": "2021-09-29T13:51:17.819Z"
   },
   {
    "duration": 7609,
    "start_time": "2021-09-29T13:51:37.745Z"
   },
   {
    "duration": 6172,
    "start_time": "2021-09-29T13:51:59.359Z"
   },
   {
    "duration": 7393,
    "start_time": "2021-09-29T13:54:37.460Z"
   },
   {
    "duration": 14,
    "start_time": "2021-09-29T13:55:19.993Z"
   },
   {
    "duration": 22,
    "start_time": "2021-09-29T13:55:53.312Z"
   },
   {
    "duration": 28,
    "start_time": "2021-09-29T13:57:23.933Z"
   },
   {
    "duration": 53,
    "start_time": "2021-09-29T13:57:50.955Z"
   },
   {
    "duration": 302,
    "start_time": "2021-09-29T13:58:21.345Z"
   },
   {
    "duration": 4326,
    "start_time": "2021-09-29T13:59:32.647Z"
   },
   {
    "duration": 306,
    "start_time": "2021-09-29T14:00:26.156Z"
   },
   {
    "duration": 5518,
    "start_time": "2021-09-29T14:02:20.141Z"
   },
   {
    "duration": 126,
    "start_time": "2021-09-29T14:06:59.075Z"
   },
   {
    "duration": 5563,
    "start_time": "2021-09-29T14:07:38.362Z"
   },
   {
    "duration": 394,
    "start_time": "2021-09-29T14:08:29.923Z"
   },
   {
    "duration": 12,
    "start_time": "2021-09-29T14:09:26.582Z"
   },
   {
    "duration": 6,
    "start_time": "2021-09-29T14:11:01.320Z"
   },
   {
    "duration": 96,
    "start_time": "2021-09-29T14:11:01.330Z"
   },
   {
    "duration": 40,
    "start_time": "2021-09-29T14:11:01.429Z"
   },
   {
    "duration": 29,
    "start_time": "2021-09-29T14:11:01.472Z"
   },
   {
    "duration": 46,
    "start_time": "2021-09-29T14:11:01.504Z"
   },
   {
    "duration": 220,
    "start_time": "2021-09-29T14:11:01.552Z"
   },
   {
    "duration": 64,
    "start_time": "2021-09-29T14:11:01.775Z"
   },
   {
    "duration": 68,
    "start_time": "2021-09-29T14:11:01.843Z"
   },
   {
    "duration": 57,
    "start_time": "2021-09-29T14:11:01.913Z"
   },
   {
    "duration": 577,
    "start_time": "2021-09-29T14:11:01.972Z"
   },
   {
    "duration": 89,
    "start_time": "2021-09-29T14:11:02.551Z"
   },
   {
    "duration": 83,
    "start_time": "2021-09-29T14:11:02.643Z"
   },
   {
    "duration": 163,
    "start_time": "2021-09-29T14:11:02.730Z"
   },
   {
    "duration": 6,
    "start_time": "2021-09-29T14:11:02.896Z"
   },
   {
    "duration": 2244,
    "start_time": "2021-09-29T14:11:02.922Z"
   },
   {
    "duration": 2484,
    "start_time": "2021-09-29T14:11:05.169Z"
   },
   {
    "duration": 17,
    "start_time": "2021-09-29T14:11:07.655Z"
   },
   {
    "duration": 76,
    "start_time": "2021-09-29T14:11:07.675Z"
   },
   {
    "duration": 78,
    "start_time": "2021-09-29T14:11:07.754Z"
   },
   {
    "duration": 14,
    "start_time": "2021-09-29T14:11:07.834Z"
   },
   {
    "duration": 362,
    "start_time": "2021-09-29T14:11:17.135Z"
   },
   {
    "duration": 298,
    "start_time": "2021-09-29T14:12:27.373Z"
   },
   {
    "duration": 35,
    "start_time": "2021-09-29T14:13:17.053Z"
   },
   {
    "duration": 29,
    "start_time": "2021-09-29T14:14:15.352Z"
   },
   {
    "duration": 10,
    "start_time": "2021-09-29T14:20:06.095Z"
   },
   {
    "duration": 12,
    "start_time": "2021-09-29T14:21:05.538Z"
   },
   {
    "duration": 14,
    "start_time": "2021-09-29T14:22:33.559Z"
   },
   {
    "duration": 7190,
    "start_time": "2021-09-29T14:23:31.901Z"
   },
   {
    "duration": 366,
    "start_time": "2021-09-29T14:23:48.857Z"
   },
   {
    "duration": 16,
    "start_time": "2021-09-29T14:25:14.853Z"
   },
   {
    "duration": 22,
    "start_time": "2021-09-29T14:27:42.837Z"
   },
   {
    "duration": 308,
    "start_time": "2021-09-29T14:27:56.344Z"
   },
   {
    "duration": 506,
    "start_time": "2021-09-29T14:29:25.864Z"
   },
   {
    "duration": 18,
    "start_time": "2021-09-29T14:29:54.833Z"
   },
   {
    "duration": 20,
    "start_time": "2021-09-29T14:38:40.892Z"
   },
   {
    "duration": 298,
    "start_time": "2021-09-29T14:40:45.869Z"
   },
   {
    "duration": 20,
    "start_time": "2021-09-29T14:40:52.579Z"
   },
   {
    "duration": 47,
    "start_time": "2021-09-29T15:13:47.237Z"
   },
   {
    "duration": 49,
    "start_time": "2021-09-29T15:16:54.772Z"
   },
   {
    "duration": 61,
    "start_time": "2021-09-29T15:18:09.572Z"
   },
   {
    "duration": 8380,
    "start_time": "2021-09-29T15:20:23.550Z"
   },
   {
    "duration": 8669,
    "start_time": "2021-09-29T15:21:23.879Z"
   },
   {
    "duration": 76,
    "start_time": "2021-09-29T15:21:59.286Z"
   },
   {
    "duration": 56,
    "start_time": "2021-09-29T15:22:40.079Z"
   },
   {
    "duration": 4,
    "start_time": "2021-09-29T15:23:40.390Z"
   },
   {
    "duration": 88,
    "start_time": "2021-09-29T15:23:40.398Z"
   },
   {
    "duration": 57,
    "start_time": "2021-09-29T15:23:40.489Z"
   },
   {
    "duration": 21,
    "start_time": "2021-09-29T15:23:40.548Z"
   },
   {
    "duration": 58,
    "start_time": "2021-09-29T15:23:40.571Z"
   },
   {
    "duration": 16,
    "start_time": "2021-09-29T15:23:40.632Z"
   },
   {
    "duration": 17,
    "start_time": "2021-09-29T15:23:40.652Z"
   },
   {
    "duration": 80,
    "start_time": "2021-09-29T15:23:40.673Z"
   },
   {
    "duration": 49,
    "start_time": "2021-09-29T15:23:40.756Z"
   },
   {
    "duration": 860,
    "start_time": "2021-09-29T15:23:40.823Z"
   },
   {
    "duration": 101,
    "start_time": "2021-09-29T15:23:41.685Z"
   },
   {
    "duration": 67,
    "start_time": "2021-09-29T15:23:41.789Z"
   },
   {
    "duration": 135,
    "start_time": "2021-09-29T15:23:41.858Z"
   },
   {
    "duration": 5,
    "start_time": "2021-09-29T15:23:41.996Z"
   },
   {
    "duration": 2531,
    "start_time": "2021-09-29T15:23:42.023Z"
   },
   {
    "duration": 2795,
    "start_time": "2021-09-29T15:23:44.558Z"
   },
   {
    "duration": 19,
    "start_time": "2021-09-29T15:23:47.356Z"
   },
   {
    "duration": 83,
    "start_time": "2021-09-29T15:23:47.378Z"
   },
   {
    "duration": 79,
    "start_time": "2021-09-29T15:23:47.464Z"
   },
   {
    "duration": 16,
    "start_time": "2021-09-29T15:23:47.546Z"
   },
   {
    "duration": 62,
    "start_time": "2021-09-29T15:23:47.565Z"
   },
   {
    "duration": 63,
    "start_time": "2021-09-29T15:24:27.103Z"
   },
   {
    "duration": 65,
    "start_time": "2021-09-29T15:28:24.085Z"
   },
   {
    "duration": 4,
    "start_time": "2021-09-29T15:29:24.252Z"
   },
   {
    "duration": 107,
    "start_time": "2021-09-29T15:29:24.258Z"
   },
   {
    "duration": 57,
    "start_time": "2021-09-29T15:29:24.368Z"
   },
   {
    "duration": 20,
    "start_time": "2021-09-29T15:29:24.428Z"
   },
   {
    "duration": 53,
    "start_time": "2021-09-29T15:29:24.450Z"
   },
   {
    "duration": 22,
    "start_time": "2021-09-29T15:29:24.505Z"
   },
   {
    "duration": 31,
    "start_time": "2021-09-29T15:29:24.531Z"
   },
   {
    "duration": 38,
    "start_time": "2021-09-29T15:29:24.566Z"
   },
   {
    "duration": 41,
    "start_time": "2021-09-29T15:29:24.606Z"
   },
   {
    "duration": 535,
    "start_time": "2021-09-29T15:29:24.649Z"
   },
   {
    "duration": 86,
    "start_time": "2021-09-29T15:29:25.186Z"
   },
   {
    "duration": 63,
    "start_time": "2021-09-29T15:29:25.274Z"
   },
   {
    "duration": 120,
    "start_time": "2021-09-29T15:29:25.339Z"
   },
   {
    "duration": 5,
    "start_time": "2021-09-29T15:29:25.461Z"
   },
   {
    "duration": 2254,
    "start_time": "2021-09-29T15:29:25.468Z"
   },
   {
    "duration": 2264,
    "start_time": "2021-09-29T15:29:27.724Z"
   },
   {
    "duration": 33,
    "start_time": "2021-09-29T15:29:29.991Z"
   },
   {
    "duration": 50,
    "start_time": "2021-09-29T15:29:30.026Z"
   },
   {
    "duration": 90,
    "start_time": "2021-09-29T15:29:30.081Z"
   },
   {
    "duration": 13,
    "start_time": "2021-09-29T15:29:30.173Z"
   },
   {
    "duration": 47,
    "start_time": "2021-09-29T15:29:30.188Z"
   },
   {
    "duration": 71,
    "start_time": "2021-09-29T15:29:33.799Z"
   },
   {
    "duration": 4,
    "start_time": "2021-09-29T15:31:26.266Z"
   },
   {
    "duration": 88,
    "start_time": "2021-09-29T15:31:26.273Z"
   },
   {
    "duration": 67,
    "start_time": "2021-09-29T15:31:26.365Z"
   },
   {
    "duration": 21,
    "start_time": "2021-09-29T15:31:26.436Z"
   },
   {
    "duration": 39,
    "start_time": "2021-09-29T15:31:26.459Z"
   },
   {
    "duration": 33,
    "start_time": "2021-09-29T15:31:26.500Z"
   },
   {
    "duration": 20,
    "start_time": "2021-09-29T15:31:26.538Z"
   },
   {
    "duration": 70,
    "start_time": "2021-09-29T15:31:26.562Z"
   },
   {
    "duration": 40,
    "start_time": "2021-09-29T15:31:26.635Z"
   },
   {
    "duration": 563,
    "start_time": "2021-09-29T15:31:26.677Z"
   },
   {
    "duration": 95,
    "start_time": "2021-09-29T15:31:27.243Z"
   },
   {
    "duration": 43,
    "start_time": "2021-09-29T15:31:27.340Z"
   },
   {
    "duration": 139,
    "start_time": "2021-09-29T15:31:27.385Z"
   },
   {
    "duration": 4,
    "start_time": "2021-09-29T15:31:27.526Z"
   },
   {
    "duration": 1979,
    "start_time": "2021-09-29T15:31:27.532Z"
   },
   {
    "duration": 2396,
    "start_time": "2021-09-29T15:31:29.513Z"
   },
   {
    "duration": 26,
    "start_time": "2021-09-29T15:31:31.911Z"
   },
   {
    "duration": 60,
    "start_time": "2021-09-29T15:31:31.939Z"
   },
   {
    "duration": 79,
    "start_time": "2021-09-29T15:31:32.005Z"
   },
   {
    "duration": 43,
    "start_time": "2021-09-29T15:31:32.087Z"
   },
   {
    "duration": 33,
    "start_time": "2021-09-29T15:31:32.133Z"
   },
   {
    "duration": 87,
    "start_time": "2021-09-29T15:31:36.360Z"
   },
   {
    "duration": 65,
    "start_time": "2021-09-29T15:31:59.811Z"
   },
   {
    "duration": 105,
    "start_time": "2021-09-29T15:32:39.146Z"
   },
   {
    "duration": 306,
    "start_time": "2021-09-29T15:35:39.012Z"
   },
   {
    "duration": 80,
    "start_time": "2021-09-29T15:36:10.774Z"
   },
   {
    "duration": 89,
    "start_time": "2021-09-29T15:37:42.856Z"
   },
   {
    "duration": 132,
    "start_time": "2021-09-29T15:38:01.899Z"
   },
   {
    "duration": 75,
    "start_time": "2021-09-29T15:38:58.083Z"
   },
   {
    "duration": 199,
    "start_time": "2021-09-29T15:40:00.175Z"
   },
   {
    "duration": 254,
    "start_time": "2021-09-29T15:48:10.794Z"
   },
   {
    "duration": 4,
    "start_time": "2021-09-29T15:49:11.491Z"
   },
   {
    "duration": 98,
    "start_time": "2021-09-29T15:49:11.498Z"
   },
   {
    "duration": 49,
    "start_time": "2021-09-29T15:49:11.599Z"
   },
   {
    "duration": 23,
    "start_time": "2021-09-29T15:49:11.651Z"
   },
   {
    "duration": 47,
    "start_time": "2021-09-29T15:49:11.677Z"
   },
   {
    "duration": 17,
    "start_time": "2021-09-29T15:49:11.727Z"
   },
   {
    "duration": 30,
    "start_time": "2021-09-29T15:49:11.748Z"
   },
   {
    "duration": 48,
    "start_time": "2021-09-29T15:49:11.781Z"
   },
   {
    "duration": 37,
    "start_time": "2021-09-29T15:49:11.831Z"
   },
   {
    "duration": 554,
    "start_time": "2021-09-29T15:49:11.870Z"
   },
   {
    "duration": 72,
    "start_time": "2021-09-29T15:49:12.427Z"
   },
   {
    "duration": 55,
    "start_time": "2021-09-29T15:49:12.501Z"
   },
   {
    "duration": 130,
    "start_time": "2021-09-29T15:49:12.558Z"
   },
   {
    "duration": 4,
    "start_time": "2021-09-29T15:49:12.690Z"
   },
   {
    "duration": 2056,
    "start_time": "2021-09-29T15:49:12.697Z"
   },
   {
    "duration": 2278,
    "start_time": "2021-09-29T15:49:14.755Z"
   },
   {
    "duration": 17,
    "start_time": "2021-09-29T15:49:17.036Z"
   },
   {
    "duration": 72,
    "start_time": "2021-09-29T15:49:17.056Z"
   },
   {
    "duration": 60,
    "start_time": "2021-09-29T15:49:17.132Z"
   },
   {
    "duration": 14,
    "start_time": "2021-09-29T15:49:17.221Z"
   },
   {
    "duration": 28,
    "start_time": "2021-09-29T15:49:17.238Z"
   },
   {
    "duration": 153,
    "start_time": "2021-09-29T15:49:17.269Z"
   },
   {
    "duration": 497,
    "start_time": "2021-09-29T16:11:20.864Z"
   },
   {
    "duration": 307,
    "start_time": "2021-09-29T16:12:43.444Z"
   },
   {
    "duration": 307,
    "start_time": "2021-09-29T16:17:59.346Z"
   },
   {
    "duration": 297,
    "start_time": "2021-09-29T16:19:05.245Z"
   },
   {
    "duration": 499,
    "start_time": "2021-09-29T16:19:24.898Z"
   },
   {
    "duration": 16,
    "start_time": "2021-09-29T16:20:57.237Z"
   },
   {
    "duration": 18,
    "start_time": "2021-09-29T16:22:30.720Z"
   },
   {
    "duration": 224,
    "start_time": "2021-09-29T16:24:43.954Z"
   },
   {
    "duration": 237,
    "start_time": "2021-09-29T16:26:09.086Z"
   },
   {
    "duration": 238,
    "start_time": "2021-09-29T16:27:16.118Z"
   },
   {
    "duration": 877,
    "start_time": "2021-09-29T16:29:19.533Z"
   },
   {
    "duration": 264,
    "start_time": "2021-09-29T16:32:19.880Z"
   },
   {
    "duration": 2288,
    "start_time": "2021-09-29T16:35:08.615Z"
   },
   {
    "duration": 2259,
    "start_time": "2021-09-29T16:38:08.463Z"
   },
   {
    "duration": 4,
    "start_time": "2021-09-29T16:39:33.463Z"
   },
   {
    "duration": 79,
    "start_time": "2021-09-29T16:39:33.470Z"
   },
   {
    "duration": 41,
    "start_time": "2021-09-29T16:39:33.551Z"
   },
   {
    "duration": 44,
    "start_time": "2021-09-29T16:39:33.595Z"
   },
   {
    "duration": 20,
    "start_time": "2021-09-29T16:39:33.641Z"
   },
   {
    "duration": 16,
    "start_time": "2021-09-29T16:39:33.664Z"
   },
   {
    "duration": 54,
    "start_time": "2021-09-29T16:39:33.683Z"
   },
   {
    "duration": 61,
    "start_time": "2021-09-29T16:39:33.740Z"
   },
   {
    "duration": 37,
    "start_time": "2021-09-29T16:39:33.804Z"
   },
   {
    "duration": 555,
    "start_time": "2021-09-29T16:39:33.843Z"
   },
   {
    "duration": 85,
    "start_time": "2021-09-29T16:39:34.401Z"
   },
   {
    "duration": 55,
    "start_time": "2021-09-29T16:39:34.488Z"
   },
   {
    "duration": 117,
    "start_time": "2021-09-29T16:39:34.545Z"
   },
   {
    "duration": 5,
    "start_time": "2021-09-29T16:39:34.664Z"
   },
   {
    "duration": 2041,
    "start_time": "2021-09-29T16:39:34.671Z"
   },
   {
    "duration": 2289,
    "start_time": "2021-09-29T16:39:36.714Z"
   },
   {
    "duration": 27,
    "start_time": "2021-09-29T16:39:39.006Z"
   },
   {
    "duration": 47,
    "start_time": "2021-09-29T16:39:39.036Z"
   },
   {
    "duration": 62,
    "start_time": "2021-09-29T16:39:39.087Z"
   },
   {
    "duration": 33,
    "start_time": "2021-09-29T16:39:39.151Z"
   },
   {
    "duration": 2253,
    "start_time": "2021-09-29T16:39:39.187Z"
   },
   {
    "duration": 35,
    "start_time": "2021-09-29T16:39:41.443Z"
   },
   {
    "duration": 60,
    "start_time": "2021-09-29T16:39:41.480Z"
   },
   {
    "duration": 411,
    "start_time": "2021-09-29T16:39:41.543Z"
   },
   {
    "duration": 732,
    "start_time": "2021-09-29T16:46:50.867Z"
   },
   {
    "duration": 770,
    "start_time": "2021-09-29T16:47:14.705Z"
   },
   {
    "duration": 2195,
    "start_time": "2021-09-29T16:51:34.010Z"
   },
   {
    "duration": 2165,
    "start_time": "2021-09-29T16:51:55.367Z"
   },
   {
    "duration": 2293,
    "start_time": "2021-09-29T16:52:23.823Z"
   },
   {
    "duration": 321,
    "start_time": "2021-09-29T17:11:06.527Z"
   },
   {
    "duration": 234,
    "start_time": "2021-09-29T17:11:28.913Z"
   },
   {
    "duration": 5,
    "start_time": "2021-09-29T17:20:35.716Z"
   },
   {
    "duration": 115,
    "start_time": "2021-09-29T17:20:35.733Z"
   },
   {
    "duration": 43,
    "start_time": "2021-09-29T17:20:35.851Z"
   },
   {
    "duration": 22,
    "start_time": "2021-09-29T17:20:35.924Z"
   },
   {
    "duration": 41,
    "start_time": "2021-09-29T17:20:35.949Z"
   },
   {
    "duration": 37,
    "start_time": "2021-09-29T17:20:35.993Z"
   },
   {
    "duration": 32,
    "start_time": "2021-09-29T17:20:36.033Z"
   },
   {
    "duration": 61,
    "start_time": "2021-09-29T17:20:36.067Z"
   },
   {
    "duration": 39,
    "start_time": "2021-09-29T17:20:36.131Z"
   },
   {
    "duration": 582,
    "start_time": "2021-09-29T17:20:36.174Z"
   },
   {
    "duration": 94,
    "start_time": "2021-09-29T17:20:36.758Z"
   },
   {
    "duration": 68,
    "start_time": "2021-09-29T17:20:36.855Z"
   },
   {
    "duration": 132,
    "start_time": "2021-09-29T17:20:36.927Z"
   },
   {
    "duration": 5,
    "start_time": "2021-09-29T17:20:37.062Z"
   },
   {
    "duration": 2120,
    "start_time": "2021-09-29T17:20:37.070Z"
   },
   {
    "duration": 2417,
    "start_time": "2021-09-29T17:20:39.193Z"
   },
   {
    "duration": 27,
    "start_time": "2021-09-29T17:20:41.612Z"
   },
   {
    "duration": 63,
    "start_time": "2021-09-29T17:20:41.642Z"
   },
   {
    "duration": 54,
    "start_time": "2021-09-29T17:20:41.709Z"
   },
   {
    "duration": 36,
    "start_time": "2021-09-29T17:20:41.766Z"
   },
   {
    "duration": 2815,
    "start_time": "2021-09-29T17:20:41.831Z"
   },
   {
    "duration": 257,
    "start_time": "2021-09-29T17:20:44.649Z"
   },
   {
    "duration": 35,
    "start_time": "2021-09-29T17:30:35.671Z"
   },
   {
    "duration": 34,
    "start_time": "2021-09-29T17:31:49.240Z"
   },
   {
    "duration": 349,
    "start_time": "2021-09-29T17:33:26.028Z"
   },
   {
    "duration": 40,
    "start_time": "2021-09-29T17:35:23.109Z"
   },
   {
    "duration": 28,
    "start_time": "2021-09-29T17:37:00.208Z"
   },
   {
    "duration": 36,
    "start_time": "2021-09-29T17:37:39.796Z"
   },
   {
    "duration": 461,
    "start_time": "2021-09-29T17:44:38.069Z"
   },
   {
    "duration": 836,
    "start_time": "2021-09-29T17:45:59.512Z"
   },
   {
    "duration": 1217,
    "start_time": "2021-09-29T17:47:51.064Z"
   },
   {
    "duration": 13,
    "start_time": "2021-09-29T17:55:32.925Z"
   },
   {
    "duration": 15,
    "start_time": "2021-09-29T17:57:31.991Z"
   },
   {
    "duration": 1615,
    "start_time": "2021-09-29T17:59:11.808Z"
   },
   {
    "duration": 1786,
    "start_time": "2021-09-29T18:00:30.018Z"
   },
   {
    "duration": 1908,
    "start_time": "2021-09-29T18:01:54.415Z"
   },
   {
    "duration": 1083,
    "start_time": "2021-09-29T18:03:41.961Z"
   },
   {
    "duration": 1857,
    "start_time": "2021-09-29T18:04:40.470Z"
   },
   {
    "duration": 11210,
    "start_time": "2021-09-29T18:05:08.128Z"
   },
   {
    "duration": 15,
    "start_time": "2021-09-29T18:05:29.625Z"
   },
   {
    "duration": 1068,
    "start_time": "2021-09-29T18:05:40.010Z"
   },
   {
    "duration": 925,
    "start_time": "2021-09-29T18:14:26.020Z"
   },
   {
    "duration": 8431,
    "start_time": "2021-09-29T18:15:21.231Z"
   },
   {
    "duration": 14,
    "start_time": "2021-09-29T18:15:35.008Z"
   },
   {
    "duration": 14,
    "start_time": "2021-09-29T18:19:22.314Z"
   },
   {
    "duration": 18,
    "start_time": "2021-09-29T18:19:27.899Z"
   },
   {
    "duration": 14,
    "start_time": "2021-09-29T18:19:52.828Z"
   },
   {
    "duration": 982,
    "start_time": "2021-09-29T18:21:28.219Z"
   },
   {
    "duration": 968,
    "start_time": "2021-09-29T18:22:05.855Z"
   },
   {
    "duration": 962,
    "start_time": "2021-09-29T18:22:41.967Z"
   },
   {
    "duration": 902,
    "start_time": "2021-09-29T18:26:51.620Z"
   },
   {
    "duration": 5,
    "start_time": "2021-09-29T18:28:42.250Z"
   },
   {
    "duration": 157,
    "start_time": "2021-09-29T18:28:42.258Z"
   },
   {
    "duration": 70,
    "start_time": "2021-09-29T18:28:42.419Z"
   },
   {
    "duration": 55,
    "start_time": "2021-09-29T18:28:42.493Z"
   },
   {
    "duration": 50,
    "start_time": "2021-09-29T18:28:42.552Z"
   },
   {
    "duration": 31,
    "start_time": "2021-09-29T18:28:42.604Z"
   },
   {
    "duration": 21,
    "start_time": "2021-09-29T18:28:42.639Z"
   },
   {
    "duration": 67,
    "start_time": "2021-09-29T18:28:42.664Z"
   },
   {
    "duration": 59,
    "start_time": "2021-09-29T18:28:42.734Z"
   },
   {
    "duration": 627,
    "start_time": "2021-09-29T18:28:42.796Z"
   },
   {
    "duration": 98,
    "start_time": "2021-09-29T18:28:43.425Z"
   },
   {
    "duration": 48,
    "start_time": "2021-09-29T18:28:43.526Z"
   },
   {
    "duration": 166,
    "start_time": "2021-09-29T18:28:43.577Z"
   },
   {
    "duration": 6,
    "start_time": "2021-09-29T18:28:43.746Z"
   },
   {
    "duration": 2461,
    "start_time": "2021-09-29T18:28:43.755Z"
   },
   {
    "duration": 3961,
    "start_time": "2021-09-29T18:28:46.224Z"
   },
   {
    "duration": 39,
    "start_time": "2021-09-29T18:28:50.189Z"
   },
   {
    "duration": 54,
    "start_time": "2021-09-29T18:28:50.232Z"
   },
   {
    "duration": 67,
    "start_time": "2021-09-29T18:28:50.290Z"
   },
   {
    "duration": 35,
    "start_time": "2021-09-29T18:28:50.360Z"
   },
   {
    "duration": 3054,
    "start_time": "2021-09-29T18:28:50.397Z"
   },
   {
    "duration": 249,
    "start_time": "2021-09-29T18:28:53.454Z"
   },
   {
    "duration": 1994,
    "start_time": "2021-09-29T18:28:53.705Z"
   },
   {
    "duration": -45,
    "start_time": "2021-09-29T18:28:55.746Z"
   },
   {
    "duration": -47,
    "start_time": "2021-09-29T18:28:55.750Z"
   },
   {
    "duration": 893,
    "start_time": "2021-09-29T18:30:03.251Z"
   },
   {
    "duration": 4,
    "start_time": "2021-09-30T07:23:31.426Z"
   },
   {
    "duration": 120,
    "start_time": "2021-09-30T07:23:31.433Z"
   },
   {
    "duration": 40,
    "start_time": "2021-09-30T07:23:31.556Z"
   },
   {
    "duration": 41,
    "start_time": "2021-09-30T07:23:31.599Z"
   },
   {
    "duration": 39,
    "start_time": "2021-09-30T07:23:31.642Z"
   },
   {
    "duration": 38,
    "start_time": "2021-09-30T07:23:31.684Z"
   },
   {
    "duration": 19,
    "start_time": "2021-09-30T07:23:31.725Z"
   },
   {
    "duration": 61,
    "start_time": "2021-09-30T07:23:31.747Z"
   },
   {
    "duration": 37,
    "start_time": "2021-09-30T07:23:31.811Z"
   },
   {
    "duration": 544,
    "start_time": "2021-09-30T07:23:31.851Z"
   },
   {
    "duration": 90,
    "start_time": "2021-09-30T07:23:32.397Z"
   },
   {
    "duration": 60,
    "start_time": "2021-09-30T07:23:32.490Z"
   },
   {
    "duration": 123,
    "start_time": "2021-09-30T07:23:32.552Z"
   },
   {
    "duration": 6,
    "start_time": "2021-09-30T07:23:32.678Z"
   },
   {
    "duration": 2255,
    "start_time": "2021-09-30T07:23:32.687Z"
   },
   {
    "duration": 2346,
    "start_time": "2021-09-30T07:23:34.946Z"
   },
   {
    "duration": 30,
    "start_time": "2021-09-30T07:23:37.294Z"
   },
   {
    "duration": 47,
    "start_time": "2021-09-30T07:23:37.326Z"
   },
   {
    "duration": 59,
    "start_time": "2021-09-30T07:23:37.375Z"
   },
   {
    "duration": 35,
    "start_time": "2021-09-30T07:23:37.436Z"
   },
   {
    "duration": 2337,
    "start_time": "2021-09-30T07:23:37.474Z"
   },
   {
    "duration": 226,
    "start_time": "2021-09-30T07:23:39.814Z"
   },
   {
    "duration": 1772,
    "start_time": "2021-09-30T07:23:40.042Z"
   },
   {
    "duration": -136,
    "start_time": "2021-09-30T07:23:41.952Z"
   },
   {
    "duration": -137,
    "start_time": "2021-09-30T07:23:41.955Z"
   },
   {
    "duration": 815,
    "start_time": "2021-09-30T07:24:08.046Z"
   },
   {
    "duration": 4,
    "start_time": "2021-09-30T07:24:46.106Z"
   },
   {
    "duration": 81,
    "start_time": "2021-09-30T07:24:46.113Z"
   },
   {
    "duration": 58,
    "start_time": "2021-09-30T07:24:46.197Z"
   },
   {
    "duration": 19,
    "start_time": "2021-09-30T07:24:46.258Z"
   },
   {
    "duration": 49,
    "start_time": "2021-09-30T07:24:46.279Z"
   },
   {
    "duration": 18,
    "start_time": "2021-09-30T07:24:46.331Z"
   },
   {
    "duration": 22,
    "start_time": "2021-09-30T07:24:46.354Z"
   },
   {
    "duration": 67,
    "start_time": "2021-09-30T07:24:46.379Z"
   },
   {
    "duration": 39,
    "start_time": "2021-09-30T07:24:46.449Z"
   },
   {
    "duration": 560,
    "start_time": "2021-09-30T07:24:46.490Z"
   },
   {
    "duration": 86,
    "start_time": "2021-09-30T07:24:47.052Z"
   },
   {
    "duration": 38,
    "start_time": "2021-09-30T07:24:47.140Z"
   },
   {
    "duration": 228,
    "start_time": "2021-09-30T07:24:47.181Z"
   },
   {
    "duration": 13,
    "start_time": "2021-09-30T07:24:47.411Z"
   },
   {
    "duration": 1954,
    "start_time": "2021-09-30T07:24:47.426Z"
   },
   {
    "duration": 2254,
    "start_time": "2021-09-30T07:24:49.383Z"
   },
   {
    "duration": 20,
    "start_time": "2021-09-30T07:24:51.640Z"
   },
   {
    "duration": 81,
    "start_time": "2021-09-30T07:24:51.662Z"
   },
   {
    "duration": 37,
    "start_time": "2021-09-30T07:24:51.747Z"
   },
   {
    "duration": 59,
    "start_time": "2021-09-30T07:24:51.787Z"
   },
   {
    "duration": 2176,
    "start_time": "2021-09-30T07:24:51.849Z"
   },
   {
    "duration": 229,
    "start_time": "2021-09-30T07:24:54.028Z"
   },
   {
    "duration": 1868,
    "start_time": "2021-09-30T07:24:54.259Z"
   },
   {
    "duration": -249,
    "start_time": "2021-09-30T07:24:56.378Z"
   },
   {
    "duration": -249,
    "start_time": "2021-09-30T07:24:56.380Z"
   },
   {
    "duration": 4,
    "start_time": "2021-09-30T07:26:16.211Z"
   },
   {
    "duration": 111,
    "start_time": "2021-09-30T07:26:16.217Z"
   },
   {
    "duration": 41,
    "start_time": "2021-09-30T07:26:16.331Z"
   },
   {
    "duration": 20,
    "start_time": "2021-09-30T07:26:16.375Z"
   },
   {
    "duration": 48,
    "start_time": "2021-09-30T07:26:16.397Z"
   },
   {
    "duration": 16,
    "start_time": "2021-09-30T07:26:16.448Z"
   },
   {
    "duration": 25,
    "start_time": "2021-09-30T07:26:16.467Z"
   },
   {
    "duration": 77,
    "start_time": "2021-09-30T07:26:16.494Z"
   },
   {
    "duration": 43,
    "start_time": "2021-09-30T07:26:16.575Z"
   },
   {
    "duration": 570,
    "start_time": "2021-09-30T07:26:16.621Z"
   },
   {
    "duration": 90,
    "start_time": "2021-09-30T07:26:17.194Z"
   },
   {
    "duration": 63,
    "start_time": "2021-09-30T07:26:17.287Z"
   },
   {
    "duration": 120,
    "start_time": "2021-09-30T07:26:17.353Z"
   },
   {
    "duration": 4,
    "start_time": "2021-09-30T07:26:17.476Z"
   },
   {
    "duration": 2107,
    "start_time": "2021-09-30T07:26:17.483Z"
   },
   {
    "duration": 2233,
    "start_time": "2021-09-30T07:26:19.593Z"
   },
   {
    "duration": 20,
    "start_time": "2021-09-30T07:26:21.830Z"
   },
   {
    "duration": 85,
    "start_time": "2021-09-30T07:26:21.853Z"
   },
   {
    "duration": 37,
    "start_time": "2021-09-30T07:26:21.941Z"
   },
   {
    "duration": 50,
    "start_time": "2021-09-30T07:26:21.981Z"
   },
   {
    "duration": 2364,
    "start_time": "2021-09-30T07:26:22.033Z"
   },
   {
    "duration": 232,
    "start_time": "2021-09-30T07:26:24.399Z"
   },
   {
    "duration": 864,
    "start_time": "2021-09-30T07:26:24.634Z"
   },
   {
    "duration": 55,
    "start_time": "2021-09-30T07:26:25.500Z"
   },
   {
    "duration": 34,
    "start_time": "2021-09-30T07:26:25.558Z"
   },
   {
    "duration": 4,
    "start_time": "2021-09-30T07:27:55.109Z"
   },
   {
    "duration": 103,
    "start_time": "2021-09-30T07:27:55.116Z"
   },
   {
    "duration": 43,
    "start_time": "2021-09-30T07:27:55.222Z"
   },
   {
    "duration": 20,
    "start_time": "2021-09-30T07:27:55.268Z"
   },
   {
    "duration": 20,
    "start_time": "2021-09-30T07:27:55.322Z"
   },
   {
    "duration": 17,
    "start_time": "2021-09-30T07:27:55.344Z"
   },
   {
    "duration": 23,
    "start_time": "2021-09-30T07:27:55.363Z"
   },
   {
    "duration": 60,
    "start_time": "2021-09-30T07:27:55.390Z"
   },
   {
    "duration": 38,
    "start_time": "2021-09-30T07:27:55.453Z"
   },
   {
    "duration": 658,
    "start_time": "2021-09-30T07:27:55.494Z"
   },
   {
    "duration": 92,
    "start_time": "2021-09-30T07:27:56.155Z"
   },
   {
    "duration": 39,
    "start_time": "2021-09-30T07:27:56.250Z"
   },
   {
    "duration": 111,
    "start_time": "2021-09-30T07:27:56.322Z"
   },
   {
    "duration": 5,
    "start_time": "2021-09-30T07:27:56.436Z"
   },
   {
    "duration": 1968,
    "start_time": "2021-09-30T07:27:56.443Z"
   },
   {
    "duration": 2286,
    "start_time": "2021-09-30T07:27:58.413Z"
   },
   {
    "duration": 33,
    "start_time": "2021-09-30T07:28:00.702Z"
   },
   {
    "duration": 56,
    "start_time": "2021-09-30T07:28:00.737Z"
   },
   {
    "duration": 61,
    "start_time": "2021-09-30T07:28:00.796Z"
   },
   {
    "duration": 35,
    "start_time": "2021-09-30T07:28:00.860Z"
   },
   {
    "duration": 2305,
    "start_time": "2021-09-30T07:28:00.898Z"
   },
   {
    "duration": 229,
    "start_time": "2021-09-30T07:28:03.205Z"
   },
   {
    "duration": 1701,
    "start_time": "2021-09-30T07:28:03.440Z"
   },
   {
    "duration": -173,
    "start_time": "2021-09-30T07:28:05.316Z"
   },
   {
    "duration": -174,
    "start_time": "2021-09-30T07:28:05.319Z"
   },
   {
    "duration": 4,
    "start_time": "2021-09-30T07:31:13.862Z"
   },
   {
    "duration": 112,
    "start_time": "2021-09-30T07:31:13.869Z"
   },
   {
    "duration": 59,
    "start_time": "2021-09-30T07:31:13.984Z"
   },
   {
    "duration": 20,
    "start_time": "2021-09-30T07:31:14.045Z"
   },
   {
    "duration": 51,
    "start_time": "2021-09-30T07:31:14.067Z"
   },
   {
    "duration": 31,
    "start_time": "2021-09-30T07:31:14.120Z"
   },
   {
    "duration": 36,
    "start_time": "2021-09-30T07:31:14.155Z"
   },
   {
    "duration": 47,
    "start_time": "2021-09-30T07:31:14.194Z"
   },
   {
    "duration": 37,
    "start_time": "2021-09-30T07:31:14.243Z"
   },
   {
    "duration": 543,
    "start_time": "2021-09-30T07:31:14.282Z"
   },
   {
    "duration": 77,
    "start_time": "2021-09-30T07:31:14.828Z"
   },
   {
    "duration": 45,
    "start_time": "2021-09-30T07:31:14.924Z"
   },
   {
    "duration": 153,
    "start_time": "2021-09-30T07:31:14.972Z"
   },
   {
    "duration": 4,
    "start_time": "2021-09-30T07:31:15.128Z"
   },
   {
    "duration": 2100,
    "start_time": "2021-09-30T07:31:15.135Z"
   },
   {
    "duration": 2202,
    "start_time": "2021-09-30T07:31:17.238Z"
   },
   {
    "duration": 17,
    "start_time": "2021-09-30T07:31:19.443Z"
   },
   {
    "duration": 70,
    "start_time": "2021-09-30T07:31:19.462Z"
   },
   {
    "duration": 37,
    "start_time": "2021-09-30T07:31:19.536Z"
   },
   {
    "duration": 52,
    "start_time": "2021-09-30T07:31:19.576Z"
   },
   {
    "duration": 2358,
    "start_time": "2021-09-30T07:31:19.631Z"
   },
   {
    "duration": 247,
    "start_time": "2021-09-30T07:31:21.991Z"
   },
   {
    "duration": 884,
    "start_time": "2021-09-30T07:31:22.240Z"
   },
   {
    "duration": 38,
    "start_time": "2021-09-30T07:31:23.126Z"
   },
   {
    "duration": 72,
    "start_time": "2021-09-30T07:31:23.167Z"
   },
   {
    "duration": 5,
    "start_time": "2021-09-30T07:46:47.878Z"
   },
   {
    "duration": 90,
    "start_time": "2021-09-30T07:46:47.886Z"
   },
   {
    "duration": 56,
    "start_time": "2021-09-30T07:46:47.979Z"
   },
   {
    "duration": 20,
    "start_time": "2021-09-30T07:46:48.038Z"
   },
   {
    "duration": 30,
    "start_time": "2021-09-30T07:46:48.060Z"
   },
   {
    "duration": 36,
    "start_time": "2021-09-30T07:46:48.092Z"
   },
   {
    "duration": 17,
    "start_time": "2021-09-30T07:46:48.130Z"
   },
   {
    "duration": 30,
    "start_time": "2021-09-30T07:46:48.152Z"
   },
   {
    "duration": 77,
    "start_time": "2021-09-30T07:46:48.185Z"
   },
   {
    "duration": 547,
    "start_time": "2021-09-30T07:46:48.265Z"
   },
   {
    "duration": 70,
    "start_time": "2021-09-30T07:46:48.822Z"
   },
   {
    "duration": 59,
    "start_time": "2021-09-30T07:46:48.894Z"
   },
   {
    "duration": 224,
    "start_time": "2021-09-30T07:46:48.956Z"
   },
   {
    "duration": 5,
    "start_time": "2021-09-30T07:46:49.184Z"
   },
   {
    "duration": 1967,
    "start_time": "2021-09-30T07:46:49.192Z"
   },
   {
    "duration": 2215,
    "start_time": "2021-09-30T07:46:51.162Z"
   },
   {
    "duration": 16,
    "start_time": "2021-09-30T07:46:53.380Z"
   },
   {
    "duration": 69,
    "start_time": "2021-09-30T07:46:53.399Z"
   },
   {
    "duration": 58,
    "start_time": "2021-09-30T07:46:53.471Z"
   },
   {
    "duration": 34,
    "start_time": "2021-09-30T07:46:53.531Z"
   },
   {
    "duration": 2204,
    "start_time": "2021-09-30T07:46:53.567Z"
   },
   {
    "duration": 236,
    "start_time": "2021-09-30T07:46:55.774Z"
   },
   {
    "duration": 887,
    "start_time": "2021-09-30T07:46:56.015Z"
   },
   {
    "duration": 48,
    "start_time": "2021-09-30T07:46:56.905Z"
   },
   {
    "duration": 32,
    "start_time": "2021-09-30T07:46:56.955Z"
   },
   {
    "duration": 12,
    "start_time": "2021-09-30T07:48:38.083Z"
   },
   {
    "duration": 288,
    "start_time": "2021-09-30T07:54:57.393Z"
   },
   {
    "duration": 5,
    "start_time": "2021-09-30T07:56:29.096Z"
   },
   {
    "duration": 113,
    "start_time": "2021-09-30T07:56:29.104Z"
   },
   {
    "duration": 44,
    "start_time": "2021-09-30T07:56:29.220Z"
   },
   {
    "duration": 21,
    "start_time": "2021-09-30T07:56:29.267Z"
   },
   {
    "duration": 45,
    "start_time": "2021-09-30T07:56:29.291Z"
   },
   {
    "duration": 27,
    "start_time": "2021-09-30T07:56:29.339Z"
   },
   {
    "duration": 35,
    "start_time": "2021-09-30T07:56:29.371Z"
   },
   {
    "duration": 32,
    "start_time": "2021-09-30T07:56:29.424Z"
   },
   {
    "duration": 70,
    "start_time": "2021-09-30T07:56:29.459Z"
   },
   {
    "duration": 583,
    "start_time": "2021-09-30T07:56:29.532Z"
   },
   {
    "duration": 74,
    "start_time": "2021-09-30T07:56:30.117Z"
   },
   {
    "duration": 47,
    "start_time": "2021-09-30T07:56:30.194Z"
   },
   {
    "duration": 107,
    "start_time": "2021-09-30T07:56:30.244Z"
   },
   {
    "duration": 4,
    "start_time": "2021-09-30T07:56:30.353Z"
   },
   {
    "duration": 2394,
    "start_time": "2021-09-30T07:56:30.360Z"
   },
   {
    "duration": 2325,
    "start_time": "2021-09-30T07:56:32.757Z"
   },
   {
    "duration": 17,
    "start_time": "2021-09-30T07:56:35.085Z"
   },
   {
    "duration": 53,
    "start_time": "2021-09-30T07:56:35.121Z"
   },
   {
    "duration": 68,
    "start_time": "2021-09-30T07:56:35.178Z"
   },
   {
    "duration": 35,
    "start_time": "2021-09-30T07:56:35.250Z"
   },
   {
    "duration": 2304,
    "start_time": "2021-09-30T07:56:35.288Z"
   },
   {
    "duration": 248,
    "start_time": "2021-09-30T07:56:37.595Z"
   },
   {
    "duration": 853,
    "start_time": "2021-09-30T07:56:37.846Z"
   },
   {
    "duration": 28,
    "start_time": "2021-09-30T07:56:38.702Z"
   },
   {
    "duration": 340,
    "start_time": "2021-09-30T07:56:38.732Z"
   },
   {
    "duration": -213,
    "start_time": "2021-09-30T07:56:39.287Z"
   },
   {
    "duration": -216,
    "start_time": "2021-09-30T07:56:39.292Z"
   },
   {
    "duration": 360,
    "start_time": "2021-09-30T07:57:06.294Z"
   },
   {
    "duration": 11,
    "start_time": "2021-09-30T09:07:06.474Z"
   },
   {
    "duration": 11,
    "start_time": "2021-09-30T09:08:35.399Z"
   },
   {
    "duration": 11,
    "start_time": "2021-09-30T09:09:26.770Z"
   },
   {
    "duration": 464,
    "start_time": "2021-09-30T09:09:59.968Z"
   },
   {
    "duration": 726,
    "start_time": "2021-09-30T09:11:23.348Z"
   },
   {
    "duration": 619,
    "start_time": "2021-09-30T09:11:52.828Z"
   },
   {
    "duration": 1328,
    "start_time": "2021-09-30T09:12:18.090Z"
   },
   {
    "duration": 1094,
    "start_time": "2021-09-30T09:13:57.805Z"
   },
   {
    "duration": 787,
    "start_time": "2021-09-30T09:14:51.519Z"
   },
   {
    "duration": 306,
    "start_time": "2021-09-30T09:15:16.773Z"
   },
   {
    "duration": 112,
    "start_time": "2021-09-30T09:17:24.572Z"
   },
   {
    "duration": 650,
    "start_time": "2021-09-30T09:17:56.849Z"
   },
   {
    "duration": 654,
    "start_time": "2021-09-30T09:19:24.410Z"
   },
   {
    "duration": 699,
    "start_time": "2021-09-30T09:24:15.977Z"
   },
   {
    "duration": 782,
    "start_time": "2021-09-30T09:24:35.597Z"
   },
   {
    "duration": 677,
    "start_time": "2021-09-30T09:29:32.045Z"
   },
   {
    "duration": 711,
    "start_time": "2021-09-30T09:30:00.742Z"
   },
   {
    "duration": 430,
    "start_time": "2021-09-30T10:08:56.560Z"
   },
   {
    "duration": 334,
    "start_time": "2021-09-30T10:10:01.662Z"
   },
   {
    "duration": 29,
    "start_time": "2021-09-30T10:11:26.811Z"
   },
   {
    "duration": 4,
    "start_time": "2021-09-30T10:12:07.979Z"
   },
   {
    "duration": 86,
    "start_time": "2021-09-30T10:12:07.986Z"
   },
   {
    "duration": 62,
    "start_time": "2021-09-30T10:12:08.074Z"
   },
   {
    "duration": 20,
    "start_time": "2021-09-30T10:12:08.139Z"
   },
   {
    "duration": 42,
    "start_time": "2021-09-30T10:12:08.161Z"
   },
   {
    "duration": 30,
    "start_time": "2021-09-30T10:12:08.205Z"
   },
   {
    "duration": 33,
    "start_time": "2021-09-30T10:12:08.238Z"
   },
   {
    "duration": 51,
    "start_time": "2021-09-30T10:12:08.274Z"
   },
   {
    "duration": 40,
    "start_time": "2021-09-30T10:12:08.328Z"
   },
   {
    "duration": 562,
    "start_time": "2021-09-30T10:12:08.370Z"
   },
   {
    "duration": 89,
    "start_time": "2021-09-30T10:12:08.934Z"
   },
   {
    "duration": 41,
    "start_time": "2021-09-30T10:12:09.025Z"
   },
   {
    "duration": 133,
    "start_time": "2021-09-30T10:12:09.069Z"
   },
   {
    "duration": 18,
    "start_time": "2021-09-30T10:12:09.204Z"
   },
   {
    "duration": 2100,
    "start_time": "2021-09-30T10:12:09.225Z"
   },
   {
    "duration": 2441,
    "start_time": "2021-09-30T10:12:11.328Z"
   },
   {
    "duration": 21,
    "start_time": "2021-09-30T10:12:13.772Z"
   },
   {
    "duration": 74,
    "start_time": "2021-09-30T10:12:13.796Z"
   },
   {
    "duration": 65,
    "start_time": "2021-09-30T10:12:13.876Z"
   },
   {
    "duration": 34,
    "start_time": "2021-09-30T10:12:13.944Z"
   },
   {
    "duration": 2217,
    "start_time": "2021-09-30T10:12:13.981Z"
   },
   {
    "duration": 233,
    "start_time": "2021-09-30T10:12:16.201Z"
   },
   {
    "duration": 858,
    "start_time": "2021-09-30T10:12:16.436Z"
   },
   {
    "duration": 34,
    "start_time": "2021-09-30T10:12:17.297Z"
   },
   {
    "duration": 320,
    "start_time": "2021-09-30T10:12:17.334Z"
   },
   {
    "duration": 913,
    "start_time": "2021-09-30T10:12:17.656Z"
   },
   {
    "duration": 694,
    "start_time": "2021-09-30T10:12:18.572Z"
   },
   {
    "duration": 692,
    "start_time": "2021-09-30T10:12:19.269Z"
   },
   {
    "duration": 26,
    "start_time": "2021-09-30T10:12:19.963Z"
   },
   {
    "duration": 55,
    "start_time": "2021-09-30T10:12:19.991Z"
   },
   {
    "duration": 40,
    "start_time": "2021-09-30T10:12:20.049Z"
   },
   {
    "duration": 972,
    "start_time": "2021-09-30T10:13:25.439Z"
   },
   {
    "duration": 12,
    "start_time": "2021-09-30T10:13:44.154Z"
   },
   {
    "duration": 29,
    "start_time": "2021-09-30T10:15:47.185Z"
   },
   {
    "duration": 1348,
    "start_time": "2021-09-30T10:22:34.708Z"
   },
   {
    "duration": 25,
    "start_time": "2021-09-30T10:23:04.399Z"
   },
   {
    "duration": 29,
    "start_time": "2021-09-30T10:26:10.968Z"
   },
   {
    "duration": 19,
    "start_time": "2021-09-30T10:29:38.029Z"
   },
   {
    "duration": 20,
    "start_time": "2021-09-30T10:37:39.815Z"
   },
   {
    "duration": 19,
    "start_time": "2021-09-30T10:38:23.877Z"
   },
   {
    "duration": 5,
    "start_time": "2021-09-30T10:43:33.407Z"
   },
   {
    "duration": 75,
    "start_time": "2021-09-30T10:43:33.417Z"
   },
   {
    "duration": 59,
    "start_time": "2021-09-30T10:43:33.494Z"
   },
   {
    "duration": 19,
    "start_time": "2021-09-30T10:43:33.556Z"
   },
   {
    "duration": 51,
    "start_time": "2021-09-30T10:43:33.578Z"
   },
   {
    "duration": 16,
    "start_time": "2021-09-30T10:43:33.631Z"
   },
   {
    "duration": 17,
    "start_time": "2021-09-30T10:43:33.650Z"
   },
   {
    "duration": 68,
    "start_time": "2021-09-30T10:43:33.669Z"
   },
   {
    "duration": 40,
    "start_time": "2021-09-30T10:43:33.739Z"
   },
   {
    "duration": 557,
    "start_time": "2021-09-30T10:43:33.782Z"
   },
   {
    "duration": 92,
    "start_time": "2021-09-30T10:43:34.342Z"
   },
   {
    "duration": 44,
    "start_time": "2021-09-30T10:43:34.437Z"
   },
   {
    "duration": 144,
    "start_time": "2021-09-30T10:43:34.483Z"
   },
   {
    "duration": 4,
    "start_time": "2021-09-30T10:43:34.630Z"
   },
   {
    "duration": 2081,
    "start_time": "2021-09-30T10:43:34.636Z"
   },
   {
    "duration": 2292,
    "start_time": "2021-09-30T10:43:36.723Z"
   },
   {
    "duration": 20,
    "start_time": "2021-09-30T10:43:39.017Z"
   },
   {
    "duration": 49,
    "start_time": "2021-09-30T10:43:39.039Z"
   },
   {
    "duration": 38,
    "start_time": "2021-09-30T10:43:39.122Z"
   },
   {
    "duration": 32,
    "start_time": "2021-09-30T10:43:39.162Z"
   },
   {
    "duration": 2171,
    "start_time": "2021-09-30T10:43:39.196Z"
   },
   {
    "duration": 255,
    "start_time": "2021-09-30T10:43:41.369Z"
   },
   {
    "duration": 858,
    "start_time": "2021-09-30T10:43:41.628Z"
   },
   {
    "duration": 36,
    "start_time": "2021-09-30T10:43:42.488Z"
   },
   {
    "duration": 418,
    "start_time": "2021-09-30T10:43:42.526Z"
   },
   {
    "duration": 696,
    "start_time": "2021-09-30T10:43:42.946Z"
   },
   {
    "duration": 696,
    "start_time": "2021-09-30T10:43:43.644Z"
   },
   {
    "duration": 703,
    "start_time": "2021-09-30T10:43:44.345Z"
   },
   {
    "duration": 20,
    "start_time": "2021-09-30T10:43:45.050Z"
   },
   {
    "duration": 37,
    "start_time": "2021-09-30T10:43:45.072Z"
   },
   {
    "duration": 35,
    "start_time": "2021-09-30T10:43:45.123Z"
   },
   {
    "duration": 63,
    "start_time": "2021-09-30T10:43:45.161Z"
   },
   {
    "duration": 1381,
    "start_time": "2021-09-30T15:19:32.080Z"
   },
   {
    "duration": 64,
    "start_time": "2021-09-30T15:19:33.463Z"
   },
   {
    "duration": 47,
    "start_time": "2021-09-30T15:19:33.530Z"
   },
   {
    "duration": 13,
    "start_time": "2021-09-30T15:19:33.578Z"
   },
   {
    "duration": 15,
    "start_time": "2021-09-30T15:19:33.593Z"
   },
   {
    "duration": 12,
    "start_time": "2021-09-30T15:19:33.609Z"
   },
   {
    "duration": 14,
    "start_time": "2021-09-30T15:19:33.623Z"
   },
   {
    "duration": 56,
    "start_time": "2021-09-30T15:19:33.638Z"
   },
   {
    "duration": 29,
    "start_time": "2021-09-30T15:19:33.697Z"
   },
   {
    "duration": 375,
    "start_time": "2021-09-30T15:19:33.729Z"
   },
   {
    "duration": 56,
    "start_time": "2021-09-30T15:19:34.106Z"
   },
   {
    "duration": 30,
    "start_time": "2021-09-30T15:19:34.177Z"
   },
   {
    "duration": 98,
    "start_time": "2021-09-30T15:19:34.208Z"
   },
   {
    "duration": 3,
    "start_time": "2021-09-30T15:19:34.308Z"
   },
   {
    "duration": 1283,
    "start_time": "2021-09-30T15:19:34.313Z"
   },
   {
    "duration": 1484,
    "start_time": "2021-09-30T15:19:35.598Z"
   },
   {
    "duration": 13,
    "start_time": "2021-09-30T15:19:37.084Z"
   },
   {
    "duration": 34,
    "start_time": "2021-09-30T15:19:37.099Z"
   },
   {
    "duration": 51,
    "start_time": "2021-09-30T15:19:37.135Z"
   },
   {
    "duration": 21,
    "start_time": "2021-09-30T15:19:37.189Z"
   },
   {
    "duration": 1546,
    "start_time": "2021-09-30T15:19:37.212Z"
   },
   {
    "duration": 145,
    "start_time": "2021-09-30T15:19:38.760Z"
   },
   {
    "duration": 571,
    "start_time": "2021-09-30T15:19:38.907Z"
   },
   {
    "duration": 10,
    "start_time": "2021-09-30T15:19:39.480Z"
   },
   {
    "duration": 209,
    "start_time": "2021-09-30T15:19:39.492Z"
   },
   {
    "duration": 519,
    "start_time": "2021-09-30T15:19:39.703Z"
   },
   {
    "duration": 446,
    "start_time": "2021-09-30T15:19:40.225Z"
   },
   {
    "duration": 452,
    "start_time": "2021-09-30T15:19:40.673Z"
   },
   {
    "duration": 15,
    "start_time": "2021-09-30T15:19:41.126Z"
   },
   {
    "duration": 35,
    "start_time": "2021-09-30T15:19:41.143Z"
   },
   {
    "duration": 22,
    "start_time": "2021-09-30T15:28:14.471Z"
   },
   {
    "duration": 1074,
    "start_time": "2021-09-30T15:29:16.496Z"
   },
   {
    "duration": 834,
    "start_time": "2021-09-30T15:30:05.900Z"
   },
   {
    "duration": 5,
    "start_time": "2021-09-30T15:32:15.332Z"
   },
   {
    "duration": 6,
    "start_time": "2021-09-30T15:32:20.060Z"
   },
   {
    "duration": 7,
    "start_time": "2021-09-30T15:32:25.672Z"
   },
   {
    "duration": 8,
    "start_time": "2021-09-30T15:32:38.730Z"
   },
   {
    "duration": 798,
    "start_time": "2021-09-30T15:32:50.666Z"
   },
   {
    "duration": 6,
    "start_time": "2021-09-30T16:17:23.572Z"
   },
   {
    "duration": 92,
    "start_time": "2021-09-30T16:17:23.580Z"
   },
   {
    "duration": 61,
    "start_time": "2021-09-30T16:17:23.676Z"
   },
   {
    "duration": 21,
    "start_time": "2021-09-30T16:17:23.740Z"
   },
   {
    "duration": 20,
    "start_time": "2021-09-30T16:17:23.764Z"
   },
   {
    "duration": 25,
    "start_time": "2021-09-30T16:17:23.822Z"
   },
   {
    "duration": 20,
    "start_time": "2021-09-30T16:17:23.850Z"
   },
   {
    "duration": 76,
    "start_time": "2021-09-30T16:17:23.872Z"
   },
   {
    "duration": 82,
    "start_time": "2021-09-30T16:17:23.955Z"
   },
   {
    "duration": 735,
    "start_time": "2021-09-30T16:17:24.044Z"
   },
   {
    "duration": 123,
    "start_time": "2021-09-30T16:17:24.782Z"
   },
   {
    "duration": 60,
    "start_time": "2021-09-30T16:17:24.909Z"
   },
   {
    "duration": 138,
    "start_time": "2021-09-30T16:17:24.972Z"
   },
   {
    "duration": 15,
    "start_time": "2021-09-30T16:17:25.113Z"
   },
   {
    "duration": 2348,
    "start_time": "2021-09-30T16:17:25.131Z"
   },
   {
    "duration": 2543,
    "start_time": "2021-09-30T16:17:27.482Z"
   },
   {
    "duration": 25,
    "start_time": "2021-09-30T16:17:30.028Z"
   },
   {
    "duration": 92,
    "start_time": "2021-09-30T16:17:30.056Z"
   },
   {
    "duration": 41,
    "start_time": "2021-09-30T16:17:30.150Z"
   },
   {
    "duration": 57,
    "start_time": "2021-09-30T16:17:30.194Z"
   },
   {
    "duration": 2387,
    "start_time": "2021-09-30T16:17:30.253Z"
   },
   {
    "duration": 370,
    "start_time": "2021-09-30T16:17:32.643Z"
   },
   {
    "duration": 1210,
    "start_time": "2021-09-30T16:17:33.016Z"
   },
   {
    "duration": 24,
    "start_time": "2021-09-30T16:17:34.228Z"
   },
   {
    "duration": 354,
    "start_time": "2021-09-30T16:17:34.255Z"
   },
   {
    "duration": 750,
    "start_time": "2021-09-30T16:17:34.614Z"
   },
   {
    "duration": 755,
    "start_time": "2021-09-30T16:17:35.367Z"
   },
   {
    "duration": 788,
    "start_time": "2021-09-30T16:17:36.128Z"
   },
   {
    "duration": 26,
    "start_time": "2021-09-30T16:17:36.924Z"
   },
   {
    "duration": 23,
    "start_time": "2021-09-30T16:17:36.953Z"
   },
   {
    "duration": 230,
    "start_time": "2021-09-30T16:21:36.833Z"
   },
   {
    "duration": 743,
    "start_time": "2021-09-30T16:26:24.972Z"
   },
   {
    "duration": 17,
    "start_time": "2021-09-30T16:27:38.498Z"
   },
   {
    "duration": 5,
    "start_time": "2021-09-30T16:28:22.772Z"
   },
   {
    "duration": 128,
    "start_time": "2021-09-30T16:28:22.780Z"
   },
   {
    "duration": 51,
    "start_time": "2021-09-30T16:28:22.911Z"
   },
   {
    "duration": 24,
    "start_time": "2021-09-30T16:28:22.966Z"
   },
   {
    "duration": 51,
    "start_time": "2021-09-30T16:28:22.993Z"
   },
   {
    "duration": 143,
    "start_time": "2021-09-30T16:28:23.046Z"
   },
   {
    "duration": 40,
    "start_time": "2021-09-30T16:28:23.191Z"
   },
   {
    "duration": 51,
    "start_time": "2021-09-30T16:28:23.240Z"
   },
   {
    "duration": 47,
    "start_time": "2021-09-30T16:28:23.294Z"
   },
   {
    "duration": 589,
    "start_time": "2021-09-30T16:28:23.344Z"
   },
   {
    "duration": 102,
    "start_time": "2021-09-30T16:28:23.936Z"
   },
   {
    "duration": 40,
    "start_time": "2021-09-30T16:28:24.040Z"
   },
   {
    "duration": 155,
    "start_time": "2021-09-30T16:28:24.082Z"
   },
   {
    "duration": 4,
    "start_time": "2021-09-30T16:28:24.240Z"
   },
   {
    "duration": 2125,
    "start_time": "2021-09-30T16:28:24.247Z"
   },
   {
    "duration": 2563,
    "start_time": "2021-09-30T16:28:26.375Z"
   },
   {
    "duration": 21,
    "start_time": "2021-09-30T16:28:28.941Z"
   },
   {
    "duration": 87,
    "start_time": "2021-09-30T16:28:28.965Z"
   },
   {
    "duration": 38,
    "start_time": "2021-09-30T16:28:29.055Z"
   },
   {
    "duration": 55,
    "start_time": "2021-09-30T16:28:29.096Z"
   },
   {
    "duration": 2392,
    "start_time": "2021-09-30T16:28:29.154Z"
   },
   {
    "duration": 12,
    "start_time": "2021-09-30T16:28:31.549Z"
   },
   {
    "duration": 211,
    "start_time": "2021-09-30T16:28:50.814Z"
   },
   {
    "duration": 226,
    "start_time": "2021-09-30T16:32:20.414Z"
   },
   {
    "duration": 194,
    "start_time": "2021-09-30T16:32:47.084Z"
   },
   {
    "duration": 202,
    "start_time": "2021-09-30T16:49:38.552Z"
   },
   {
    "duration": 206,
    "start_time": "2021-09-30T16:50:56.244Z"
   },
   {
    "duration": 221,
    "start_time": "2021-09-30T16:51:20.577Z"
   },
   {
    "duration": 237,
    "start_time": "2021-09-30T16:52:36.158Z"
   },
   {
    "duration": 436,
    "start_time": "2021-09-30T16:52:57.521Z"
   },
   {
    "duration": 384,
    "start_time": "2021-09-30T16:54:10.187Z"
   },
   {
    "duration": 453,
    "start_time": "2021-09-30T16:54:58.405Z"
   },
   {
    "duration": 346,
    "start_time": "2021-09-30T16:57:18.367Z"
   },
   {
    "duration": 431,
    "start_time": "2021-09-30T16:58:45.883Z"
   },
   {
    "duration": 433,
    "start_time": "2021-09-30T16:59:00.000Z"
   },
   {
    "duration": 409,
    "start_time": "2021-09-30T16:59:09.766Z"
   },
   {
    "duration": 396,
    "start_time": "2021-09-30T16:59:53.018Z"
   },
   {
    "duration": 366,
    "start_time": "2021-09-30T17:00:31.759Z"
   },
   {
    "duration": 796,
    "start_time": "2021-09-30T17:01:16.356Z"
   },
   {
    "duration": 701,
    "start_time": "2021-09-30T17:01:27.893Z"
   },
   {
    "duration": 713,
    "start_time": "2021-09-30T17:02:05.922Z"
   },
   {
    "duration": 733,
    "start_time": "2021-09-30T17:04:58.506Z"
   },
   {
    "duration": 739,
    "start_time": "2021-09-30T17:06:33.463Z"
   },
   {
    "duration": 774,
    "start_time": "2021-09-30T17:08:30.156Z"
   },
   {
    "duration": 1115,
    "start_time": "2021-09-30T17:11:36.402Z"
   },
   {
    "duration": 799,
    "start_time": "2021-09-30T17:14:53.061Z"
   },
   {
    "duration": 762,
    "start_time": "2021-09-30T17:17:39.510Z"
   },
   {
    "duration": 729,
    "start_time": "2021-09-30T17:18:08.117Z"
   },
   {
    "duration": 772,
    "start_time": "2021-09-30T17:20:50.778Z"
   },
   {
    "duration": 257,
    "start_time": "2021-09-30T17:24:29.147Z"
   },
   {
    "duration": 365,
    "start_time": "2021-09-30T17:24:50.443Z"
   },
   {
    "duration": 443,
    "start_time": "2021-09-30T17:25:40.595Z"
   },
   {
    "duration": 401,
    "start_time": "2021-09-30T17:26:06.799Z"
   },
   {
    "duration": 579,
    "start_time": "2021-09-30T17:27:12.059Z"
   },
   {
    "duration": 736,
    "start_time": "2021-09-30T17:28:40.794Z"
   },
   {
    "duration": 11,
    "start_time": "2021-09-30T17:29:11.369Z"
   },
   {
    "duration": 84,
    "start_time": "2021-09-30T17:29:11.434Z"
   },
   {
    "duration": 48,
    "start_time": "2021-09-30T17:29:11.521Z"
   },
   {
    "duration": 54,
    "start_time": "2021-09-30T17:29:11.574Z"
   },
   {
    "duration": 29,
    "start_time": "2021-09-30T17:29:11.632Z"
   },
   {
    "duration": 24,
    "start_time": "2021-09-30T17:29:11.664Z"
   },
   {
    "duration": 44,
    "start_time": "2021-09-30T17:29:11.691Z"
   },
   {
    "duration": 29,
    "start_time": "2021-09-30T17:29:11.738Z"
   },
   {
    "duration": 69,
    "start_time": "2021-09-30T17:29:11.771Z"
   },
   {
    "duration": 553,
    "start_time": "2021-09-30T17:29:11.844Z"
   },
   {
    "duration": 89,
    "start_time": "2021-09-30T17:29:12.400Z"
   },
   {
    "duration": 63,
    "start_time": "2021-09-30T17:29:12.492Z"
   },
   {
    "duration": 137,
    "start_time": "2021-09-30T17:29:12.557Z"
   },
   {
    "duration": 4,
    "start_time": "2021-09-30T17:29:12.696Z"
   },
   {
    "duration": 2171,
    "start_time": "2021-09-30T17:29:12.703Z"
   },
   {
    "duration": 2401,
    "start_time": "2021-09-30T17:29:14.876Z"
   },
   {
    "duration": 20,
    "start_time": "2021-09-30T17:29:17.280Z"
   },
   {
    "duration": 53,
    "start_time": "2021-09-30T17:29:17.324Z"
   },
   {
    "duration": 65,
    "start_time": "2021-09-30T17:29:17.380Z"
   },
   {
    "duration": 37,
    "start_time": "2021-09-30T17:29:17.448Z"
   },
   {
    "duration": 2395,
    "start_time": "2021-09-30T17:29:17.488Z"
   },
   {
    "duration": 10,
    "start_time": "2021-09-30T17:29:19.885Z"
   },
   {
    "duration": 229,
    "start_time": "2021-09-30T17:29:19.898Z"
   },
   {
    "duration": 726,
    "start_time": "2021-09-30T17:29:20.131Z"
   },
   {
    "duration": 803,
    "start_time": "2021-09-30T17:30:00.776Z"
   },
   {
    "duration": 293,
    "start_time": "2021-09-30T18:07:15.829Z"
   },
   {
    "duration": 370,
    "start_time": "2021-09-30T18:08:19.740Z"
   },
   {
    "duration": 881,
    "start_time": "2021-09-30T18:08:52.197Z"
   },
   {
    "duration": 1138,
    "start_time": "2021-09-30T18:10:57.285Z"
   },
   {
    "duration": 821,
    "start_time": "2021-09-30T18:20:48.665Z"
   },
   {
    "duration": 712,
    "start_time": "2021-09-30T18:21:36.764Z"
   },
   {
    "duration": 753,
    "start_time": "2021-09-30T18:22:09.335Z"
   },
   {
    "duration": 694,
    "start_time": "2021-09-30T18:23:06.706Z"
   },
   {
    "duration": 745,
    "start_time": "2021-09-30T18:23:38.104Z"
   },
   {
    "duration": 883,
    "start_time": "2021-09-30T18:23:56.862Z"
   },
   {
    "duration": 735,
    "start_time": "2021-09-30T18:25:07.064Z"
   },
   {
    "duration": 12,
    "start_time": "2021-09-30T18:26:27.419Z"
   },
   {
    "duration": 10,
    "start_time": "2021-09-30T18:31:48.159Z"
   },
   {
    "duration": 299,
    "start_time": "2021-09-30T18:36:05.585Z"
   },
   {
    "duration": 16,
    "start_time": "2021-09-30T18:36:17.521Z"
   },
   {
    "duration": 15,
    "start_time": "2021-09-30T18:36:50.702Z"
   },
   {
    "duration": 16,
    "start_time": "2021-09-30T18:37:07.200Z"
   },
   {
    "duration": 19,
    "start_time": "2021-09-30T18:38:31.609Z"
   },
   {
    "duration": 19,
    "start_time": "2021-09-30T18:40:58.928Z"
   },
   {
    "duration": 5,
    "start_time": "2021-09-30T18:41:48.601Z"
   },
   {
    "duration": 97,
    "start_time": "2021-09-30T18:41:48.609Z"
   },
   {
    "duration": 46,
    "start_time": "2021-09-30T18:41:48.708Z"
   },
   {
    "duration": 20,
    "start_time": "2021-09-30T18:41:48.757Z"
   },
   {
    "duration": 22,
    "start_time": "2021-09-30T18:41:48.779Z"
   },
   {
    "duration": 44,
    "start_time": "2021-09-30T18:41:48.803Z"
   },
   {
    "duration": 16,
    "start_time": "2021-09-30T18:41:48.850Z"
   },
   {
    "duration": 21,
    "start_time": "2021-09-30T18:41:48.869Z"
   },
   {
    "duration": 60,
    "start_time": "2021-09-30T18:41:48.892Z"
   },
   {
    "duration": 74,
    "start_time": "2021-09-30T18:41:54.199Z"
   },
   {
    "duration": 5,
    "start_time": "2021-09-30T18:59:19.015Z"
   },
   {
    "duration": 105,
    "start_time": "2021-09-30T18:59:19.028Z"
   },
   {
    "duration": 45,
    "start_time": "2021-09-30T18:59:19.136Z"
   },
   {
    "duration": 41,
    "start_time": "2021-09-30T18:59:19.184Z"
   },
   {
    "duration": 30,
    "start_time": "2021-09-30T18:59:19.228Z"
   },
   {
    "duration": 22,
    "start_time": "2021-09-30T18:59:19.261Z"
   },
   {
    "duration": 43,
    "start_time": "2021-09-30T18:59:19.285Z"
   },
   {
    "duration": 16,
    "start_time": "2021-09-30T18:59:19.331Z"
   },
   {
    "duration": 30,
    "start_time": "2021-09-30T18:59:19.350Z"
   },
   {
    "duration": 99,
    "start_time": "2021-09-30T18:59:19.384Z"
   },
   {
    "duration": 558,
    "start_time": "2021-09-30T18:59:19.486Z"
   },
   {
    "duration": 93,
    "start_time": "2021-09-30T18:59:20.046Z"
   },
   {
    "duration": 41,
    "start_time": "2021-09-30T18:59:20.141Z"
   },
   {
    "duration": 146,
    "start_time": "2021-09-30T18:59:20.185Z"
   },
   {
    "duration": 6,
    "start_time": "2021-09-30T18:59:20.334Z"
   },
   {
    "duration": 2145,
    "start_time": "2021-09-30T18:59:20.343Z"
   },
   {
    "duration": 2200,
    "start_time": "2021-09-30T18:59:22.491Z"
   },
   {
    "duration": 31,
    "start_time": "2021-09-30T18:59:24.693Z"
   },
   {
    "duration": 48,
    "start_time": "2021-09-30T18:59:24.726Z"
   },
   {
    "duration": 62,
    "start_time": "2021-09-30T18:59:24.776Z"
   },
   {
    "duration": 34,
    "start_time": "2021-09-30T18:59:24.840Z"
   },
   {
    "duration": 2332,
    "start_time": "2021-09-30T18:59:24.877Z"
   },
   {
    "duration": 16,
    "start_time": "2021-09-30T18:59:27.212Z"
   },
   {
    "duration": 311,
    "start_time": "2021-09-30T18:59:27.231Z"
   },
   {
    "duration": 700,
    "start_time": "2021-09-30T18:59:27.544Z"
   },
   {
    "duration": 958,
    "start_time": "2021-09-30T18:59:28.247Z"
   },
   {
    "duration": 12,
    "start_time": "2021-09-30T18:59:29.223Z"
   },
   {
    "duration": 920,
    "start_time": "2021-09-30T18:59:29.239Z"
   },
   {
    "duration": 719,
    "start_time": "2021-09-30T18:59:30.162Z"
   },
   {
    "duration": 718,
    "start_time": "2021-09-30T18:59:30.884Z"
   },
   {
    "duration": 20,
    "start_time": "2021-09-30T18:59:31.604Z"
   },
   {
    "duration": 24,
    "start_time": "2021-09-30T18:59:31.627Z"
   },
   {
    "duration": 118,
    "start_time": "2021-09-30T18:59:31.654Z"
   },
   {
    "duration": -53,
    "start_time": "2021-09-30T18:59:31.828Z"
   },
   {
    "duration": -57,
    "start_time": "2021-09-30T18:59:31.834Z"
   },
   {
    "duration": 707,
    "start_time": "2021-09-30T19:00:45.024Z"
   },
   {
    "duration": 769,
    "start_time": "2021-09-30T19:01:33.783Z"
   },
   {
    "duration": 694,
    "start_time": "2021-09-30T19:12:23.870Z"
   },
   {
    "duration": 1652,
    "start_time": "2021-10-01T11:44:35.841Z"
   },
   {
    "duration": 130,
    "start_time": "2021-10-01T11:44:37.496Z"
   },
   {
    "duration": 43,
    "start_time": "2021-10-01T11:44:37.682Z"
   },
   {
    "duration": 55,
    "start_time": "2021-10-01T11:44:37.727Z"
   },
   {
    "duration": 19,
    "start_time": "2021-10-01T11:44:37.785Z"
   },
   {
    "duration": 30,
    "start_time": "2021-10-01T11:44:37.807Z"
   },
   {
    "duration": 50,
    "start_time": "2021-10-01T11:44:37.840Z"
   },
   {
    "duration": 17,
    "start_time": "2021-10-01T11:44:37.893Z"
   },
   {
    "duration": 31,
    "start_time": "2021-10-01T11:44:37.913Z"
   },
   {
    "duration": 91,
    "start_time": "2021-10-01T11:44:37.946Z"
   },
   {
    "duration": 556,
    "start_time": "2021-10-01T11:44:38.039Z"
   },
   {
    "duration": 92,
    "start_time": "2021-10-01T11:44:38.598Z"
   },
   {
    "duration": 44,
    "start_time": "2021-10-01T11:44:38.693Z"
   },
   {
    "duration": 148,
    "start_time": "2021-10-01T11:44:38.740Z"
   },
   {
    "duration": 4,
    "start_time": "2021-10-01T11:44:38.891Z"
   },
   {
    "duration": 1930,
    "start_time": "2021-10-01T11:44:38.898Z"
   },
   {
    "duration": 2342,
    "start_time": "2021-10-01T11:44:40.830Z"
   },
   {
    "duration": 22,
    "start_time": "2021-10-01T11:44:43.175Z"
   },
   {
    "duration": 48,
    "start_time": "2021-10-01T11:44:43.199Z"
   },
   {
    "duration": 64,
    "start_time": "2021-10-01T11:44:43.249Z"
   },
   {
    "duration": 32,
    "start_time": "2021-10-01T11:44:43.315Z"
   },
   {
    "duration": 2189,
    "start_time": "2021-10-01T11:44:43.349Z"
   },
   {
    "duration": 11,
    "start_time": "2021-10-01T11:44:45.544Z"
   },
   {
    "duration": 226,
    "start_time": "2021-10-01T11:44:45.558Z"
   },
   {
    "duration": 691,
    "start_time": "2021-10-01T11:44:45.787Z"
   },
   {
    "duration": 850,
    "start_time": "2021-10-01T11:44:46.483Z"
   },
   {
    "duration": 14,
    "start_time": "2021-10-01T11:44:47.336Z"
   },
   {
    "duration": 943,
    "start_time": "2021-10-01T11:44:47.383Z"
   },
   {
    "duration": 701,
    "start_time": "2021-10-01T11:44:48.329Z"
   },
   {
    "duration": 679,
    "start_time": "2021-10-01T11:44:49.032Z"
   },
   {
    "duration": 10,
    "start_time": "2021-10-01T11:44:49.713Z"
   },
   {
    "duration": 27,
    "start_time": "2021-10-01T11:44:49.725Z"
   },
   {
    "duration": 136,
    "start_time": "2021-10-01T11:44:49.754Z"
   },
   {
    "duration": -4440,
    "start_time": "2021-10-01T11:44:54.333Z"
   },
   {
    "duration": -4462,
    "start_time": "2021-10-01T11:44:54.357Z"
   },
   {
    "duration": 573,
    "start_time": "2021-10-01T11:45:42.160Z"
   },
   {
    "duration": 647,
    "start_time": "2021-10-01T11:45:51.727Z"
   },
   {
    "duration": 707,
    "start_time": "2021-10-01T11:49:02.583Z"
   },
   {
    "duration": 125,
    "start_time": "2021-10-01T11:51:54.625Z"
   },
   {
    "duration": 18,
    "start_time": "2021-10-01T11:52:14.858Z"
   },
   {
    "duration": 17,
    "start_time": "2021-10-01T11:52:22.931Z"
   },
   {
    "duration": 1221,
    "start_time": "2021-10-01T12:20:36.259Z"
   },
   {
    "duration": 74,
    "start_time": "2021-10-01T12:20:37.483Z"
   },
   {
    "duration": 36,
    "start_time": "2021-10-01T12:20:37.560Z"
   },
   {
    "duration": 10,
    "start_time": "2021-10-01T12:20:37.611Z"
   },
   {
    "duration": 20,
    "start_time": "2021-10-01T12:20:37.623Z"
   },
   {
    "duration": 53,
    "start_time": "2021-10-01T12:20:37.646Z"
   },
   {
    "duration": 49,
    "start_time": "2021-10-01T12:20:37.717Z"
   },
   {
    "duration": 20,
    "start_time": "2021-10-01T12:20:37.773Z"
   },
   {
    "duration": 40,
    "start_time": "2021-10-01T12:20:37.801Z"
   },
   {
    "duration": 79,
    "start_time": "2021-10-01T12:20:37.847Z"
   },
   {
    "duration": 543,
    "start_time": "2021-10-01T12:20:37.933Z"
   },
   {
    "duration": 58,
    "start_time": "2021-10-01T12:20:38.477Z"
   },
   {
    "duration": 66,
    "start_time": "2021-10-01T12:20:38.537Z"
   },
   {
    "duration": 86,
    "start_time": "2021-10-01T12:20:38.604Z"
   },
   {
    "duration": 4,
    "start_time": "2021-10-01T12:20:38.692Z"
   },
   {
    "duration": 1430,
    "start_time": "2021-10-01T12:20:38.699Z"
   },
   {
    "duration": 1641,
    "start_time": "2021-10-01T12:20:40.130Z"
   },
   {
    "duration": 27,
    "start_time": "2021-10-01T12:20:41.773Z"
   },
   {
    "duration": 35,
    "start_time": "2021-10-01T12:20:41.802Z"
   },
   {
    "duration": 40,
    "start_time": "2021-10-01T12:20:41.839Z"
   },
   {
    "duration": 25,
    "start_time": "2021-10-01T12:20:41.883Z"
   },
   {
    "duration": 1630,
    "start_time": "2021-10-01T12:20:41.910Z"
   },
   {
    "duration": 6,
    "start_time": "2021-10-01T12:20:43.544Z"
   },
   {
    "duration": 148,
    "start_time": "2021-10-01T12:20:43.552Z"
   },
   {
    "duration": 499,
    "start_time": "2021-10-01T12:20:43.702Z"
   },
   {
    "duration": 475,
    "start_time": "2021-10-01T12:20:44.203Z"
   },
   {
    "duration": 742,
    "start_time": "2021-10-01T12:20:44.680Z"
   },
   {
    "duration": 10,
    "start_time": "2021-10-01T12:20:45.423Z"
   },
   {
    "duration": 878,
    "start_time": "2021-10-01T12:20:45.434Z"
   },
   {
    "duration": 467,
    "start_time": "2021-10-01T12:20:46.314Z"
   },
   {
    "duration": 506,
    "start_time": "2021-10-01T12:20:46.783Z"
   },
   {
    "duration": 10,
    "start_time": "2021-10-01T12:20:47.292Z"
   },
   {
    "duration": 18,
    "start_time": "2021-10-01T12:20:47.304Z"
   },
   {
    "duration": 6,
    "start_time": "2021-10-01T12:20:47.324Z"
   },
   {
    "duration": 570,
    "start_time": "2021-10-01T12:20:53.537Z"
   },
   {
    "duration": 4,
    "start_time": "2021-10-01T12:34:47.855Z"
   },
   {
    "duration": 71,
    "start_time": "2021-10-01T12:34:47.861Z"
   },
   {
    "duration": 53,
    "start_time": "2021-10-01T12:34:47.934Z"
   },
   {
    "duration": 13,
    "start_time": "2021-10-01T12:34:47.989Z"
   },
   {
    "duration": 14,
    "start_time": "2021-10-01T12:34:48.004Z"
   },
   {
    "duration": 20,
    "start_time": "2021-10-01T12:34:48.020Z"
   },
   {
    "duration": 51,
    "start_time": "2021-10-01T12:34:48.042Z"
   },
   {
    "duration": 17,
    "start_time": "2021-10-01T12:34:48.096Z"
   },
   {
    "duration": 28,
    "start_time": "2021-10-01T12:34:48.116Z"
   },
   {
    "duration": 86,
    "start_time": "2021-10-01T12:34:48.146Z"
   },
   {
    "duration": 389,
    "start_time": "2021-10-01T12:34:48.234Z"
   },
   {
    "duration": 76,
    "start_time": "2021-10-01T12:34:48.625Z"
   },
   {
    "duration": 29,
    "start_time": "2021-10-01T12:34:48.703Z"
   },
   {
    "duration": 103,
    "start_time": "2021-10-01T12:34:48.734Z"
   },
   {
    "duration": 3,
    "start_time": "2021-10-01T12:34:48.839Z"
   },
   {
    "duration": 1367,
    "start_time": "2021-10-01T12:34:48.844Z"
   },
   {
    "duration": 1667,
    "start_time": "2021-10-01T12:34:50.213Z"
   },
   {
    "duration": 15,
    "start_time": "2021-10-01T12:34:51.882Z"
   },
   {
    "duration": 43,
    "start_time": "2021-10-01T12:34:51.900Z"
   },
   {
    "duration": 63,
    "start_time": "2021-10-01T12:34:51.945Z"
   },
   {
    "duration": 24,
    "start_time": "2021-10-01T12:34:52.010Z"
   },
   {
    "duration": 1652,
    "start_time": "2021-10-01T12:34:52.036Z"
   },
   {
    "duration": 8,
    "start_time": "2021-10-01T12:34:53.690Z"
   },
   {
    "duration": 154,
    "start_time": "2021-10-01T12:34:53.700Z"
   },
   {
    "duration": 728,
    "start_time": "2021-10-01T12:34:53.856Z"
   },
   {
    "duration": 444,
    "start_time": "2021-10-01T12:34:54.587Z"
   },
   {
    "duration": 950,
    "start_time": "2021-10-01T12:34:55.033Z"
   },
   {
    "duration": 15,
    "start_time": "2021-10-01T12:34:55.985Z"
   },
   {
    "duration": 621,
    "start_time": "2021-10-01T12:34:56.002Z"
   },
   {
    "duration": 477,
    "start_time": "2021-10-01T12:34:56.625Z"
   },
   {
    "duration": 492,
    "start_time": "2021-10-01T12:34:57.104Z"
   },
   {
    "duration": 8,
    "start_time": "2021-10-01T12:34:57.598Z"
   },
   {
    "duration": 27,
    "start_time": "2021-10-01T12:34:57.608Z"
   },
   {
    "duration": 12,
    "start_time": "2021-10-01T12:34:57.637Z"
   },
   {
    "duration": 598,
    "start_time": "2021-10-01T12:34:57.651Z"
   },
   {
    "duration": 28,
    "start_time": "2021-10-01T12:34:58.251Z"
   },
   {
    "duration": 16,
    "start_time": "2021-10-01T12:34:58.285Z"
   },
   {
    "duration": 14,
    "start_time": "2021-10-01T12:49:17.054Z"
   },
   {
    "duration": 20,
    "start_time": "2021-10-01T12:52:46.699Z"
   },
   {
    "duration": 15,
    "start_time": "2021-10-01T12:53:14.826Z"
   },
   {
    "duration": 5,
    "start_time": "2021-10-01T12:57:48.297Z"
   },
   {
    "duration": 89,
    "start_time": "2021-10-01T12:57:48.304Z"
   },
   {
    "duration": 42,
    "start_time": "2021-10-01T12:57:48.395Z"
   },
   {
    "duration": 11,
    "start_time": "2021-10-01T12:57:48.439Z"
   },
   {
    "duration": 20,
    "start_time": "2021-10-01T12:57:48.478Z"
   },
   {
    "duration": 16,
    "start_time": "2021-10-01T12:57:48.500Z"
   },
   {
    "duration": 12,
    "start_time": "2021-10-01T12:57:48.519Z"
   },
   {
    "duration": 48,
    "start_time": "2021-10-01T12:57:48.533Z"
   },
   {
    "duration": 22,
    "start_time": "2021-10-01T12:57:48.583Z"
   },
   {
    "duration": 44,
    "start_time": "2021-10-01T12:57:48.607Z"
   },
   {
    "duration": 355,
    "start_time": "2021-10-01T12:57:48.677Z"
   },
   {
    "duration": 67,
    "start_time": "2021-10-01T12:57:49.035Z"
   },
   {
    "duration": 33,
    "start_time": "2021-10-01T12:57:49.105Z"
   },
   {
    "duration": 100,
    "start_time": "2021-10-01T12:57:49.140Z"
   },
   {
    "duration": 4,
    "start_time": "2021-10-01T12:57:49.242Z"
   },
   {
    "duration": 1310,
    "start_time": "2021-10-01T12:57:49.248Z"
   },
   {
    "duration": 1507,
    "start_time": "2021-10-01T12:57:50.560Z"
   },
   {
    "duration": 13,
    "start_time": "2021-10-01T12:57:52.068Z"
   },
   {
    "duration": 35,
    "start_time": "2021-10-01T12:57:52.084Z"
   },
   {
    "duration": 55,
    "start_time": "2021-10-01T12:57:52.121Z"
   },
   {
    "duration": 22,
    "start_time": "2021-10-01T12:57:52.179Z"
   },
   {
    "duration": 1643,
    "start_time": "2021-10-01T12:57:52.203Z"
   },
   {
    "duration": 6,
    "start_time": "2021-10-01T12:57:53.848Z"
   },
   {
    "duration": 139,
    "start_time": "2021-10-01T12:57:53.856Z"
   },
   {
    "duration": 448,
    "start_time": "2021-10-01T12:57:53.997Z"
   },
   {
    "duration": 546,
    "start_time": "2021-10-01T12:57:54.447Z"
   },
   {
    "duration": 659,
    "start_time": "2021-10-01T12:57:54.995Z"
   },
   {
    "duration": 25,
    "start_time": "2021-10-01T12:57:55.656Z"
   },
   {
    "duration": 600,
    "start_time": "2021-10-01T12:57:55.683Z"
   },
   {
    "duration": 446,
    "start_time": "2021-10-01T12:57:56.285Z"
   },
   {
    "duration": 456,
    "start_time": "2021-10-01T12:57:56.733Z"
   },
   {
    "duration": 8,
    "start_time": "2021-10-01T12:57:57.191Z"
   },
   {
    "duration": 13,
    "start_time": "2021-10-01T12:57:57.201Z"
   },
   {
    "duration": 5,
    "start_time": "2021-10-01T12:57:57.216Z"
   },
   {
    "duration": 578,
    "start_time": "2021-10-01T12:57:57.223Z"
   },
   {
    "duration": 15,
    "start_time": "2021-10-01T12:57:57.803Z"
   },
   {
    "duration": 12,
    "start_time": "2021-10-01T12:57:57.820Z"
   },
   {
    "duration": 4,
    "start_time": "2021-10-01T12:59:26.804Z"
   },
   {
    "duration": 81,
    "start_time": "2021-10-01T12:59:26.809Z"
   },
   {
    "duration": 29,
    "start_time": "2021-10-01T12:59:26.893Z"
   },
   {
    "duration": 10,
    "start_time": "2021-10-01T12:59:26.924Z"
   },
   {
    "duration": 49,
    "start_time": "2021-10-01T12:59:26.936Z"
   },
   {
    "duration": 29,
    "start_time": "2021-10-01T12:59:26.987Z"
   },
   {
    "duration": 15,
    "start_time": "2021-10-01T12:59:27.019Z"
   },
   {
    "duration": 14,
    "start_time": "2021-10-01T12:59:27.036Z"
   },
   {
    "duration": 41,
    "start_time": "2021-10-01T12:59:27.053Z"
   },
   {
    "duration": 43,
    "start_time": "2021-10-01T12:59:27.096Z"
   },
   {
    "duration": 468,
    "start_time": "2021-10-01T12:59:27.140Z"
   },
   {
    "duration": 53,
    "start_time": "2021-10-01T12:59:27.610Z"
   },
   {
    "duration": 35,
    "start_time": "2021-10-01T12:59:27.678Z"
   },
   {
    "duration": 101,
    "start_time": "2021-10-01T12:59:27.715Z"
   },
   {
    "duration": 3,
    "start_time": "2021-10-01T12:59:27.818Z"
   },
   {
    "duration": 1372,
    "start_time": "2021-10-01T12:59:27.823Z"
   },
   {
    "duration": 1585,
    "start_time": "2021-10-01T12:59:29.197Z"
   },
   {
    "duration": 15,
    "start_time": "2021-10-01T12:59:30.789Z"
   },
   {
    "duration": 37,
    "start_time": "2021-10-01T12:59:30.807Z"
   },
   {
    "duration": 55,
    "start_time": "2021-10-01T12:59:30.846Z"
   },
   {
    "duration": 23,
    "start_time": "2021-10-01T12:59:30.903Z"
   },
   {
    "duration": 1561,
    "start_time": "2021-10-01T12:59:30.929Z"
   },
   {
    "duration": 7,
    "start_time": "2021-10-01T12:59:32.492Z"
   },
   {
    "duration": 147,
    "start_time": "2021-10-01T12:59:32.501Z"
   },
   {
    "duration": 463,
    "start_time": "2021-10-01T12:59:32.650Z"
   },
   {
    "duration": 434,
    "start_time": "2021-10-01T12:59:33.115Z"
   },
   {
    "duration": 844,
    "start_time": "2021-10-01T12:59:33.551Z"
   },
   {
    "duration": 11,
    "start_time": "2021-10-01T12:59:34.397Z"
   },
   {
    "duration": 630,
    "start_time": "2021-10-01T12:59:34.409Z"
   },
   {
    "duration": 482,
    "start_time": "2021-10-01T12:59:35.041Z"
   },
   {
    "duration": 483,
    "start_time": "2021-10-01T12:59:35.525Z"
   },
   {
    "duration": 11,
    "start_time": "2021-10-01T12:59:36.010Z"
   },
   {
    "duration": 13,
    "start_time": "2021-10-01T12:59:36.024Z"
   },
   {
    "duration": 6,
    "start_time": "2021-10-01T12:59:36.040Z"
   },
   {
    "duration": 714,
    "start_time": "2021-10-01T12:59:36.048Z"
   },
   {
    "duration": 24,
    "start_time": "2021-10-01T12:59:36.764Z"
   },
   {
    "duration": 15,
    "start_time": "2021-10-01T12:59:36.790Z"
   }
  ],
  "celltoolbar": "Вложения",
  "kernelspec": {
   "display_name": "Python 3",
   "language": "python",
   "name": "python3"
  },
  "language_info": {
   "codemirror_mode": {
    "name": "ipython",
    "version": 3
   },
   "file_extension": ".py",
   "mimetype": "text/x-python",
   "name": "python",
   "nbconvert_exporter": "python",
   "pygments_lexer": "ipython3",
   "version": "3.8.8"
  },
  "toc": {
   "base_numbering": 1,
   "nav_menu": {},
   "number_sections": true,
   "sideBar": true,
   "skip_h1_title": true,
   "title_cell": "Table of Contents",
   "title_sidebar": "Contents",
   "toc_cell": false,
   "toc_position": {
    "height": "calc(100% - 180px)",
    "left": "10px",
    "top": "150px",
    "width": "302px"
   },
   "toc_section_display": true,
   "toc_window_display": true
  }
 },
 "nbformat": 4,
 "nbformat_minor": 2
}
