{
 "cells": [
  {
   "cell_type": "markdown",
   "metadata": {},
   "source": [
    "#  Задание"
   ]
  },
  {
   "cell_type": "markdown",
   "metadata": {},
   "source": [
    "Собраны исторические данные о заказах такси в аэропортах. Чтобы привлекать больше водителей в период пиковой нагрузки, нужно спрогнозировать количество заказов такси на следующий час. Необходимо построить модель для такого предсказания, чтобы избежать ситуации с недостаком или избыточностью машин в аэропорте.\n",
    "\n",
    "Значение метрики *RMSE* на тестовой выборке должно быть не больше 48.\n",
    "\n"
   ]
  },
  {
   "cell_type": "markdown",
   "metadata": {},
   "source": [
    "## Подготовка"
   ]
  },
  {
   "cell_type": "code",
   "execution_count": 245,
   "metadata": {},
   "outputs": [],
   "source": [
    "# импорты и библиотеки\n",
    "import pandas as pd\n",
    "from statsmodels.tsa.seasonal import seasonal_decompose\n",
    "import matplotlib.pyplot as plt\n",
    "from sklearn.model_selection import train_test_split\n",
    "from sklearn.linear_model import LinearRegression\n",
    "from sklearn.metrics import mean_absolute_error\n",
    "from sklearn.metrics import mean_squared_error\n",
    "from sklearn.model_selection import TimeSeriesSplit\n",
    "from sklearn.tree import DecisionTreeRegressor"
   ]
  },
  {
   "cell_type": "markdown",
   "metadata": {},
   "source": [
    "Прочитаем данные, установим время как индекс и проверим на монотонность"
   ]
  },
  {
   "cell_type": "code",
   "execution_count": 246,
   "metadata": {
    "scrolled": false
   },
   "outputs": [
    {
     "name": "stdout",
     "output_type": "stream",
     "text": [
      "<class 'pandas.core.frame.DataFrame'>\n",
      "DatetimeIndex: 26496 entries, 2018-03-01 00:00:00 to 2018-08-31 23:50:00\n",
      "Data columns (total 1 columns):\n",
      "num_orders    26496 non-null int64\n",
      "dtypes: int64(1)\n",
      "memory usage: 414.0 KB\n"
     ]
    },
    {
     "data": {
      "text/plain": [
       "True"
      ]
     },
     "metadata": {},
     "output_type": "display_data"
    },
    {
     "data": {
      "text/html": [
       "<div>\n",
       "<style scoped>\n",
       "    .dataframe tbody tr th:only-of-type {\n",
       "        vertical-align: middle;\n",
       "    }\n",
       "\n",
       "    .dataframe tbody tr th {\n",
       "        vertical-align: top;\n",
       "    }\n",
       "\n",
       "    .dataframe thead th {\n",
       "        text-align: right;\n",
       "    }\n",
       "</style>\n",
       "<table border=\"1\" class=\"dataframe\">\n",
       "  <thead>\n",
       "    <tr style=\"text-align: right;\">\n",
       "      <th></th>\n",
       "      <th>num_orders</th>\n",
       "    </tr>\n",
       "    <tr>\n",
       "      <th>datetime</th>\n",
       "      <th></th>\n",
       "    </tr>\n",
       "  </thead>\n",
       "  <tbody>\n",
       "    <tr>\n",
       "      <td>2018-03-01 00:00:00</td>\n",
       "      <td>9</td>\n",
       "    </tr>\n",
       "    <tr>\n",
       "      <td>2018-03-01 00:10:00</td>\n",
       "      <td>14</td>\n",
       "    </tr>\n",
       "    <tr>\n",
       "      <td>2018-03-01 00:20:00</td>\n",
       "      <td>28</td>\n",
       "    </tr>\n",
       "    <tr>\n",
       "      <td>2018-03-01 00:30:00</td>\n",
       "      <td>20</td>\n",
       "    </tr>\n",
       "    <tr>\n",
       "      <td>2018-03-01 00:40:00</td>\n",
       "      <td>32</td>\n",
       "    </tr>\n",
       "    <tr>\n",
       "      <td>2018-03-01 00:50:00</td>\n",
       "      <td>21</td>\n",
       "    </tr>\n",
       "    <tr>\n",
       "      <td>2018-03-01 01:00:00</td>\n",
       "      <td>7</td>\n",
       "    </tr>\n",
       "    <tr>\n",
       "      <td>2018-03-01 01:10:00</td>\n",
       "      <td>5</td>\n",
       "    </tr>\n",
       "    <tr>\n",
       "      <td>2018-03-01 01:20:00</td>\n",
       "      <td>17</td>\n",
       "    </tr>\n",
       "    <tr>\n",
       "      <td>2018-03-01 01:30:00</td>\n",
       "      <td>12</td>\n",
       "    </tr>\n",
       "    <tr>\n",
       "      <td>2018-03-01 01:40:00</td>\n",
       "      <td>19</td>\n",
       "    </tr>\n",
       "    <tr>\n",
       "      <td>2018-03-01 01:50:00</td>\n",
       "      <td>25</td>\n",
       "    </tr>\n",
       "    <tr>\n",
       "      <td>2018-03-01 02:00:00</td>\n",
       "      <td>22</td>\n",
       "    </tr>\n",
       "    <tr>\n",
       "      <td>2018-03-01 02:10:00</td>\n",
       "      <td>12</td>\n",
       "    </tr>\n",
       "    <tr>\n",
       "      <td>2018-03-01 02:20:00</td>\n",
       "      <td>19</td>\n",
       "    </tr>\n",
       "    <tr>\n",
       "      <td>2018-03-01 02:30:00</td>\n",
       "      <td>8</td>\n",
       "    </tr>\n",
       "    <tr>\n",
       "      <td>2018-03-01 02:40:00</td>\n",
       "      <td>6</td>\n",
       "    </tr>\n",
       "    <tr>\n",
       "      <td>2018-03-01 02:50:00</td>\n",
       "      <td>4</td>\n",
       "    </tr>\n",
       "    <tr>\n",
       "      <td>2018-03-01 03:00:00</td>\n",
       "      <td>8</td>\n",
       "    </tr>\n",
       "    <tr>\n",
       "      <td>2018-03-01 03:10:00</td>\n",
       "      <td>17</td>\n",
       "    </tr>\n",
       "  </tbody>\n",
       "</table>\n",
       "</div>"
      ],
      "text/plain": [
       "                     num_orders\n",
       "datetime                       \n",
       "2018-03-01 00:00:00           9\n",
       "2018-03-01 00:10:00          14\n",
       "2018-03-01 00:20:00          28\n",
       "2018-03-01 00:30:00          20\n",
       "2018-03-01 00:40:00          32\n",
       "2018-03-01 00:50:00          21\n",
       "2018-03-01 01:00:00           7\n",
       "2018-03-01 01:10:00           5\n",
       "2018-03-01 01:20:00          17\n",
       "2018-03-01 01:30:00          12\n",
       "2018-03-01 01:40:00          19\n",
       "2018-03-01 01:50:00          25\n",
       "2018-03-01 02:00:00          22\n",
       "2018-03-01 02:10:00          12\n",
       "2018-03-01 02:20:00          19\n",
       "2018-03-01 02:30:00           8\n",
       "2018-03-01 02:40:00           6\n",
       "2018-03-01 02:50:00           4\n",
       "2018-03-01 03:00:00           8\n",
       "2018-03-01 03:10:00          17"
      ]
     },
     "metadata": {},
     "output_type": "display_data"
    },
    {
     "data": {
      "text/html": [
       "<div>\n",
       "<style scoped>\n",
       "    .dataframe tbody tr th:only-of-type {\n",
       "        vertical-align: middle;\n",
       "    }\n",
       "\n",
       "    .dataframe tbody tr th {\n",
       "        vertical-align: top;\n",
       "    }\n",
       "\n",
       "    .dataframe thead th {\n",
       "        text-align: right;\n",
       "    }\n",
       "</style>\n",
       "<table border=\"1\" class=\"dataframe\">\n",
       "  <thead>\n",
       "    <tr style=\"text-align: right;\">\n",
       "      <th></th>\n",
       "      <th>num_orders</th>\n",
       "    </tr>\n",
       "    <tr>\n",
       "      <th>datetime</th>\n",
       "      <th></th>\n",
       "    </tr>\n",
       "  </thead>\n",
       "  <tbody>\n",
       "    <tr>\n",
       "      <td>2018-08-31 20:40:00</td>\n",
       "      <td>16</td>\n",
       "    </tr>\n",
       "    <tr>\n",
       "      <td>2018-08-31 20:50:00</td>\n",
       "      <td>18</td>\n",
       "    </tr>\n",
       "    <tr>\n",
       "      <td>2018-08-31 21:00:00</td>\n",
       "      <td>24</td>\n",
       "    </tr>\n",
       "    <tr>\n",
       "      <td>2018-08-31 21:10:00</td>\n",
       "      <td>29</td>\n",
       "    </tr>\n",
       "    <tr>\n",
       "      <td>2018-08-31 21:20:00</td>\n",
       "      <td>23</td>\n",
       "    </tr>\n",
       "    <tr>\n",
       "      <td>2018-08-31 21:30:00</td>\n",
       "      <td>27</td>\n",
       "    </tr>\n",
       "    <tr>\n",
       "      <td>2018-08-31 21:40:00</td>\n",
       "      <td>29</td>\n",
       "    </tr>\n",
       "    <tr>\n",
       "      <td>2018-08-31 21:50:00</td>\n",
       "      <td>27</td>\n",
       "    </tr>\n",
       "    <tr>\n",
       "      <td>2018-08-31 22:00:00</td>\n",
       "      <td>34</td>\n",
       "    </tr>\n",
       "    <tr>\n",
       "      <td>2018-08-31 22:10:00</td>\n",
       "      <td>32</td>\n",
       "    </tr>\n",
       "    <tr>\n",
       "      <td>2018-08-31 22:20:00</td>\n",
       "      <td>48</td>\n",
       "    </tr>\n",
       "    <tr>\n",
       "      <td>2018-08-31 22:30:00</td>\n",
       "      <td>41</td>\n",
       "    </tr>\n",
       "    <tr>\n",
       "      <td>2018-08-31 22:40:00</td>\n",
       "      <td>34</td>\n",
       "    </tr>\n",
       "    <tr>\n",
       "      <td>2018-08-31 22:50:00</td>\n",
       "      <td>34</td>\n",
       "    </tr>\n",
       "    <tr>\n",
       "      <td>2018-08-31 23:00:00</td>\n",
       "      <td>30</td>\n",
       "    </tr>\n",
       "    <tr>\n",
       "      <td>2018-08-31 23:10:00</td>\n",
       "      <td>32</td>\n",
       "    </tr>\n",
       "    <tr>\n",
       "      <td>2018-08-31 23:20:00</td>\n",
       "      <td>24</td>\n",
       "    </tr>\n",
       "    <tr>\n",
       "      <td>2018-08-31 23:30:00</td>\n",
       "      <td>27</td>\n",
       "    </tr>\n",
       "    <tr>\n",
       "      <td>2018-08-31 23:40:00</td>\n",
       "      <td>39</td>\n",
       "    </tr>\n",
       "    <tr>\n",
       "      <td>2018-08-31 23:50:00</td>\n",
       "      <td>53</td>\n",
       "    </tr>\n",
       "  </tbody>\n",
       "</table>\n",
       "</div>"
      ],
      "text/plain": [
       "                     num_orders\n",
       "datetime                       \n",
       "2018-08-31 20:40:00          16\n",
       "2018-08-31 20:50:00          18\n",
       "2018-08-31 21:00:00          24\n",
       "2018-08-31 21:10:00          29\n",
       "2018-08-31 21:20:00          23\n",
       "2018-08-31 21:30:00          27\n",
       "2018-08-31 21:40:00          29\n",
       "2018-08-31 21:50:00          27\n",
       "2018-08-31 22:00:00          34\n",
       "2018-08-31 22:10:00          32\n",
       "2018-08-31 22:20:00          48\n",
       "2018-08-31 22:30:00          41\n",
       "2018-08-31 22:40:00          34\n",
       "2018-08-31 22:50:00          34\n",
       "2018-08-31 23:00:00          30\n",
       "2018-08-31 23:10:00          32\n",
       "2018-08-31 23:20:00          24\n",
       "2018-08-31 23:30:00          27\n",
       "2018-08-31 23:40:00          39\n",
       "2018-08-31 23:50:00          53"
      ]
     },
     "metadata": {},
     "output_type": "display_data"
    }
   ],
   "source": [
    "data = pd.read_csv('/datasets/taxi.csv', parse_dates = [0], index_col = 'datetime')\n",
    "data.info()\n",
    "display(data.index.is_monotonic)\n",
    "display(data.head(20))\n",
    "display(data.tail(20))"
   ]
  },
  {
   "cell_type": "markdown",
   "metadata": {},
   "source": [
    "### Итог подготовки данных\n",
    "\n",
    "Имеем массив данных в виде временного радя с шагом 10 минут за период с 01 марта 2018 по 31 августа 2018 года. Всего 26496 полных записей без пропусков"
   ]
  },
  {
   "cell_type": "markdown",
   "metadata": {},
   "source": [
    "## Анализ\n",
    "\n",
    "Преобразуем данные к почасовым и посмотрим график загрузки"
   ]
  },
  {
   "cell_type": "code",
   "execution_count": 247,
   "metadata": {
    "scrolled": true
   },
   "outputs": [
    {
     "name": "stdout",
     "output_type": "stream",
     "text": [
      "<class 'pandas.core.frame.DataFrame'>\n",
      "DatetimeIndex: 4416 entries, 2018-03-01 00:00:00 to 2018-08-31 23:00:00\n",
      "Freq: H\n",
      "Data columns (total 1 columns):\n",
      "num_orders    4416 non-null int64\n",
      "dtypes: int64(1)\n",
      "memory usage: 69.0 KB\n"
     ]
    },
    {
     "data": {
      "text/plain": [
       "<matplotlib.axes._subplots.AxesSubplot at 0x7fb3e2942c10>"
      ]
     },
     "execution_count": 247,
     "metadata": {},
     "output_type": "execute_result"
    },
    {
     "data": {
      "image/png": "[encoded data removed]",
      "text/plain": [
       "<Figure size 432x288 with 1 Axes>"
      ]
     },
     "metadata": {
      "needs_background": "light"
     },
     "output_type": "display_data"
    }
   ],
   "source": [
    "data = data.resample('1H').sum()\n",
    "data.info()\n",
    "data.plot()"
   ]
  },
  {
   "cell_type": "markdown",
   "metadata": {},
   "source": [
    "Какие-то страшные выбросы в августе, надо посмотреть"
   ]
  },
  {
   "cell_type": "code",
   "execution_count": 248,
   "metadata": {
    "scrolled": true
   },
   "outputs": [
    {
     "data": {
      "text/plain": [
       "<matplotlib.axes._subplots.AxesSubplot at 0x7fb3e27f0510>"
      ]
     },
     "execution_count": 248,
     "metadata": {},
     "output_type": "execute_result"
    },
    {
     "data": {
      "image/png": "[encoded data removed]",
      "text/plain": [
       "<Figure size 432x288 with 1 Axes>"
      ]
     },
     "metadata": {
      "needs_background": "light"
     },
     "output_type": "display_data"
    }
   ],
   "source": [
    "data['2018-08-01':'2018-08-31'].plot()"
   ]
  },
  {
   "cell_type": "markdown",
   "metadata": {},
   "source": [
    "13, 20, 27 августа! Похоже на недельные пики в отпускной сезон. \n",
    "\n",
    "Проверим на тренды и сезонность взяв за единицу 1 день."
   ]
  },
  {
   "cell_type": "code",
   "execution_count": null,
   "metadata": {},
   "outputs": [],
   "source": []
  },
  {
   "cell_type": "code",
   "execution_count": 249,
   "metadata": {
    "scrolled": true
   },
   "outputs": [
    {
     "data": {
      "image/png": "[encoded data removed]",
      "text/plain": [
       "<Figure size 432x576 with 3 Axes>"
      ]
     },
     "metadata": {
      "needs_background": "light"
     },
     "output_type": "display_data"
    }
   ],
   "source": [
    "decomposed = seasonal_decompose(data.resample('1D').sum())\n",
    "\n",
    "plt.figure(figsize=(6, 8))\n",
    "plt.subplot(311)\n",
    "\n",
    "decomposed.trend.plot(ax=plt.gca())\n",
    "plt.title('Trend')\n",
    "plt.subplot(312)\n",
    "decomposed.seasonal.plot(ax=plt.gca()) \n",
    "plt.title('Seasonality')\n",
    "plt.subplot(313)\n",
    "decomposed.resid.plot(ax=plt.gca()) \n",
    "plt.title('Residuals')\n",
    "plt.tight_layout()"
   ]
  },
  {
   "cell_type": "markdown",
   "metadata": {},
   "source": [
    "Увеличим масштаб графика сезонности за один месяц, например, август"
   ]
  },
  {
   "cell_type": "code",
   "execution_count": 250,
   "metadata": {
    "scrolled": true
   },
   "outputs": [
    {
     "data": {
      "text/plain": [
       "<matplotlib.axes._subplots.AxesSubplot at 0x7fb3e05f0450>"
      ]
     },
     "execution_count": 250,
     "metadata": {},
     "output_type": "execute_result"
    },
    {
     "data": {
      "image/png": "[encoded data removed]",
      "text/plain": [
       "<Figure size 432x288 with 1 Axes>"
      ]
     },
     "metadata": {
      "needs_background": "light"
     },
     "output_type": "display_data"
    }
   ],
   "source": [
    "decomposed.seasonal['2018-08-01':'2018-08-31'].plot(ax=plt.gca()) \n"
   ]
  },
  {
   "cell_type": "markdown",
   "metadata": {},
   "source": [
    "Ну да! Пятница все улетают, понедельник возврашаются. А во вторник таксисты могут брать выходной или ездить в других частях города.\n",
    "\n",
    "### Итоги анализа\n",
    "\n",
    "Проанализировав временной ряд по суммарному количеству машин в день,  можно сделать следующие выводы:\n",
    "- имеется растущий тренд запроса количества машин от марта к августу\n",
    "- имеется ярко выраженая тенденция недельных колебаний требуемого количества машин: пятница и понедельник необходимо большое количество машин, во вторник спрос резко падает."
   ]
  },
  {
   "cell_type": "markdown",
   "metadata": {},
   "source": [
    "## Обучение\n",
    "\n",
    "На основе анализа примем следующие исходные данные для обучения модели предсказания количества машин в аэропорту:\n",
    "- в качестве признаков будем использовать день и месяц. Это позволит отображать текущий тренд\n",
    "- в признаки поставим день недели. Это позволит отражать \"сезонность\", недельный колебания.\n",
    "- для подбора параметров модели будем использовать глубину отстающих значений и размер окна скользящего среднего."
   ]
  },
  {
   "cell_type": "code",
   "execution_count": 251,
   "metadata": {},
   "outputs": [],
   "source": [
    "# функция принимает массив данных, добавляет в его копию признаки месяца, дня и дня недели,\n",
    "# а затем организует набор данных для обучения и тестирования модели\n",
    "def make_features(data, max_lag, rolling_mean_size):\n",
    "    data_def = data.copy()\n",
    "    data_def['month'] = data_def.index.month\n",
    "    data_def['day'] = data_def.index.day\n",
    "    data_def['hour'] = data_def.index.hour\n",
    "    data_def['dayofweek'] = data_def.index.dayofweek\n",
    "\n",
    "    #print('Сдвиг ',max_lag)\n",
    "    for lag in range(1, max_lag + 1):\n",
    "        data_def['lag_{}'.format(lag)] = data_def['num_orders'].shift(lag)\n",
    "\n",
    "    data_def['rolling_mean'] = data_def['num_orders'].shift().rolling(rolling_mean_size).mean()\n",
    "    train, test = train_test_split(data_def, shuffle=False, test_size=0.1)\n",
    "    train = train.dropna()\n",
    "\n",
    "    features_train = train.drop('num_orders', axis = 1)\n",
    "    features_test = test.drop('num_orders', axis = 1)\n",
    "    target_train = train['num_orders']\n",
    "    target_test = test['num_orders']\n",
    "    \n",
    "    return features_train, features_test,target_train, target_test\n"
   ]
  },
  {
   "cell_type": "markdown",
   "metadata": {},
   "source": [
    "Попробуем варьировать глубиной отставания и скользящим средним в разных пределах. Таким образом, мы сможем захватить как тренд, так и сезонность.\n",
    "\n",
    "Выведем параметры подбора в одно место\n",
    "\n",
    "### Модель линейной регрессии"
   ]
  },
  {
   "cell_type": "code",
   "execution_count": 252,
   "metadata": {},
   "outputs": [],
   "source": [
    "Min_roll = 80\n",
    "Max_roll = 150\n",
    "Step_roll = 10\n",
    "Min_lag = 20\n",
    "Max_lag = 100\n",
    "Step_lag = 10"
   ]
  },
  {
   "cell_type": "code",
   "execution_count": 253,
   "metadata": {
    "scrolled": false
   },
   "outputs": [
    {
     "name": "stdout",
     "output_type": "stream",
     "text": [
      "Параметры лучшей модели:\n",
      "Отставание:  80\n",
      "Ширина окна:  130\n",
      "RMSE обучающей выборки: 24.263090097317097\n"
     ]
    }
   ],
   "source": [
    "#%%time\n",
    "best_rmse_train = 120000\n",
    "for roll in range(Min_roll, Max_roll, Step_roll):\n",
    "    \n",
    "    for lag in range(Min_lag, Max_lag, Step_lag):\n",
    "        features_train, features_test,target_train, target_test = make_features(data, lag, roll)\n",
    "        \n",
    "        tscv = TimeSeriesSplit(n_splits = 5)\n",
    "        scores = []\n",
    "        for train_index, valid_index in tscv.split(features_train):\n",
    "            #print(\"TRAIN:\", train_index.min(),train_index.max(), \"TEST:\",valid_index.min(), valid_index.max())\n",
    "            #print('===========')\n",
    "            \n",
    "            features_train_cv = features_train.iloc[train_index]\n",
    "            features_valid_cv = features_train.iloc[valid_index]\n",
    "            target_train_cv = target_train.iloc[train_index]\n",
    "            target_valid_cv = target_train.iloc[valid_index]\n",
    "            #display(features_train_cv)\n",
    "            #display(target_train_cv)\n",
    "            \n",
    "            model = LinearRegression()\n",
    "            model.fit(features_train_cv,target_train_cv)\n",
    "            pred_valid = model.predict(features_valid_cv)\n",
    "            score = mean_squared_error(pred_valid, target_valid_cv)\n",
    "            scores.append(score)\n",
    "        rmse_train = pd.Series(scores).mean()\n",
    "        #print('Окно', roll, 'Отставание',lag,'Метрика',rmse_train**0.5)\n",
    "            \n",
    "        \n",
    "        if rmse_train < best_rmse_train:\n",
    "            best_model = model\n",
    "            best_rmse_train = rmse_train\n",
    "            best_roll = roll\n",
    "            best_lag = lag\n",
    "            best_features_test = features_test\n",
    "            best_target_test = target_test\n",
    "        \n",
    "print('Параметры лучшей модели:') \n",
    "print('Отставание: ', best_lag)\n",
    "print('Ширина окна: ', best_roll )\n",
    "print(\"RMSE обучающей выборки:\", best_rmse_train**0.5)\n",
    "\n"
   ]
  },
  {
   "cell_type": "markdown",
   "metadata": {},
   "source": [
    "### Модель решающего дерева\n",
    "\n",
    "Проведем аналогичную работу с моделью решающего дерева"
   ]
  },
  {
   "cell_type": "code",
   "execution_count": 254,
   "metadata": {},
   "outputs": [],
   "source": [
    "Min_roll = 80\n",
    "Max_roll = 150\n",
    "Step_roll = 10\n",
    "Min_lag = 20\n",
    "Max_lag = 100\n",
    "Step_lag = 10\n",
    "Min_depth = 1\n",
    "Max_depth = 7\n",
    "Step_depth = 1"
   ]
  },
  {
   "cell_type": "code",
   "execution_count": 255,
   "metadata": {
    "scrolled": true
   },
   "outputs": [
    {
     "name": "stdout",
     "output_type": "stream",
     "text": [
      "Параметры лучшей модели:\n",
      "Глубина 5\n",
      "Отставание:  90\n",
      "Ширина окна:  120\n",
      "RMSE обучающей выборки: 28.458950413154025\n"
     ]
    }
   ],
   "source": [
    "#%%time\n",
    "best_rmse_train_dt = 120000\n",
    "for depth in range(Min_depth, Max_depth, Step_depth):\n",
    "    \n",
    "    for roll in range(Min_roll, Max_roll, Step_roll):\n",
    "        \n",
    "        for lag in range(Min_lag, Max_lag, Step_lag):\n",
    "            features_train, features_test,target_train, target_test = make_features(data, lag, roll)\n",
    "            \n",
    "            tscv = TimeSeriesSplit(n_splits = 5)\n",
    "            scores = []\n",
    "            for train_index, valid_index in tscv.split(features_train):\n",
    "                #print(\"TRAIN:\", train_index.min(),train_index.max(), \"TEST:\",valid_index.min(), valid_index.max())\n",
    "                #print('===========')\n",
    "            \n",
    "                features_train_cv = features_train.iloc[train_index]\n",
    "                features_valid_cv = features_train.iloc[valid_index]\n",
    "                target_train_cv = target_train.iloc[train_index]\n",
    "                target_valid_cv = target_train.iloc[valid_index]\n",
    "                #display(features_train_cv)\n",
    "                #display(target_train_cv)\n",
    "            \n",
    "                model = DecisionTreeRegressor(random_state=12345, max_depth=depth)\n",
    "                model.fit(features_train_cv,target_train_cv)\n",
    "                pred_valid = model.predict(features_valid_cv)\n",
    "                score = mean_squared_error(pred_valid, target_valid_cv)\n",
    "                scores.append(score)\n",
    "            rmse_train = pd.Series(scores).mean()\n",
    "            \n",
    "        \n",
    "            if rmse_train < best_rmse_train_dt:\n",
    "                best_model_dt = model\n",
    "                best_depth = depth\n",
    "                best_rmse_train_dt = rmse_train\n",
    "                best_roll_dt = roll\n",
    "                best_lag_dt = lag\n",
    "                best_features_test_dt = features_test\n",
    "                best_target_test_dt = target_test\n",
    "                #print('Глубина', best_depth)\n",
    "                #print('Отставание: ', best_lag_dt)\n",
    "                #print('Ширина окна: ', best_roll_dt )\n",
    "                #print(\"RMSE обучающей выборки:\", best_rmse_train_dt**0.5)\n",
    "        \n",
    "print('Параметры лучшей модели:') \n",
    "print('Глубина', best_depth)\n",
    "print('Отставание: ', best_lag_dt)\n",
    "print('Ширина окна: ', best_roll_dt )\n",
    "print(\"RMSE обучающей выборки:\", best_rmse_train_dt**0.5)\n"
   ]
  },
  {
   "cell_type": "markdown",
   "metadata": {},
   "source": [
    "## Тестирование\n",
    "\n",
    "У нас сохранены лучшие параметры на тренировочной выборке для метода кросс-валидации  для дух моделей: линейной регрессии и решающего дерева. Проверим результаты на тестовой выборке\n",
    "\n",
    "### Тест на Линейной регрессии"
   ]
  },
  {
   "cell_type": "code",
   "execution_count": 270,
   "metadata": {},
   "outputs": [
    {
     "name": "stdout",
     "output_type": "stream",
     "text": [
      "RMSE тестовой выборки:  43.689982825427414\n"
     ]
    }
   ],
   "source": [
    "pred_test = best_model.predict(best_features_test)\n",
    "rmse_test = mean_squared_error(pred_test, best_target_test)\n",
    "print(\"RMSE тестовой выборки: \", rmse_test**0.5)"
   ]
  },
  {
   "cell_type": "code",
   "execution_count": 271,
   "metadata": {},
   "outputs": [
    {
     "data": {
      "image/png": "[encoded data removed]",
      "text/plain": [
       "<Figure size 432x576 with 2 Axes>"
      ]
     },
     "metadata": {
      "needs_background": "light"
     },
     "output_type": "display_data"
    }
   ],
   "source": [
    "plt.figure(figsize=(6, 8))\n",
    "plt.subplot(311)\n",
    "best_target_test.plot(ax=plt.gca())\n",
    "plt.title('Target')\n",
    "plt.subplot(312)\n",
    "pd.Series(pred_test).plot(ax=plt.gca()) # < напишите код здесь >\n",
    "plt.title('Predict')\n",
    "\n",
    "plt.tight_layout()"
   ]
  },
  {
   "cell_type": "markdown",
   "metadata": {},
   "source": [
    "### Тест на решающем дереве"
   ]
  },
  {
   "cell_type": "code",
   "execution_count": 268,
   "metadata": {},
   "outputs": [
    {
     "name": "stdout",
     "output_type": "stream",
     "text": [
      "RMSE тестовой выборки:  57.18180909990516\n"
     ]
    }
   ],
   "source": [
    "pred_test = best_model_dt.predict(best_features_test_dt)\n",
    "rmse_test = mean_squared_error(pred_test, best_target_test_dt)\n",
    "print(\"RMSE тестовой выборки: \", rmse_test**0.5)"
   ]
  },
  {
   "cell_type": "code",
   "execution_count": 269,
   "metadata": {
    "scrolled": true
   },
   "outputs": [
    {
     "data": {
      "image/png": "[encoded data removed]",
      "text/plain": [
       "<Figure size 432x576 with 2 Axes>"
      ]
     },
     "metadata": {
      "needs_background": "light"
     },
     "output_type": "display_data"
    }
   ],
   "source": [
    "plt.figure(figsize=(6, 8))\n",
    "plt.subplot(311)\n",
    "best_target_test_dt.plot(ax=plt.gca())\n",
    "plt.title('Target')\n",
    "plt.subplot(312)\n",
    "pd.Series(pred_test).plot(ax=plt.gca()) # < напишите код здесь >\n",
    "plt.title('Predict')\n",
    "\n",
    "plt.tight_layout()"
   ]
  },
  {
   "cell_type": "markdown",
   "metadata": {},
   "source": [
    "## Выводы\n",
    "\n",
    "Нам был представлен исторический массив почасовых данных заказанных такси в аэропорту. Необходимо было сделать анализ этих данных и разработать модель, позволяющую  предсказывать потребность в такси на определнный час. В качестве точности прогноза была установлена метрика RMSE не более 48\n",
    "\n",
    "При анализе данных были обнаружены две тенденции:\n",
    "- растуший тренд на такси в аэропорту\n",
    "- имеется ярко выраженая тенденция недельных колебаний требуемого количества машин: пятница и понедельник необходимо большое количество машин, во вторник спрос резко падает.\n",
    "\n",
    "Далее были построены две модели , предсказывающая необходимое количество машин. Массив данных был разделен в соотношении 9/1 на тренировочную и тестовую выборки. В качестве модели была принята линейная регрессия, в качестве гиперпараметров была принята глубина отстающих значений и размер окна скользящего среднего. Для тренировки использовалась кросс-валидация.\n",
    "\n",
    "В итоге было определено, что на модели решающего дерева результат на тестовой выборке 43,68, что полностью соответствует требованию задания. А вот решающее дерево показало на тестовой выборке горадо худший результат и не удовлетворяет условиям задачи.\n",
    "\n",
    "\n",
    "\n"
   ]
  },
  {
   "cell_type": "code",
   "execution_count": null,
   "metadata": {},
   "outputs": [],
   "source": []
  }
 ],
 "metadata": {
  "ExecuteTimeLog": [
   {
    "duration": 594,
    "start_time": "2022-01-19T15:55:06.023Z"
   },
   {
    "duration": 42,
    "start_time": "2022-01-19T15:57:12.236Z"
   },
   {
    "duration": 10,
    "start_time": "2022-01-19T15:59:50.072Z"
   },
   {
    "duration": 564,
    "start_time": "2022-01-20T09:21:52.401Z"
   },
   {
    "duration": 104,
    "start_time": "2022-01-20T09:21:52.967Z"
   },
   {
    "duration": 4,
    "start_time": "2022-01-20T09:21:53.074Z"
   },
   {
    "duration": 362,
    "start_time": "2022-01-20T09:30:54.032Z"
   },
   {
    "duration": 270,
    "start_time": "2022-01-20T09:34:54.883Z"
   },
   {
    "duration": 292,
    "start_time": "2022-01-20T09:45:28.414Z"
   },
   {
    "duration": 433,
    "start_time": "2022-01-20T09:46:03.789Z"
   },
   {
    "duration": 228,
    "start_time": "2022-01-20T09:46:11.326Z"
   },
   {
    "duration": 7,
    "start_time": "2022-01-20T09:47:24.971Z"
   },
   {
    "duration": 10,
    "start_time": "2022-01-20T09:48:21.505Z"
   },
   {
    "duration": 17,
    "start_time": "2022-01-20T09:48:42.666Z"
   },
   {
    "duration": 1063,
    "start_time": "2022-01-20T09:48:55.828Z"
   },
   {
    "duration": 251,
    "start_time": "2022-01-20T09:53:26.688Z"
   },
   {
    "duration": 133,
    "start_time": "2022-01-20T13:53:32.153Z"
   },
   {
    "duration": 294,
    "start_time": "2022-01-20T14:06:13.738Z"
   },
   {
    "duration": 3,
    "start_time": "2022-01-20T14:21:33.997Z"
   },
   {
    "duration": 73,
    "start_time": "2022-01-20T14:21:49.626Z"
   },
   {
    "duration": 5,
    "start_time": "2022-01-20T14:24:33.247Z"
   },
   {
    "duration": 2,
    "start_time": "2022-01-20T14:24:40.288Z"
   },
   {
    "duration": 3,
    "start_time": "2022-01-20T14:25:03.676Z"
   },
   {
    "duration": 247,
    "start_time": "2022-01-20T14:25:04.879Z"
   },
   {
    "duration": 6,
    "start_time": "2022-01-20T14:26:51.117Z"
   },
   {
    "duration": 3,
    "start_time": "2022-01-20T14:26:54.476Z"
   },
   {
    "duration": 645,
    "start_time": "2022-01-20T14:26:57.616Z"
   },
   {
    "duration": 243,
    "start_time": "2022-01-20T14:27:53.587Z"
   },
   {
    "duration": 5,
    "start_time": "2022-01-20T14:28:04.110Z"
   },
   {
    "duration": 3,
    "start_time": "2022-01-20T14:28:07.409Z"
   },
   {
    "duration": 232,
    "start_time": "2022-01-20T14:28:11.460Z"
   },
   {
    "duration": 5,
    "start_time": "2022-01-20T14:35:13.902Z"
   },
   {
    "duration": 4,
    "start_time": "2022-01-20T14:35:16.725Z"
   },
   {
    "duration": 661,
    "start_time": "2022-01-20T14:35:26.504Z"
   },
   {
    "duration": 3,
    "start_time": "2022-01-20T14:36:33.372Z"
   },
   {
    "duration": 7878,
    "start_time": "2022-01-20T14:36:36.388Z"
   },
   {
    "duration": 7863,
    "start_time": "2022-01-20T14:38:44.504Z"
   },
   {
    "duration": 4,
    "start_time": "2022-01-20T14:40:48.659Z"
   },
   {
    "duration": 9603,
    "start_time": "2022-01-20T14:40:52.370Z"
   },
   {
    "duration": 10420,
    "start_time": "2022-01-20T14:42:46.247Z"
   },
   {
    "duration": 120,
    "start_time": "2022-01-20T14:46:43.532Z"
   },
   {
    "duration": 5,
    "start_time": "2022-01-20T14:46:59.110Z"
   },
   {
    "duration": 3,
    "start_time": "2022-01-20T14:47:02.733Z"
   },
   {
    "duration": 576,
    "start_time": "2022-01-20T14:47:06.795Z"
   },
   {
    "duration": 3,
    "start_time": "2022-01-20T14:48:00.833Z"
   },
   {
    "duration": 304,
    "start_time": "2022-01-20T14:48:06.863Z"
   },
   {
    "duration": 3,
    "start_time": "2022-01-20T14:49:03.474Z"
   },
   {
    "duration": 3,
    "start_time": "2022-01-20T14:50:54.051Z"
   },
   {
    "duration": 1144,
    "start_time": "2022-01-20T14:50:58.823Z"
   },
   {
    "duration": 5,
    "start_time": "2022-01-20T14:51:29.513Z"
   },
   {
    "duration": 4,
    "start_time": "2022-01-20T14:51:34.550Z"
   },
   {
    "duration": 418,
    "start_time": "2022-01-20T14:51:38.951Z"
   },
   {
    "duration": 5,
    "start_time": "2022-01-20T14:52:28.271Z"
   },
   {
    "duration": 4,
    "start_time": "2022-01-20T14:52:30.912Z"
   },
   {
    "duration": 1504,
    "start_time": "2022-01-20T14:52:34.166Z"
   },
   {
    "duration": 6,
    "start_time": "2022-01-20T14:54:55.137Z"
   },
   {
    "duration": 3,
    "start_time": "2022-01-20T14:54:57.272Z"
   },
   {
    "duration": 1719,
    "start_time": "2022-01-20T14:55:00.443Z"
   },
   {
    "duration": 5,
    "start_time": "2022-01-20T14:55:54.671Z"
   },
   {
    "duration": 3,
    "start_time": "2022-01-20T14:55:56.919Z"
   },
   {
    "duration": 1520,
    "start_time": "2022-01-20T14:55:58.650Z"
   },
   {
    "duration": 4,
    "start_time": "2022-01-20T14:56:55.286Z"
   },
   {
    "duration": 131,
    "start_time": "2022-01-20T14:56:55.291Z"
   },
   {
    "duration": 309,
    "start_time": "2022-01-20T14:56:55.567Z"
   },
   {
    "duration": 293,
    "start_time": "2022-01-20T14:56:55.878Z"
   },
   {
    "duration": 16,
    "start_time": "2022-01-20T14:56:56.172Z"
   },
   {
    "duration": 939,
    "start_time": "2022-01-20T14:56:56.189Z"
   },
   {
    "duration": 265,
    "start_time": "2022-01-20T14:56:57.129Z"
   },
   {
    "duration": 6,
    "start_time": "2022-01-20T14:56:57.396Z"
   },
   {
    "duration": 58,
    "start_time": "2022-01-20T14:56:57.404Z"
   },
   {
    "duration": 1100,
    "start_time": "2022-01-20T14:56:57.463Z"
   },
   {
    "duration": 6,
    "start_time": "2022-01-20T14:58:27.630Z"
   },
   {
    "duration": 3,
    "start_time": "2022-01-20T14:58:29.112Z"
   },
   {
    "duration": 9294,
    "start_time": "2022-01-20T14:58:31.676Z"
   },
   {
    "duration": 10050,
    "start_time": "2022-01-20T14:59:05.118Z"
   },
   {
    "duration": 6,
    "start_time": "2022-01-20T14:59:18.237Z"
   },
   {
    "duration": 5,
    "start_time": "2022-01-20T14:59:29.015Z"
   },
   {
    "duration": 3,
    "start_time": "2022-01-20T14:59:34.231Z"
   },
   {
    "duration": 8761,
    "start_time": "2022-01-20T14:59:38.409Z"
   },
   {
    "duration": 3,
    "start_time": "2022-01-20T15:01:04.829Z"
   },
   {
    "duration": 8445,
    "start_time": "2022-01-20T15:01:08.529Z"
   },
   {
    "duration": 3,
    "start_time": "2022-01-20T15:02:02.324Z"
   },
   {
    "duration": 8282,
    "start_time": "2022-01-20T15:02:05.584Z"
   },
   {
    "duration": 3,
    "start_time": "2022-01-20T15:05:01.989Z"
   },
   {
    "duration": 175,
    "start_time": "2022-01-20T15:05:06.389Z"
   },
   {
    "duration": 3,
    "start_time": "2022-01-20T15:06:15.700Z"
   },
   {
    "duration": 1183,
    "start_time": "2022-01-20T15:06:19.086Z"
   },
   {
    "duration": 3,
    "start_time": "2022-01-20T15:06:57.090Z"
   },
   {
    "duration": 97,
    "start_time": "2022-01-20T15:06:57.095Z"
   },
   {
    "duration": 321,
    "start_time": "2022-01-20T15:06:57.194Z"
   },
   {
    "duration": 369,
    "start_time": "2022-01-20T15:06:57.517Z"
   },
   {
    "duration": 17,
    "start_time": "2022-01-20T15:06:57.887Z"
   },
   {
    "duration": 941,
    "start_time": "2022-01-20T15:06:57.906Z"
   },
   {
    "duration": 276,
    "start_time": "2022-01-20T15:06:58.849Z"
   },
   {
    "duration": 6,
    "start_time": "2022-01-20T15:06:59.127Z"
   },
   {
    "duration": 41,
    "start_time": "2022-01-20T15:06:59.134Z"
   },
   {
    "duration": 604,
    "start_time": "2022-01-20T15:06:59.177Z"
   },
   {
    "duration": 592,
    "start_time": "2022-01-20T15:09:42.086Z"
   },
   {
    "duration": 12,
    "start_time": "2022-01-20T15:10:53.010Z"
   },
   {
    "duration": 5,
    "start_time": "2022-01-20T15:15:36.499Z"
   },
   {
    "duration": 3,
    "start_time": "2022-01-20T15:15:41.117Z"
   },
   {
    "duration": 89,
    "start_time": "2022-01-20T15:15:41.122Z"
   },
   {
    "duration": 301,
    "start_time": "2022-01-20T15:15:41.213Z"
   },
   {
    "duration": 281,
    "start_time": "2022-01-20T15:15:41.516Z"
   },
   {
    "duration": 18,
    "start_time": "2022-01-20T15:15:41.799Z"
   },
   {
    "duration": 1024,
    "start_time": "2022-01-20T15:15:41.819Z"
   },
   {
    "duration": 348,
    "start_time": "2022-01-20T15:15:42.845Z"
   },
   {
    "duration": 5,
    "start_time": "2022-01-20T15:15:43.196Z"
   },
   {
    "duration": 78,
    "start_time": "2022-01-20T15:15:43.203Z"
   },
   {
    "duration": 468,
    "start_time": "2022-01-20T15:15:43.282Z"
   },
   {
    "duration": -20,
    "start_time": "2022-01-20T15:15:43.772Z"
   },
   {
    "duration": 6,
    "start_time": "2022-01-20T15:16:43.142Z"
   },
   {
    "duration": 577,
    "start_time": "2022-01-20T15:16:48.397Z"
   },
   {
    "duration": 732,
    "start_time": "2022-01-20T15:17:59.632Z"
   },
   {
    "duration": 3,
    "start_time": "2022-01-20T15:18:57.266Z"
   },
   {
    "duration": 1450,
    "start_time": "2022-01-20T15:19:00.452Z"
   },
   {
    "duration": 6,
    "start_time": "2022-01-20T15:20:29.960Z"
   },
   {
    "duration": 4,
    "start_time": "2022-01-20T15:20:32.330Z"
   },
   {
    "duration": 14856,
    "start_time": "2022-01-20T15:20:37.608Z"
   },
   {
    "duration": 3,
    "start_time": "2022-01-20T15:21:50.798Z"
   },
   {
    "duration": 33136,
    "start_time": "2022-01-20T15:21:55.532Z"
   },
   {
    "duration": 39029,
    "start_time": "2022-01-20T15:23:31.340Z"
   },
   {
    "duration": 3,
    "start_time": "2022-01-20T15:26:44.972Z"
   },
   {
    "duration": 124727,
    "start_time": "2022-01-20T15:26:48.235Z"
   },
   {
    "duration": 124377,
    "start_time": "2022-01-20T15:42:57.593Z"
   },
   {
    "duration": 3,
    "start_time": "2022-01-20T15:46:45.072Z"
   },
   {
    "duration": 4,
    "start_time": "2022-01-20T15:46:48.879Z"
   },
   {
    "duration": 188930,
    "start_time": "2022-01-20T15:46:52.440Z"
   },
   {
    "duration": 181162,
    "start_time": "2022-01-20T15:53:27.206Z"
   },
   {
    "duration": 3,
    "start_time": "2022-01-20T15:58:22.460Z"
   },
   {
    "duration": 214968,
    "start_time": "2022-01-20T15:58:24.597Z"
   },
   {
    "duration": 3,
    "start_time": "2022-01-20T16:04:58.926Z"
   },
   {
    "duration": 83671,
    "start_time": "2022-01-20T16:05:00.105Z"
   },
   {
    "duration": 7,
    "start_time": "2022-01-20T16:12:33.870Z"
   },
   {
    "duration": 3,
    "start_time": "2022-01-20T16:16:42.158Z"
   },
   {
    "duration": 92014,
    "start_time": "2022-01-20T16:17:16.856Z"
   },
   {
    "duration": 7,
    "start_time": "2022-01-20T16:19:35.678Z"
   },
   {
    "duration": 4,
    "start_time": "2022-01-20T16:22:12.802Z"
   },
   {
    "duration": 56,
    "start_time": "2022-01-20T16:22:12.807Z"
   },
   {
    "duration": 288,
    "start_time": "2022-01-20T16:22:12.906Z"
   },
   {
    "duration": 265,
    "start_time": "2022-01-20T16:22:13.195Z"
   },
   {
    "duration": 911,
    "start_time": "2022-01-20T16:22:13.462Z"
   },
   {
    "duration": 266,
    "start_time": "2022-01-20T16:22:14.375Z"
   },
   {
    "duration": 5,
    "start_time": "2022-01-20T16:22:14.643Z"
   },
   {
    "duration": 7,
    "start_time": "2022-01-20T16:22:14.650Z"
   },
   {
    "duration": 89000,
    "start_time": "2022-01-20T16:22:14.661Z"
   },
   {
    "duration": 99,
    "start_time": "2022-01-20T16:23:43.663Z"
   },
   {
    "duration": 8,
    "start_time": "2022-01-20T16:26:00.134Z"
   },
   {
    "duration": 3,
    "start_time": "2022-01-20T16:26:56.342Z"
   },
   {
    "duration": 107,
    "start_time": "2022-01-20T16:26:56.348Z"
   },
   {
    "duration": 374,
    "start_time": "2022-01-20T16:26:56.457Z"
   },
   {
    "duration": 343,
    "start_time": "2022-01-20T16:26:56.833Z"
   },
   {
    "duration": 1148,
    "start_time": "2022-01-20T16:26:57.178Z"
   },
   {
    "duration": 283,
    "start_time": "2022-01-20T16:26:58.328Z"
   },
   {
    "duration": 6,
    "start_time": "2022-01-20T16:26:58.614Z"
   },
   {
    "duration": 76,
    "start_time": "2022-01-20T16:26:58.622Z"
   },
   {
    "duration": 91161,
    "start_time": "2022-01-20T16:26:58.701Z"
   },
   {
    "duration": 100,
    "start_time": "2022-01-20T16:28:29.864Z"
   },
   {
    "duration": 295,
    "start_time": "2022-01-20T19:29:39.405Z"
   },
   {
    "duration": 4,
    "start_time": "2022-01-20T19:37:29.387Z"
   },
   {
    "duration": 88,
    "start_time": "2022-01-20T19:37:29.395Z"
   },
   {
    "duration": 310,
    "start_time": "2022-01-20T19:37:29.485Z"
   },
   {
    "duration": 263,
    "start_time": "2022-01-20T19:37:29.797Z"
   },
   {
    "duration": 938,
    "start_time": "2022-01-20T19:37:30.062Z"
   },
   {
    "duration": 276,
    "start_time": "2022-01-20T19:37:31.002Z"
   },
   {
    "duration": 6,
    "start_time": "2022-01-20T19:37:31.279Z"
   },
   {
    "duration": 31,
    "start_time": "2022-01-20T19:37:31.286Z"
   },
   {
    "duration": 89347,
    "start_time": "2022-01-20T19:37:31.319Z"
   },
   {
    "duration": 92,
    "start_time": "2022-01-20T19:39:00.669Z"
   },
   {
    "duration": 4,
    "start_time": "2022-01-21T10:56:37.662Z"
   },
   {
    "duration": 118,
    "start_time": "2022-01-21T10:56:37.668Z"
   },
   {
    "duration": 314,
    "start_time": "2022-01-21T10:56:37.788Z"
   },
   {
    "duration": 263,
    "start_time": "2022-01-21T10:56:38.104Z"
   },
   {
    "duration": 1089,
    "start_time": "2022-01-21T10:56:38.369Z"
   },
   {
    "duration": 314,
    "start_time": "2022-01-21T10:56:39.461Z"
   },
   {
    "duration": 6,
    "start_time": "2022-01-21T10:56:39.778Z"
   },
   {
    "duration": 56,
    "start_time": "2022-01-21T10:56:39.785Z"
   },
   {
    "duration": 350,
    "start_time": "2022-01-21T10:56:47.143Z"
   },
   {
    "duration": 4,
    "start_time": "2022-01-21T10:57:52.030Z"
   },
   {
    "duration": 22936,
    "start_time": "2022-01-21T10:58:22.856Z"
   },
   {
    "duration": 3,
    "start_time": "2022-01-21T12:07:20.394Z"
   },
   {
    "duration": 326,
    "start_time": "2022-01-21T12:07:24.667Z"
   },
   {
    "duration": 360,
    "start_time": "2022-01-21T12:10:36.079Z"
   },
   {
    "duration": 332,
    "start_time": "2022-01-21T12:12:59.640Z"
   },
   {
    "duration": 356,
    "start_time": "2022-01-21T12:16:12.817Z"
   },
   {
    "duration": 85,
    "start_time": "2022-01-21T12:17:50.525Z"
   },
   {
    "duration": 362,
    "start_time": "2022-01-21T12:18:08.327Z"
   },
   {
    "duration": 4,
    "start_time": "2022-01-21T12:18:28.768Z"
   },
   {
    "duration": 79,
    "start_time": "2022-01-21T12:18:28.774Z"
   },
   {
    "duration": 278,
    "start_time": "2022-01-21T12:18:28.855Z"
   },
   {
    "duration": 259,
    "start_time": "2022-01-21T12:18:29.134Z"
   },
   {
    "duration": 947,
    "start_time": "2022-01-21T12:18:29.395Z"
   },
   {
    "duration": 275,
    "start_time": "2022-01-21T12:18:30.344Z"
   },
   {
    "duration": 5,
    "start_time": "2022-01-21T12:18:30.621Z"
   },
   {
    "duration": 32,
    "start_time": "2022-01-21T12:18:30.628Z"
   },
   {
    "duration": 373,
    "start_time": "2022-01-21T12:18:34.892Z"
   },
   {
    "duration": 576,
    "start_time": "2022-01-21T12:20:12.948Z"
   },
   {
    "duration": 3,
    "start_time": "2022-01-21T12:21:42.959Z"
   },
   {
    "duration": 302,
    "start_time": "2022-01-21T12:21:45.386Z"
   },
   {
    "duration": 482,
    "start_time": "2022-01-21T12:24:55.932Z"
   },
   {
    "duration": 323,
    "start_time": "2022-01-21T12:25:38.366Z"
   },
   {
    "duration": 261,
    "start_time": "2022-01-21T12:27:24.315Z"
   },
   {
    "duration": 346,
    "start_time": "2022-01-21T12:36:07.429Z"
   },
   {
    "duration": 351,
    "start_time": "2022-01-21T13:02:20.618Z"
   },
   {
    "duration": 278,
    "start_time": "2022-01-21T13:03:55.173Z"
   },
   {
    "duration": 333,
    "start_time": "2022-01-21T13:04:16.153Z"
   },
   {
    "duration": 279,
    "start_time": "2022-01-21T13:08:56.959Z"
   },
   {
    "duration": 273,
    "start_time": "2022-01-21T13:09:47.738Z"
   },
   {
    "duration": 831,
    "start_time": "2022-01-21T13:10:22.452Z"
   },
   {
    "duration": 766,
    "start_time": "2022-01-21T13:13:40.821Z"
   },
   {
    "duration": 694,
    "start_time": "2022-01-21T13:14:46.594Z"
   },
   {
    "duration": 771,
    "start_time": "2022-01-21T13:16:11.729Z"
   },
   {
    "duration": 1190,
    "start_time": "2022-01-21T13:20:38.187Z"
   },
   {
    "duration": 393,
    "start_time": "2022-01-21T13:22:20.106Z"
   },
   {
    "duration": 265,
    "start_time": "2022-01-21T13:24:32.212Z"
   },
   {
    "duration": 356,
    "start_time": "2022-01-21T13:27:01.626Z"
   },
   {
    "duration": 364,
    "start_time": "2022-01-21T13:27:19.919Z"
   },
   {
    "duration": 3,
    "start_time": "2022-01-21T13:32:09.785Z"
   },
   {
    "duration": 8203,
    "start_time": "2022-01-21T13:32:12.783Z"
   },
   {
    "duration": 7,
    "start_time": "2022-01-21T13:32:41.546Z"
   },
   {
    "duration": 6,
    "start_time": "2022-01-21T13:33:08.031Z"
   },
   {
    "duration": 226,
    "start_time": "2022-01-21T13:35:41.772Z"
   },
   {
    "duration": 8068,
    "start_time": "2022-01-21T13:35:54.007Z"
   },
   {
    "duration": 12,
    "start_time": "2022-01-21T13:36:08.414Z"
   },
   {
    "duration": 3,
    "start_time": "2022-01-21T13:37:03.437Z"
   },
   {
    "duration": 139938,
    "start_time": "2022-01-21T13:37:06.138Z"
   },
   {
    "duration": 10,
    "start_time": "2022-01-21T13:40:43.805Z"
   },
   {
    "duration": 7,
    "start_time": "2022-01-21T13:43:36.663Z"
   },
   {
    "duration": 113657,
    "start_time": "2022-01-21T13:43:39.318Z"
   },
   {
    "duration": 7,
    "start_time": "2022-01-21T13:45:49.721Z"
   },
   {
    "duration": 4,
    "start_time": "2022-01-21T13:50:37.842Z"
   },
   {
    "duration": 113756,
    "start_time": "2022-01-21T13:50:38.910Z"
   },
   {
    "duration": 16,
    "start_time": "2022-01-21T13:52:48.042Z"
   },
   {
    "duration": 3,
    "start_time": "2022-01-21T15:22:20.455Z"
   },
   {
    "duration": 138997,
    "start_time": "2022-01-21T15:22:22.982Z"
   },
   {
    "duration": 10,
    "start_time": "2022-01-21T15:25:04.627Z"
   },
   {
    "duration": 3,
    "start_time": "2022-01-21T15:33:36.640Z"
   },
   {
    "duration": 272,
    "start_time": "2022-01-21T15:33:40.443Z"
   },
   {
    "duration": 19,
    "start_time": "2022-01-21T15:34:47.033Z"
   },
   {
    "duration": 3,
    "start_time": "2022-01-21T15:34:56.173Z"
   },
   {
    "duration": 21791,
    "start_time": "2022-01-21T15:34:58.864Z"
   },
   {
    "duration": 21363,
    "start_time": "2022-01-21T15:41:32.560Z"
   },
   {
    "duration": 21043,
    "start_time": "2022-01-21T15:43:05.661Z"
   },
   {
    "duration": 6,
    "start_time": "2022-01-21T15:48:08.679Z"
   },
   {
    "duration": 6,
    "start_time": "2022-01-21T15:48:47.831Z"
   },
   {
    "duration": 3,
    "start_time": "2022-01-21T15:51:20.544Z"
   },
   {
    "duration": 87377,
    "start_time": "2022-01-21T15:52:34.751Z"
   },
   {
    "duration": 7,
    "start_time": "2022-01-21T15:55:07.033Z"
   },
   {
    "duration": 3,
    "start_time": "2022-01-21T16:03:54.173Z"
   },
   {
    "duration": 113,
    "start_time": "2022-01-21T16:03:54.178Z"
   },
   {
    "duration": 303,
    "start_time": "2022-01-21T16:03:54.294Z"
   },
   {
    "duration": 457,
    "start_time": "2022-01-21T16:03:54.599Z"
   },
   {
    "duration": 1100,
    "start_time": "2022-01-21T16:03:55.060Z"
   },
   {
    "duration": 323,
    "start_time": "2022-01-21T16:03:56.162Z"
   },
   {
    "duration": 6,
    "start_time": "2022-01-21T16:03:56.488Z"
   },
   {
    "duration": 38,
    "start_time": "2022-01-21T16:03:56.496Z"
   },
   {
    "duration": 105539,
    "start_time": "2022-01-21T16:03:56.535Z"
   },
   {
    "duration": 84,
    "start_time": "2022-01-21T16:05:42.077Z"
   },
   {
    "duration": 63691,
    "start_time": "2022-01-21T16:05:42.164Z"
   },
   {
    "duration": 6,
    "start_time": "2022-01-21T16:06:45.857Z"
   },
   {
    "duration": 16,
    "start_time": "2022-01-21T16:06:45.865Z"
   },
   {
    "duration": 568,
    "start_time": "2022-01-21T16:12:56.189Z"
   },
   {
    "duration": 568,
    "start_time": "2022-01-21T16:13:59.223Z"
   },
   {
    "duration": 222,
    "start_time": "2022-01-21T16:21:37.892Z"
   },
   {
    "duration": 410,
    "start_time": "2022-01-21T16:22:39.569Z"
   },
   {
    "duration": 224,
    "start_time": "2022-01-21T16:23:44.344Z"
   },
   {
    "duration": 207,
    "start_time": "2022-01-21T16:24:37.600Z"
   },
   {
    "duration": 224,
    "start_time": "2022-01-21T16:25:56.543Z"
   },
   {
    "duration": 13,
    "start_time": "2022-01-21T16:26:24.722Z"
   },
   {
    "duration": 14,
    "start_time": "2022-01-21T16:27:57.061Z"
   },
   {
    "duration": 579,
    "start_time": "2022-01-21T16:30:38.481Z"
   },
   {
    "duration": 6,
    "start_time": "2022-01-21T16:31:14.486Z"
   },
   {
    "duration": 526,
    "start_time": "2022-01-21T16:31:15.420Z"
   },
   {
    "duration": 61,
    "start_time": "2022-01-21T16:31:25.503Z"
   },
   {
    "duration": 698,
    "start_time": "2022-01-21T16:31:26.368Z"
   }
  ],
  "kernelspec": {
   "display_name": "Python 3",
   "language": "python",
   "name": "python3"
  },
  "language_info": {
   "codemirror_mode": {
    "name": "ipython",
    "version": 3
   },
   "file_extension": ".py",
   "mimetype": "text/x-python",
   "name": "python",
   "nbconvert_exporter": "python",
   "pygments_lexer": "ipython3",
   "version": "3.8.8"
  },
  "toc": {
   "base_numbering": 1,
   "nav_menu": {},
   "number_sections": true,
   "sideBar": true,
   "skip_h1_title": true,
   "title_cell": "Содержание",
   "title_sidebar": "Contents",
   "toc_cell": true,
   "toc_position": {},
   "toc_section_display": true,
   "toc_window_display": false
  }
 },
 "nbformat": 4,
 "nbformat_minor": 2
}
